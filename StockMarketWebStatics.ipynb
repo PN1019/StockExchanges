{
  "nbformat": 4,
  "nbformat_minor": 0,
  "metadata": {
    "colab": {
      "name": "StockMarketWebStatics.ipynb",
      "provenance": [],
      "authorship_tag": "ABX9TyNmCcDbo+D/gJ9ouCD6Wml3",
      "include_colab_link": true
    },
    "kernelspec": {
      "name": "python3",
      "display_name": "Python 3"
    },
    "language_info": {
      "name": "python"
    }
  },
  "cells": [
    {
      "cell_type": "markdown",
      "metadata": {
        "id": "view-in-github",
        "colab_type": "text"
      },
      "source": [
        "<a href=\"https://colab.research.google.com/github/PN1019/StockExchanges/blob/main/StockMarketWebStatics.ipynb\" target=\"_parent\"><img src=\"https://colab.research.google.com/assets/colab-badge.svg\" alt=\"Open In Colab\"/></a>"
      ]
    },
    {
      "cell_type": "code",
      "metadata": {
        "id": "kAR3c2YZqmvr"
      },
      "source": [
        "import pandas as pd\n",
        "import numpy as np\n",
        "%matplotlib inline\n",
        "import matplotlib.pyplot as plt\n",
        "import seaborn as sns\n",
        "import pandas_datareader as DataReader\n",
        "from datetime import date\n",
        "import pandas_datareader.data as web\n",
        "import matplotlib.figure as figure\n"
      ],
      "execution_count": 1,
      "outputs": []
    },
    {
      "cell_type": "code",
      "metadata": {
        "colab": {
          "base_uri": "https://localhost:8080/"
        },
        "id": "oQND9a2ar64d",
        "outputId": "5a012343-4cff-4639-e165-3916f5f64e51"
      },
      "source": [
        " pip install plotly"
      ],
      "execution_count": 5,
      "outputs": [
        {
          "output_type": "stream",
          "text": [
            "Requirement already satisfied: plotly in /usr/local/lib/python3.7/dist-packages (4.4.1)\n",
            "Requirement already satisfied: six in /usr/local/lib/python3.7/dist-packages (from plotly) (1.15.0)\n",
            "Requirement already satisfied: retrying>=1.3.3 in /usr/local/lib/python3.7/dist-packages (from plotly) (1.3.3)\n"
          ],
          "name": "stdout"
        }
      ]
    },
    {
      "cell_type": "code",
      "metadata": {
        "colab": {
          "base_uri": "https://localhost:8080/"
        },
        "id": "RgyUlO8Sr61q",
        "outputId": "6c70a548-348f-4736-abc0-7df8abb651f8"
      },
      "source": [
        " pip install cufflinks"
      ],
      "execution_count": 4,
      "outputs": [
        {
          "output_type": "stream",
          "text": [
            "Requirement already satisfied: cufflinks in /usr/local/lib/python3.7/dist-packages (0.17.3)\n",
            "Requirement already satisfied: numpy>=1.9.2 in /usr/local/lib/python3.7/dist-packages (from cufflinks) (1.19.5)\n",
            "Requirement already satisfied: colorlover>=0.2.1 in /usr/local/lib/python3.7/dist-packages (from cufflinks) (0.3.0)\n",
            "Requirement already satisfied: pandas>=0.19.2 in /usr/local/lib/python3.7/dist-packages (from cufflinks) (1.1.5)\n",
            "Requirement already satisfied: plotly>=4.1.1 in /usr/local/lib/python3.7/dist-packages (from cufflinks) (4.4.1)\n",
            "Requirement already satisfied: six>=1.9.0 in /usr/local/lib/python3.7/dist-packages (from cufflinks) (1.15.0)\n",
            "Requirement already satisfied: ipywidgets>=7.0.0 in /usr/local/lib/python3.7/dist-packages (from cufflinks) (7.6.3)\n",
            "Requirement already satisfied: ipython>=5.3.0 in /usr/local/lib/python3.7/dist-packages (from cufflinks) (5.5.0)\n",
            "Requirement already satisfied: setuptools>=34.4.1 in /usr/local/lib/python3.7/dist-packages (from cufflinks) (54.2.0)\n",
            "Requirement already satisfied: pytz>=2017.2 in /usr/local/lib/python3.7/dist-packages (from pandas>=0.19.2->cufflinks) (2018.9)\n",
            "Requirement already satisfied: python-dateutil>=2.7.3 in /usr/local/lib/python3.7/dist-packages (from pandas>=0.19.2->cufflinks) (2.8.1)\n",
            "Requirement already satisfied: retrying>=1.3.3 in /usr/local/lib/python3.7/dist-packages (from plotly>=4.1.1->cufflinks) (1.3.3)\n",
            "Requirement already satisfied: widgetsnbextension~=3.5.0 in /usr/local/lib/python3.7/dist-packages (from ipywidgets>=7.0.0->cufflinks) (3.5.1)\n",
            "Requirement already satisfied: traitlets>=4.3.1 in /usr/local/lib/python3.7/dist-packages (from ipywidgets>=7.0.0->cufflinks) (5.0.5)\n",
            "Requirement already satisfied: jupyterlab-widgets>=1.0.0; python_version >= \"3.6\" in /usr/local/lib/python3.7/dist-packages (from ipywidgets>=7.0.0->cufflinks) (1.0.0)\n",
            "Requirement already satisfied: nbformat>=4.2.0 in /usr/local/lib/python3.7/dist-packages (from ipywidgets>=7.0.0->cufflinks) (5.1.3)\n",
            "Requirement already satisfied: ipykernel>=4.5.1 in /usr/local/lib/python3.7/dist-packages (from ipywidgets>=7.0.0->cufflinks) (4.10.1)\n",
            "Requirement already satisfied: pygments in /usr/local/lib/python3.7/dist-packages (from ipython>=5.3.0->cufflinks) (2.6.1)\n",
            "Requirement already satisfied: prompt-toolkit<2.0.0,>=1.0.4 in /usr/local/lib/python3.7/dist-packages (from ipython>=5.3.0->cufflinks) (1.0.18)\n",
            "Requirement already satisfied: simplegeneric>0.8 in /usr/local/lib/python3.7/dist-packages (from ipython>=5.3.0->cufflinks) (0.8.1)\n",
            "Requirement already satisfied: decorator in /usr/local/lib/python3.7/dist-packages (from ipython>=5.3.0->cufflinks) (4.4.2)\n",
            "Requirement already satisfied: pexpect; sys_platform != \"win32\" in /usr/local/lib/python3.7/dist-packages (from ipython>=5.3.0->cufflinks) (4.8.0)\n",
            "Requirement already satisfied: pickleshare in /usr/local/lib/python3.7/dist-packages (from ipython>=5.3.0->cufflinks) (0.7.5)\n",
            "Requirement already satisfied: notebook>=4.4.1 in /usr/local/lib/python3.7/dist-packages (from widgetsnbextension~=3.5.0->ipywidgets>=7.0.0->cufflinks) (5.3.1)\n",
            "Requirement already satisfied: ipython-genutils in /usr/local/lib/python3.7/dist-packages (from traitlets>=4.3.1->ipywidgets>=7.0.0->cufflinks) (0.2.0)\n",
            "Requirement already satisfied: jsonschema!=2.5.0,>=2.4 in /usr/local/lib/python3.7/dist-packages (from nbformat>=4.2.0->ipywidgets>=7.0.0->cufflinks) (2.6.0)\n",
            "Requirement already satisfied: jupyter-core in /usr/local/lib/python3.7/dist-packages (from nbformat>=4.2.0->ipywidgets>=7.0.0->cufflinks) (4.7.1)\n",
            "Requirement already satisfied: tornado>=4.0 in /usr/local/lib/python3.7/dist-packages (from ipykernel>=4.5.1->ipywidgets>=7.0.0->cufflinks) (5.1.1)\n",
            "Requirement already satisfied: jupyter-client in /usr/local/lib/python3.7/dist-packages (from ipykernel>=4.5.1->ipywidgets>=7.0.0->cufflinks) (5.3.5)\n",
            "Requirement already satisfied: wcwidth in /usr/local/lib/python3.7/dist-packages (from prompt-toolkit<2.0.0,>=1.0.4->ipython>=5.3.0->cufflinks) (0.2.5)\n",
            "Requirement already satisfied: ptyprocess>=0.5 in /usr/local/lib/python3.7/dist-packages (from pexpect; sys_platform != \"win32\"->ipython>=5.3.0->cufflinks) (0.7.0)\n",
            "Requirement already satisfied: terminado>=0.8.1 in /usr/local/lib/python3.7/dist-packages (from notebook>=4.4.1->widgetsnbextension~=3.5.0->ipywidgets>=7.0.0->cufflinks) (0.9.4)\n",
            "Requirement already satisfied: Send2Trash in /usr/local/lib/python3.7/dist-packages (from notebook>=4.4.1->widgetsnbextension~=3.5.0->ipywidgets>=7.0.0->cufflinks) (1.5.0)\n",
            "Requirement already satisfied: nbconvert in /usr/local/lib/python3.7/dist-packages (from notebook>=4.4.1->widgetsnbextension~=3.5.0->ipywidgets>=7.0.0->cufflinks) (5.6.1)\n",
            "Requirement already satisfied: jinja2 in /usr/local/lib/python3.7/dist-packages (from notebook>=4.4.1->widgetsnbextension~=3.5.0->ipywidgets>=7.0.0->cufflinks) (2.11.3)\n",
            "Requirement already satisfied: pyzmq>=13 in /usr/local/lib/python3.7/dist-packages (from jupyter-client->ipykernel>=4.5.1->ipywidgets>=7.0.0->cufflinks) (22.0.3)\n",
            "Requirement already satisfied: testpath in /usr/local/lib/python3.7/dist-packages (from nbconvert->notebook>=4.4.1->widgetsnbextension~=3.5.0->ipywidgets>=7.0.0->cufflinks) (0.4.4)\n",
            "Requirement already satisfied: defusedxml in /usr/local/lib/python3.7/dist-packages (from nbconvert->notebook>=4.4.1->widgetsnbextension~=3.5.0->ipywidgets>=7.0.0->cufflinks) (0.7.1)\n",
            "Requirement already satisfied: mistune<2,>=0.8.1 in /usr/local/lib/python3.7/dist-packages (from nbconvert->notebook>=4.4.1->widgetsnbextension~=3.5.0->ipywidgets>=7.0.0->cufflinks) (0.8.4)\n",
            "Requirement already satisfied: entrypoints>=0.2.2 in /usr/local/lib/python3.7/dist-packages (from nbconvert->notebook>=4.4.1->widgetsnbextension~=3.5.0->ipywidgets>=7.0.0->cufflinks) (0.3)\n",
            "Requirement already satisfied: bleach in /usr/local/lib/python3.7/dist-packages (from nbconvert->notebook>=4.4.1->widgetsnbextension~=3.5.0->ipywidgets>=7.0.0->cufflinks) (3.3.0)\n",
            "Requirement already satisfied: pandocfilters>=1.4.1 in /usr/local/lib/python3.7/dist-packages (from nbconvert->notebook>=4.4.1->widgetsnbextension~=3.5.0->ipywidgets>=7.0.0->cufflinks) (1.4.3)\n",
            "Requirement already satisfied: MarkupSafe>=0.23 in /usr/local/lib/python3.7/dist-packages (from jinja2->notebook>=4.4.1->widgetsnbextension~=3.5.0->ipywidgets>=7.0.0->cufflinks) (1.1.1)\n",
            "Requirement already satisfied: packaging in /usr/local/lib/python3.7/dist-packages (from bleach->nbconvert->notebook>=4.4.1->widgetsnbextension~=3.5.0->ipywidgets>=7.0.0->cufflinks) (20.9)\n",
            "Requirement already satisfied: webencodings in /usr/local/lib/python3.7/dist-packages (from bleach->nbconvert->notebook>=4.4.1->widgetsnbextension~=3.5.0->ipywidgets>=7.0.0->cufflinks) (0.5.1)\n",
            "Requirement already satisfied: pyparsing>=2.0.2 in /usr/local/lib/python3.7/dist-packages (from packaging->bleach->nbconvert->notebook>=4.4.1->widgetsnbextension~=3.5.0->ipywidgets>=7.0.0->cufflinks) (2.4.7)\n"
          ],
          "name": "stdout"
        }
      ]
    },
    {
      "cell_type": "code",
      "metadata": {
        "colab": {
          "base_uri": "https://localhost:8080/",
          "height": 17
        },
        "id": "LN-TciLGsmsB",
        "outputId": "eef531a3-d6a0-4f6e-d94a-e1577e2a877c"
      },
      "source": [
        "init_notebook_mode(connected=True)"
      ],
      "execution_count": 3,
      "outputs": [
        {
          "output_type": "display_data",
          "data": {
            "text/html": [
              "        <script type=\"text/javascript\">\n",
              "        window.PlotlyConfig = {MathJaxConfig: 'local'};\n",
              "        if (window.MathJax) {MathJax.Hub.Config({SVG: {font: \"STIX-Web\"}});}\n",
              "        if (typeof require !== 'undefined') {\n",
              "        require.undef(\"plotly\");\n",
              "        requirejs.config({\n",
              "            paths: {\n",
              "                'plotly': ['https://cdn.plot.ly/plotly-latest.min']\n",
              "            }\n",
              "        });\n",
              "        require(['plotly'], function(Plotly) {\n",
              "            window._Plotly = Plotly;\n",
              "        });\n",
              "        }\n",
              "        </script>\n",
              "        "
            ]
          },
          "metadata": {
            "tags": []
          }
        }
      ]
    },
    {
      "cell_type": "code",
      "metadata": {
        "colab": {
          "base_uri": "https://localhost:8080/",
          "height": 17
        },
        "id": "PRIEHkf6smt7",
        "outputId": "31bca775-ab2b-4fef-9704-986413dd027e"
      },
      "source": [
        "import cufflinks as cf\n",
        "import plotly.graph_objs as go\n",
        "import plotly as py #plotly\n",
        "from plotly.offline import download_plotlyjs, init_notebook_mode, plot, iplot\n",
        "cf.go_offline()"
      ],
      "execution_count": 29,
      "outputs": [
        {
          "output_type": "display_data",
          "data": {
            "text/html": [
              "        <script type=\"text/javascript\">\n",
              "        window.PlotlyConfig = {MathJaxConfig: 'local'};\n",
              "        if (window.MathJax) {MathJax.Hub.Config({SVG: {font: \"STIX-Web\"}});}\n",
              "        if (typeof require !== 'undefined') {\n",
              "        require.undef(\"plotly\");\n",
              "        requirejs.config({\n",
              "            paths: {\n",
              "                'plotly': ['https://cdn.plot.ly/plotly-latest.min']\n",
              "            }\n",
              "        });\n",
              "        require(['plotly'], function(Plotly) {\n",
              "            window._Plotly = Plotly;\n",
              "        });\n",
              "        }\n",
              "        </script>\n",
              "        "
            ]
          },
          "metadata": {
            "tags": []
          }
        }
      ]
    },
    {
      "cell_type": "code",
      "metadata": {
        "colab": {
          "resources": {
            "http://localhost:8080/nbextensions/google.colab/files.js": {
              "data": "Ly8gQ29weXJpZ2h0IDIwMTcgR29vZ2xlIExMQwovLwovLyBMaWNlbnNlZCB1bmRlciB0aGUgQXBhY2hlIExpY2Vuc2UsIFZlcnNpb24gMi4wICh0aGUgIkxpY2Vuc2UiKTsKLy8geW91IG1heSBub3QgdXNlIHRoaXMgZmlsZSBleGNlcHQgaW4gY29tcGxpYW5jZSB3aXRoIHRoZSBMaWNlbnNlLgovLyBZb3UgbWF5IG9idGFpbiBhIGNvcHkgb2YgdGhlIExpY2Vuc2UgYXQKLy8KLy8gICAgICBodHRwOi8vd3d3LmFwYWNoZS5vcmcvbGljZW5zZXMvTElDRU5TRS0yLjAKLy8KLy8gVW5sZXNzIHJlcXVpcmVkIGJ5IGFwcGxpY2FibGUgbGF3IG9yIGFncmVlZCB0byBpbiB3cml0aW5nLCBzb2Z0d2FyZQovLyBkaXN0cmlidXRlZCB1bmRlciB0aGUgTGljZW5zZSBpcyBkaXN0cmlidXRlZCBvbiBhbiAiQVMgSVMiIEJBU0lTLAovLyBXSVRIT1VUIFdBUlJBTlRJRVMgT1IgQ09ORElUSU9OUyBPRiBBTlkgS0lORCwgZWl0aGVyIGV4cHJlc3Mgb3IgaW1wbGllZC4KLy8gU2VlIHRoZSBMaWNlbnNlIGZvciB0aGUgc3BlY2lmaWMgbGFuZ3VhZ2UgZ292ZXJuaW5nIHBlcm1pc3Npb25zIGFuZAovLyBsaW1pdGF0aW9ucyB1bmRlciB0aGUgTGljZW5zZS4KCi8qKgogKiBAZmlsZW92ZXJ2aWV3IEhlbHBlcnMgZm9yIGdvb2dsZS5jb2xhYiBQeXRob24gbW9kdWxlLgogKi8KKGZ1bmN0aW9uKHNjb3BlKSB7CmZ1bmN0aW9uIHNwYW4odGV4dCwgc3R5bGVBdHRyaWJ1dGVzID0ge30pIHsKICBjb25zdCBlbGVtZW50ID0gZG9jdW1lbnQuY3JlYXRlRWxlbWVudCgnc3BhbicpOwogIGVsZW1lbnQudGV4dENvbnRlbnQgPSB0ZXh0OwogIGZvciAoY29uc3Qga2V5IG9mIE9iamVjdC5rZXlzKHN0eWxlQXR0cmlidXRlcykpIHsKICAgIGVsZW1lbnQuc3R5bGVba2V5XSA9IHN0eWxlQXR0cmlidXRlc1trZXldOwogIH0KICByZXR1cm4gZWxlbWVudDsKfQoKLy8gTWF4IG51bWJlciBvZiBieXRlcyB3aGljaCB3aWxsIGJlIHVwbG9hZGVkIGF0IGEgdGltZS4KY29uc3QgTUFYX1BBWUxPQURfU0laRSA9IDEwMCAqIDEwMjQ7CgpmdW5jdGlvbiBfdXBsb2FkRmlsZXMoaW5wdXRJZCwgb3V0cHV0SWQpIHsKICBjb25zdCBzdGVwcyA9IHVwbG9hZEZpbGVzU3RlcChpbnB1dElkLCBvdXRwdXRJZCk7CiAgY29uc3Qgb3V0cHV0RWxlbWVudCA9IGRvY3VtZW50LmdldEVsZW1lbnRCeUlkKG91dHB1dElkKTsKICAvLyBDYWNoZSBzdGVwcyBvbiB0aGUgb3V0cHV0RWxlbWVudCB0byBtYWtlIGl0IGF2YWlsYWJsZSBmb3IgdGhlIG5leHQgY2FsbAogIC8vIHRvIHVwbG9hZEZpbGVzQ29udGludWUgZnJvbSBQeXRob24uCiAgb3V0cHV0RWxlbWVudC5zdGVwcyA9IHN0ZXBzOwoKICByZXR1cm4gX3VwbG9hZEZpbGVzQ29udGludWUob3V0cHV0SWQpOwp9CgovLyBUaGlzIGlzIHJvdWdobHkgYW4gYXN5bmMgZ2VuZXJhdG9yIChub3Qgc3VwcG9ydGVkIGluIHRoZSBicm93c2VyIHlldCksCi8vIHdoZXJlIHRoZXJlIGFyZSBtdWx0aXBsZSBhc3luY2hyb25vdXMgc3RlcHMgYW5kIHRoZSBQeXRob24gc2lkZSBpcyBnb2luZwovLyB0byBwb2xsIGZvciBjb21wbGV0aW9uIG9mIGVhY2ggc3RlcC4KLy8gVGhpcyB1c2VzIGEgUHJvbWlzZSB0byBibG9jayB0aGUgcHl0aG9uIHNpZGUgb24gY29tcGxldGlvbiBvZiBlYWNoIHN0ZXAsCi8vIHRoZW4gcGFzc2VzIHRoZSByZXN1bHQgb2YgdGhlIHByZXZpb3VzIHN0ZXAgYXMgdGhlIGlucHV0IHRvIHRoZSBuZXh0IHN0ZXAuCmZ1bmN0aW9uIF91cGxvYWRGaWxlc0NvbnRpbnVlKG91dHB1dElkKSB7CiAgY29uc3Qgb3V0cHV0RWxlbWVudCA9IGRvY3VtZW50LmdldEVsZW1lbnRCeUlkKG91dHB1dElkKTsKICBjb25zdCBzdGVwcyA9IG91dHB1dEVsZW1lbnQuc3RlcHM7CgogIGNvbnN0IG5leHQgPSBzdGVwcy5uZXh0KG91dHB1dEVsZW1lbnQubGFzdFByb21pc2VWYWx1ZSk7CiAgcmV0dXJuIFByb21pc2UucmVzb2x2ZShuZXh0LnZhbHVlLnByb21pc2UpLnRoZW4oKHZhbHVlKSA9PiB7CiAgICAvLyBDYWNoZSB0aGUgbGFzdCBwcm9taXNlIHZhbHVlIHRvIG1ha2UgaXQgYXZhaWxhYmxlIHRvIHRoZSBuZXh0CiAgICAvLyBzdGVwIG9mIHRoZSBnZW5lcmF0b3IuCiAgICBvdXRwdXRFbGVtZW50Lmxhc3RQcm9taXNlVmFsdWUgPSB2YWx1ZTsKICAgIHJldHVybiBuZXh0LnZhbHVlLnJlc3BvbnNlOwogIH0pOwp9CgovKioKICogR2VuZXJhdG9yIGZ1bmN0aW9uIHdoaWNoIGlzIGNhbGxlZCBiZXR3ZWVuIGVhY2ggYXN5bmMgc3RlcCBvZiB0aGUgdXBsb2FkCiAqIHByb2Nlc3MuCiAqIEBwYXJhbSB7c3RyaW5nfSBpbnB1dElkIEVsZW1lbnQgSUQgb2YgdGhlIGlucHV0IGZpbGUgcGlja2VyIGVsZW1lbnQuCiAqIEBwYXJhbSB7c3RyaW5nfSBvdXRwdXRJZCBFbGVtZW50IElEIG9mIHRoZSBvdXRwdXQgZGlzcGxheS4KICogQHJldHVybiB7IUl0ZXJhYmxlPCFPYmplY3Q+fSBJdGVyYWJsZSBvZiBuZXh0IHN0ZXBzLgogKi8KZnVuY3Rpb24qIHVwbG9hZEZpbGVzU3RlcChpbnB1dElkLCBvdXRwdXRJZCkgewogIGNvbnN0IGlucHV0RWxlbWVudCA9IGRvY3VtZW50LmdldEVsZW1lbnRCeUlkKGlucHV0SWQpOwogIGlucHV0RWxlbWVudC5kaXNhYmxlZCA9IGZhbHNlOwoKICBjb25zdCBvdXRwdXRFbGVtZW50ID0gZG9jdW1lbnQuZ2V0RWxlbWVudEJ5SWQob3V0cHV0SWQpOwogIG91dHB1dEVsZW1lbnQuaW5uZXJIVE1MID0gJyc7CgogIGNvbnN0IHBpY2tlZFByb21pc2UgPSBuZXcgUHJvbWlzZSgocmVzb2x2ZSkgPT4gewogICAgaW5wdXRFbGVtZW50LmFkZEV2ZW50TGlzdGVuZXIoJ2NoYW5nZScsIChlKSA9PiB7CiAgICAgIHJlc29sdmUoZS50YXJnZXQuZmlsZXMpOwogICAgfSk7CiAgfSk7CgogIGNvbnN0IGNhbmNlbCA9IGRvY3VtZW50LmNyZWF0ZUVsZW1lbnQoJ2J1dHRvbicpOwogIGlucHV0RWxlbWVudC5wYXJlbnRFbGVtZW50LmFwcGVuZENoaWxkKGNhbmNlbCk7CiAgY2FuY2VsLnRleHRDb250ZW50ID0gJ0NhbmNlbCB1cGxvYWQnOwogIGNvbnN0IGNhbmNlbFByb21pc2UgPSBuZXcgUHJvbWlzZSgocmVzb2x2ZSkgPT4gewogICAgY2FuY2VsLm9uY2xpY2sgPSAoKSA9PiB7CiAgICAgIHJlc29sdmUobnVsbCk7CiAgICB9OwogIH0pOwoKICAvLyBXYWl0IGZvciB0aGUgdXNlciB0byBwaWNrIHRoZSBmaWxlcy4KICBjb25zdCBmaWxlcyA9IHlpZWxkIHsKICAgIHByb21pc2U6IFByb21pc2UucmFjZShbcGlja2VkUHJvbWlzZSwgY2FuY2VsUHJvbWlzZV0pLAogICAgcmVzcG9uc2U6IHsKICAgICAgYWN0aW9uOiAnc3RhcnRpbmcnLAogICAgfQogIH07CgogIGNhbmNlbC5yZW1vdmUoKTsKCiAgLy8gRGlzYWJsZSB0aGUgaW5wdXQgZWxlbWVudCBzaW5jZSBmdXJ0aGVyIHBpY2tzIGFyZSBub3QgYWxsb3dlZC4KICBpbnB1dEVsZW1lbnQuZGlzYWJsZWQgPSB0cnVlOwoKICBpZiAoIWZpbGVzKSB7CiAgICByZXR1cm4gewogICAgICByZXNwb25zZTogewogICAgICAgIGFjdGlvbjogJ2NvbXBsZXRlJywKICAgICAgfQogICAgfTsKICB9CgogIGZvciAoY29uc3QgZmlsZSBvZiBmaWxlcykgewogICAgY29uc3QgbGkgPSBkb2N1bWVudC5jcmVhdGVFbGVtZW50KCdsaScpOwogICAgbGkuYXBwZW5kKHNwYW4oZmlsZS5uYW1lLCB7Zm9udFdlaWdodDogJ2JvbGQnfSkpOwogICAgbGkuYXBwZW5kKHNwYW4oCiAgICAgICAgYCgke2ZpbGUudHlwZSB8fCAnbi9hJ30pIC0gJHtmaWxlLnNpemV9IGJ5dGVzLCBgICsKICAgICAgICBgbGFzdCBtb2RpZmllZDogJHsKICAgICAgICAgICAgZmlsZS5sYXN0TW9kaWZpZWREYXRlID8gZmlsZS5sYXN0TW9kaWZpZWREYXRlLnRvTG9jYWxlRGF0ZVN0cmluZygpIDoKICAgICAgICAgICAgICAgICAgICAgICAgICAgICAgICAgICAgJ24vYSd9IC0gYCkpOwogICAgY29uc3QgcGVyY2VudCA9IHNwYW4oJzAlIGRvbmUnKTsKICAgIGxpLmFwcGVuZENoaWxkKHBlcmNlbnQpOwoKICAgIG91dHB1dEVsZW1lbnQuYXBwZW5kQ2hpbGQobGkpOwoKICAgIGNvbnN0IGZpbGVEYXRhUHJvbWlzZSA9IG5ldyBQcm9taXNlKChyZXNvbHZlKSA9PiB7CiAgICAgIGNvbnN0IHJlYWRlciA9IG5ldyBGaWxlUmVhZGVyKCk7CiAgICAgIHJlYWRlci5vbmxvYWQgPSAoZSkgPT4gewogICAgICAgIHJlc29sdmUoZS50YXJnZXQucmVzdWx0KTsKICAgICAgfTsKICAgICAgcmVhZGVyLnJlYWRBc0FycmF5QnVmZmVyKGZpbGUpOwogICAgfSk7CiAgICAvLyBXYWl0IGZvciB0aGUgZGF0YSB0byBiZSByZWFkeS4KICAgIGxldCBmaWxlRGF0YSA9IHlpZWxkIHsKICAgICAgcHJvbWlzZTogZmlsZURhdGFQcm9taXNlLAogICAgICByZXNwb25zZTogewogICAgICAgIGFjdGlvbjogJ2NvbnRpbnVlJywKICAgICAgfQogICAgfTsKCiAgICAvLyBVc2UgYSBjaHVua2VkIHNlbmRpbmcgdG8gYXZvaWQgbWVzc2FnZSBzaXplIGxpbWl0cy4gU2VlIGIvNjIxMTU2NjAuCiAgICBsZXQgcG9zaXRpb24gPSAwOwogICAgd2hpbGUgKHBvc2l0aW9uIDwgZmlsZURhdGEuYnl0ZUxlbmd0aCkgewogICAgICBjb25zdCBsZW5ndGggPSBNYXRoLm1pbihmaWxlRGF0YS5ieXRlTGVuZ3RoIC0gcG9zaXRpb24sIE1BWF9QQVlMT0FEX1NJWkUpOwogICAgICBjb25zdCBjaHVuayA9IG5ldyBVaW50OEFycmF5KGZpbGVEYXRhLCBwb3NpdGlvbiwgbGVuZ3RoKTsKICAgICAgcG9zaXRpb24gKz0gbGVuZ3RoOwoKICAgICAgY29uc3QgYmFzZTY0ID0gYnRvYShTdHJpbmcuZnJvbUNoYXJDb2RlLmFwcGx5KG51bGwsIGNodW5rKSk7CiAgICAgIHlpZWxkIHsKICAgICAgICByZXNwb25zZTogewogICAgICAgICAgYWN0aW9uOiAnYXBwZW5kJywKICAgICAgICAgIGZpbGU6IGZpbGUubmFtZSwKICAgICAgICAgIGRhdGE6IGJhc2U2NCwKICAgICAgICB9LAogICAgICB9OwogICAgICBwZXJjZW50LnRleHRDb250ZW50ID0KICAgICAgICAgIGAke01hdGgucm91bmQoKHBvc2l0aW9uIC8gZmlsZURhdGEuYnl0ZUxlbmd0aCkgKiAxMDApfSUgZG9uZWA7CiAgICB9CiAgfQoKICAvLyBBbGwgZG9uZS4KICB5aWVsZCB7CiAgICByZXNwb25zZTogewogICAgICBhY3Rpb246ICdjb21wbGV0ZScsCiAgICB9CiAgfTsKfQoKc2NvcGUuZ29vZ2xlID0gc2NvcGUuZ29vZ2xlIHx8IHt9OwpzY29wZS5nb29nbGUuY29sYWIgPSBzY29wZS5nb29nbGUuY29sYWIgfHwge307CnNjb3BlLmdvb2dsZS5jb2xhYi5fZmlsZXMgPSB7CiAgX3VwbG9hZEZpbGVzLAogIF91cGxvYWRGaWxlc0NvbnRpbnVlLAp9Owp9KShzZWxmKTsK",
              "ok": true,
              "headers": [
                [
                  "content-type",
                  "application/javascript"
                ]
              ],
              "status": 200,
              "status_text": ""
            }
          },
          "base_uri": "https://localhost:8080/",
          "height": 72
        },
        "id": "T8oE3bn7uFLm",
        "outputId": "32663b3c-8394-41f8-ab45-25e881d03428"
      },
      "source": [
        "from google.colab import files\n",
        "uploaded = files.upload()"
      ],
      "execution_count": 9,
      "outputs": [
        {
          "output_type": "display_data",
          "data": {
            "text/html": [
              "\n",
              "     <input type=\"file\" id=\"files-855ca8fa-5e58-469b-aa03-ff90ef489f0a\" name=\"files[]\" multiple disabled\n",
              "        style=\"border:none\" />\n",
              "     <output id=\"result-855ca8fa-5e58-469b-aa03-ff90ef489f0a\">\n",
              "      Upload widget is only available when the cell has been executed in the\n",
              "      current browser session. Please rerun this cell to enable.\n",
              "      </output>\n",
              "      <script src=\"/nbextensions/google.colab/files.js\"></script> "
            ],
            "text/plain": [
              "<IPython.core.display.HTML object>"
            ]
          },
          "metadata": {
            "tags": []
          }
        },
        {
          "output_type": "stream",
          "text": [
            "Saving listings.xlsx to listings.xlsx\n"
          ],
          "name": "stdout"
        }
      ]
    },
    {
      "cell_type": "code",
      "metadata": {
        "id": "I8USnH7Ps7Vf"
      },
      "source": [
        "nasdaq = pd.read_excel('listings.xlsx', sheet_name='nasdaq',na_values='n/a')"
      ],
      "execution_count": 10,
      "outputs": []
    },
    {
      "cell_type": "code",
      "metadata": {
        "id": "EOLnP814u50L"
      },
      "source": [
        "market_cap = nasdaq['Market Capitalization'].div(10**6)\n"
      ],
      "execution_count": 12,
      "outputs": []
    },
    {
      "cell_type": "code",
      "metadata": {
        "colab": {
          "base_uri": "https://localhost:8080/"
        },
        "id": "X1D3MTncu53O",
        "outputId": "631c8b49-e5c6-4324-81be-1b74047850cb"
      },
      "source": [
        "print('Mean of Market Capitalization: \\n' ,market_cap.mean())\n",
        "print('Median of Market Capitalization: \\n' ,market_cap.median())\n",
        "print('Mode of Market Capitalization: \\n' ,market_cap.mode())\n"
      ],
      "execution_count": 13,
      "outputs": [
        {
          "output_type": "stream",
          "text": [
            "Mean of Market Capitalization: \n",
            " 3180.7126214953823\n",
            "Median of Market Capitalization: \n",
            " 225.9684285\n",
            "Mode of Market Capitalization: \n",
            " 0    0.0\n",
            "dtype: float64\n"
          ],
          "name": "stdout"
        }
      ]
    },
    {
      "cell_type": "markdown",
      "metadata": {
        "id": "E4r-_f26vMa1"
      },
      "source": [
        "## Quantiles"
      ]
    },
    {
      "cell_type": "code",
      "metadata": {
        "id": "a2a7PTHUvVCG"
      },
      "source": [
        "median = market_cap.quantile(.5)\n"
      ],
      "execution_count": 14,
      "outputs": []
    },
    {
      "cell_type": "code",
      "metadata": {
        "colab": {
          "base_uri": "https://localhost:8080/"
        },
        "id": "v8UPRTIzvgya",
        "outputId": "bbdbdd4f-4a10-4c51-f347-4959027f3694"
      },
      "source": [
        "median == market_cap.median()"
      ],
      "execution_count": 15,
      "outputs": [
        {
          "output_type": "execute_result",
          "data": {
            "text/plain": [
              "True"
            ]
          },
          "metadata": {
            "tags": []
          },
          "execution_count": 15
        }
      ]
    },
    {
      "cell_type": "code",
      "metadata": {
        "colab": {
          "base_uri": "https://localhost:8080/"
        },
        "id": "Uw83e4xSvl9a",
        "outputId": "71989ad2-fa08-4b9a-cbf0-efb7eba0144e"
      },
      "source": [
        "# quantile in  market capitalization\n",
        "quantiles = market_cap.quantile([.25,.75])\n",
        "print(quantiles)\n",
        "\n",
        "print(quantiles[.75]-quantiles[.25])\n"
      ],
      "execution_count": 16,
      "outputs": [
        {
          "output_type": "stream",
          "text": [
            "0.25     43.375930\n",
            "0.75    969.905207\n",
            "Name: Market Capitalization, dtype: float64\n",
            "926.5292771575\n"
          ],
          "name": "stdout"
        }
      ]
    },
    {
      "cell_type": "code",
      "metadata": {
        "id": "VbPd2Y4Cvpo4"
      },
      "source": [
        "deciles = np.arange(start=.1,stop=.91,step=.1)"
      ],
      "execution_count": 17,
      "outputs": []
    },
    {
      "cell_type": "code",
      "metadata": {
        "colab": {
          "base_uri": "https://localhost:8080/"
        },
        "id": "xbxMzVoHv-mi",
        "outputId": "7cd99581-082e-4227-c6b0-192e4e4aa1af"
      },
      "source": [
        "deciles"
      ],
      "execution_count": 18,
      "outputs": [
        {
          "output_type": "execute_result",
          "data": {
            "text/plain": [
              "array([0.1, 0.2, 0.3, 0.4, 0.5, 0.6, 0.7, 0.8, 0.9])"
            ]
          },
          "metadata": {
            "tags": []
          },
          "execution_count": 18
        }
      ]
    },
    {
      "cell_type": "code",
      "metadata": {
        "colab": {
          "base_uri": "https://localhost:8080/"
        },
        "id": "1FbN2n91v-jB",
        "outputId": "56cb4b84-6dcf-4c61-d5a1-fd38f6097691"
      },
      "source": [
        "market_cap.quantile(deciles)\n"
      ],
      "execution_count": 19,
      "outputs": [
        {
          "output_type": "execute_result",
          "data": {
            "text/plain": [
              "0.1       4.884565\n",
              "0.2      26.993382\n",
              "0.3      65.714547\n",
              "0.4     124.320644\n",
              "0.5     225.968428\n",
              "0.6     402.469678\n",
              "0.7     723.163197\n",
              "0.8    1441.071134\n",
              "0.9    3671.499558\n",
              "Name: Market Capitalization, dtype: float64"
            ]
          },
          "metadata": {
            "tags": []
          },
          "execution_count": 19
        }
      ]
    },
    {
      "cell_type": "markdown",
      "metadata": {
        "id": "b6WCsYrMve17"
      },
      "source": [
        "\n",
        "**Visualize quantiles with bar chart**\n"
      ]
    },
    {
      "cell_type": "code",
      "metadata": {
        "id": "26aiys4iIOM-"
      },
      "source": [
        "def enable_plotly_in_cell():\n",
        "  import IPython\n",
        "  from plotly.offline import init_notebook_mode\n",
        "  display(IPython.core.display.HTML('''<script src=\"/static/components/requirejs/require.js\"></script>'''))\n",
        "  init_notebook_mode(connected=False)\n"
      ],
      "execution_count": 33,
      "outputs": []
    },
    {
      "cell_type": "markdown",
      "metadata": {
        "id": "_NPq6_N3INpR"
      },
      "source": [
        ""
      ]
    },
    {
      "cell_type": "code",
      "metadata": {
        "colab": {
          "base_uri": "https://localhost:8080/",
          "height": 542
        },
        "id": "Nq0OvTWpwJXO",
        "outputId": "eebf6b4d-9121-40ca-f2ce-4f1e44b6a853"
      },
      "source": [
        "#from plotly.offline import iplot\n",
        "#import plotly.graph_objs as go\n",
        "\n",
        "#enable_plotly_in_cell()\n",
        "\n",
        "data=[go.Bar(x=deciles,y=market_cap.quantile(deciles),name=\"NASDAQ Market Capitalization (million USD)\")]\n",
        "layout=go.Layout(title=\"NASDAQ Market Capitalization (million USD)\")\n",
        "fig=go.Figure(data=data,layout=layout)\n",
        "#fig.show()\n",
        "fig.show(renderer=\"colab\")"
      ],
      "execution_count": 98,
      "outputs": [
        {
          "output_type": "display_data",
          "data": {
            "text/html": [
              "<html>\n",
              "<head><meta charset=\"utf-8\" /></head>\n",
              "<body>\n",
              "    <div>\n",
              "            <script src=\"https://cdnjs.cloudflare.com/ajax/libs/mathjax/2.7.5/MathJax.js?config=TeX-AMS-MML_SVG\"></script><script type=\"text/javascript\">if (window.MathJax) {MathJax.Hub.Config({SVG: {font: \"STIX-Web\"}});}</script>\n",
              "                <script type=\"text/javascript\">window.PlotlyConfig = {MathJaxConfig: 'local'};</script>\n",
              "        <script src=\"https://cdn.plot.ly/plotly-latest.min.js\"></script>    \n",
              "            <div id=\"d0d71ea2-1944-422c-bd89-fb05c7774882\" class=\"plotly-graph-div\" style=\"height:525px; width:100%;\"></div>\n",
              "            <script type=\"text/javascript\">\n",
              "                \n",
              "                    window.PLOTLYENV=window.PLOTLYENV || {};\n",
              "                    \n",
              "                if (document.getElementById(\"d0d71ea2-1944-422c-bd89-fb05c7774882\")) {\n",
              "                    Plotly.newPlot(\n",
              "                        'd0d71ea2-1944-422c-bd89-fb05c7774882',\n",
              "                        [{\"name\": \"NASDAQ Market Capitalization (million USD)\", \"type\": \"bar\", \"x\": [0.1, 0.2, 0.30000000000000004, 0.4, 0.5, 0.6, 0.7000000000000001, 0.8, 0.9], \"y\": [4.884564584000001, 26.99338208000001, 65.71454711999999, 124.32064381200004, 225.9684285, 402.4696782, 723.1631972079997, 1441.0711344000008, 3671.499557612002]}],\n",
              "                        {\"template\": {\"data\": {\"bar\": [{\"error_x\": {\"color\": \"#2a3f5f\"}, \"error_y\": {\"color\": \"#2a3f5f\"}, \"marker\": {\"line\": {\"color\": \"#E5ECF6\", \"width\": 0.5}}, \"type\": \"bar\"}], \"barpolar\": [{\"marker\": {\"line\": {\"color\": \"#E5ECF6\", \"width\": 0.5}}, \"type\": \"barpolar\"}], \"carpet\": [{\"aaxis\": {\"endlinecolor\": \"#2a3f5f\", \"gridcolor\": \"white\", \"linecolor\": \"white\", \"minorgridcolor\": \"white\", \"startlinecolor\": \"#2a3f5f\"}, \"baxis\": {\"endlinecolor\": \"#2a3f5f\", \"gridcolor\": \"white\", \"linecolor\": \"white\", \"minorgridcolor\": \"white\", \"startlinecolor\": \"#2a3f5f\"}, \"type\": \"carpet\"}], \"choropleth\": [{\"colorbar\": {\"outlinewidth\": 0, \"ticks\": \"\"}, \"type\": \"choropleth\"}], \"contour\": [{\"colorbar\": {\"outlinewidth\": 0, \"ticks\": \"\"}, \"colorscale\": [[0.0, \"#0d0887\"], [0.1111111111111111, \"#46039f\"], [0.2222222222222222, \"#7201a8\"], [0.3333333333333333, \"#9c179e\"], [0.4444444444444444, \"#bd3786\"], [0.5555555555555556, \"#d8576b\"], [0.6666666666666666, \"#ed7953\"], [0.7777777777777778, \"#fb9f3a\"], [0.8888888888888888, \"#fdca26\"], [1.0, \"#f0f921\"]], \"type\": \"contour\"}], \"contourcarpet\": [{\"colorbar\": {\"outlinewidth\": 0, \"ticks\": \"\"}, \"type\": \"contourcarpet\"}], \"heatmap\": [{\"colorbar\": {\"outlinewidth\": 0, \"ticks\": \"\"}, \"colorscale\": [[0.0, \"#0d0887\"], [0.1111111111111111, \"#46039f\"], [0.2222222222222222, \"#7201a8\"], [0.3333333333333333, \"#9c179e\"], [0.4444444444444444, \"#bd3786\"], [0.5555555555555556, \"#d8576b\"], [0.6666666666666666, \"#ed7953\"], [0.7777777777777778, \"#fb9f3a\"], [0.8888888888888888, \"#fdca26\"], [1.0, \"#f0f921\"]], \"type\": \"heatmap\"}], \"heatmapgl\": [{\"colorbar\": {\"outlinewidth\": 0, \"ticks\": \"\"}, \"colorscale\": [[0.0, \"#0d0887\"], [0.1111111111111111, \"#46039f\"], [0.2222222222222222, \"#7201a8\"], [0.3333333333333333, \"#9c179e\"], [0.4444444444444444, \"#bd3786\"], [0.5555555555555556, \"#d8576b\"], [0.6666666666666666, \"#ed7953\"], [0.7777777777777778, \"#fb9f3a\"], [0.8888888888888888, \"#fdca26\"], [1.0, \"#f0f921\"]], \"type\": \"heatmapgl\"}], \"histogram\": [{\"marker\": {\"colorbar\": {\"outlinewidth\": 0, \"ticks\": \"\"}}, \"type\": \"histogram\"}], \"histogram2d\": [{\"colorbar\": {\"outlinewidth\": 0, \"ticks\": \"\"}, \"colorscale\": [[0.0, \"#0d0887\"], [0.1111111111111111, \"#46039f\"], [0.2222222222222222, \"#7201a8\"], [0.3333333333333333, \"#9c179e\"], [0.4444444444444444, \"#bd3786\"], [0.5555555555555556, \"#d8576b\"], [0.6666666666666666, \"#ed7953\"], [0.7777777777777778, \"#fb9f3a\"], [0.8888888888888888, \"#fdca26\"], [1.0, \"#f0f921\"]], \"type\": \"histogram2d\"}], \"histogram2dcontour\": [{\"colorbar\": {\"outlinewidth\": 0, \"ticks\": \"\"}, \"colorscale\": [[0.0, \"#0d0887\"], [0.1111111111111111, \"#46039f\"], [0.2222222222222222, \"#7201a8\"], [0.3333333333333333, \"#9c179e\"], [0.4444444444444444, \"#bd3786\"], [0.5555555555555556, \"#d8576b\"], [0.6666666666666666, \"#ed7953\"], [0.7777777777777778, \"#fb9f3a\"], [0.8888888888888888, \"#fdca26\"], [1.0, \"#f0f921\"]], \"type\": \"histogram2dcontour\"}], \"mesh3d\": [{\"colorbar\": {\"outlinewidth\": 0, \"ticks\": \"\"}, \"type\": \"mesh3d\"}], \"parcoords\": [{\"line\": {\"colorbar\": {\"outlinewidth\": 0, \"ticks\": \"\"}}, \"type\": \"parcoords\"}], \"pie\": [{\"automargin\": true, \"type\": \"pie\"}], \"scatter\": [{\"marker\": {\"colorbar\": {\"outlinewidth\": 0, \"ticks\": \"\"}}, \"type\": \"scatter\"}], \"scatter3d\": [{\"line\": {\"colorbar\": {\"outlinewidth\": 0, \"ticks\": \"\"}}, \"marker\": {\"colorbar\": {\"outlinewidth\": 0, \"ticks\": \"\"}}, \"type\": \"scatter3d\"}], \"scattercarpet\": [{\"marker\": {\"colorbar\": {\"outlinewidth\": 0, \"ticks\": \"\"}}, \"type\": \"scattercarpet\"}], \"scattergeo\": [{\"marker\": {\"colorbar\": {\"outlinewidth\": 0, \"ticks\": \"\"}}, \"type\": \"scattergeo\"}], \"scattergl\": [{\"marker\": {\"colorbar\": {\"outlinewidth\": 0, \"ticks\": \"\"}}, \"type\": \"scattergl\"}], \"scattermapbox\": [{\"marker\": {\"colorbar\": {\"outlinewidth\": 0, \"ticks\": \"\"}}, \"type\": \"scattermapbox\"}], \"scatterpolar\": [{\"marker\": {\"colorbar\": {\"outlinewidth\": 0, \"ticks\": \"\"}}, \"type\": \"scatterpolar\"}], \"scatterpolargl\": [{\"marker\": {\"colorbar\": {\"outlinewidth\": 0, \"ticks\": \"\"}}, \"type\": \"scatterpolargl\"}], \"scatterternary\": [{\"marker\": {\"colorbar\": {\"outlinewidth\": 0, \"ticks\": \"\"}}, \"type\": \"scatterternary\"}], \"surface\": [{\"colorbar\": {\"outlinewidth\": 0, \"ticks\": \"\"}, \"colorscale\": [[0.0, \"#0d0887\"], [0.1111111111111111, \"#46039f\"], [0.2222222222222222, \"#7201a8\"], [0.3333333333333333, \"#9c179e\"], [0.4444444444444444, \"#bd3786\"], [0.5555555555555556, \"#d8576b\"], [0.6666666666666666, \"#ed7953\"], [0.7777777777777778, \"#fb9f3a\"], [0.8888888888888888, \"#fdca26\"], [1.0, \"#f0f921\"]], \"type\": \"surface\"}], \"table\": [{\"cells\": {\"fill\": {\"color\": \"#EBF0F8\"}, \"line\": {\"color\": \"white\"}}, \"header\": {\"fill\": {\"color\": \"#C8D4E3\"}, \"line\": {\"color\": \"white\"}}, \"type\": \"table\"}]}, \"layout\": {\"annotationdefaults\": {\"arrowcolor\": \"#2a3f5f\", \"arrowhead\": 0, \"arrowwidth\": 1}, \"coloraxis\": {\"colorbar\": {\"outlinewidth\": 0, \"ticks\": \"\"}}, \"colorscale\": {\"diverging\": [[0, \"#8e0152\"], [0.1, \"#c51b7d\"], [0.2, \"#de77ae\"], [0.3, \"#f1b6da\"], [0.4, \"#fde0ef\"], [0.5, \"#f7f7f7\"], [0.6, \"#e6f5d0\"], [0.7, \"#b8e186\"], [0.8, \"#7fbc41\"], [0.9, \"#4d9221\"], [1, \"#276419\"]], \"sequential\": [[0.0, \"#0d0887\"], [0.1111111111111111, \"#46039f\"], [0.2222222222222222, \"#7201a8\"], [0.3333333333333333, \"#9c179e\"], [0.4444444444444444, \"#bd3786\"], [0.5555555555555556, \"#d8576b\"], [0.6666666666666666, \"#ed7953\"], [0.7777777777777778, \"#fb9f3a\"], [0.8888888888888888, \"#fdca26\"], [1.0, \"#f0f921\"]], \"sequentialminus\": [[0.0, \"#0d0887\"], [0.1111111111111111, \"#46039f\"], [0.2222222222222222, \"#7201a8\"], [0.3333333333333333, \"#9c179e\"], [0.4444444444444444, \"#bd3786\"], [0.5555555555555556, \"#d8576b\"], [0.6666666666666666, \"#ed7953\"], [0.7777777777777778, \"#fb9f3a\"], [0.8888888888888888, \"#fdca26\"], [1.0, \"#f0f921\"]]}, \"colorway\": [\"#636efa\", \"#EF553B\", \"#00cc96\", \"#ab63fa\", \"#FFA15A\", \"#19d3f3\", \"#FF6692\", \"#B6E880\", \"#FF97FF\", \"#FECB52\"], \"font\": {\"color\": \"#2a3f5f\"}, \"geo\": {\"bgcolor\": \"white\", \"lakecolor\": \"white\", \"landcolor\": \"#E5ECF6\", \"showlakes\": true, \"showland\": true, \"subunitcolor\": \"white\"}, \"hoverlabel\": {\"align\": \"left\"}, \"hovermode\": \"closest\", \"mapbox\": {\"style\": \"light\"}, \"paper_bgcolor\": \"white\", \"plot_bgcolor\": \"#E5ECF6\", \"polar\": {\"angularaxis\": {\"gridcolor\": \"white\", \"linecolor\": \"white\", \"ticks\": \"\"}, \"bgcolor\": \"#E5ECF6\", \"radialaxis\": {\"gridcolor\": \"white\", \"linecolor\": \"white\", \"ticks\": \"\"}}, \"scene\": {\"xaxis\": {\"backgroundcolor\": \"#E5ECF6\", \"gridcolor\": \"white\", \"gridwidth\": 2, \"linecolor\": \"white\", \"showbackground\": true, \"ticks\": \"\", \"zerolinecolor\": \"white\"}, \"yaxis\": {\"backgroundcolor\": \"#E5ECF6\", \"gridcolor\": \"white\", \"gridwidth\": 2, \"linecolor\": \"white\", \"showbackground\": true, \"ticks\": \"\", \"zerolinecolor\": \"white\"}, \"zaxis\": {\"backgroundcolor\": \"#E5ECF6\", \"gridcolor\": \"white\", \"gridwidth\": 2, \"linecolor\": \"white\", \"showbackground\": true, \"ticks\": \"\", \"zerolinecolor\": \"white\"}}, \"shapedefaults\": {\"line\": {\"color\": \"#2a3f5f\"}}, \"ternary\": {\"aaxis\": {\"gridcolor\": \"white\", \"linecolor\": \"white\", \"ticks\": \"\"}, \"baxis\": {\"gridcolor\": \"white\", \"linecolor\": \"white\", \"ticks\": \"\"}, \"bgcolor\": \"#E5ECF6\", \"caxis\": {\"gridcolor\": \"white\", \"linecolor\": \"white\", \"ticks\": \"\"}}, \"title\": {\"x\": 0.05}, \"xaxis\": {\"automargin\": true, \"gridcolor\": \"white\", \"linecolor\": \"white\", \"ticks\": \"\", \"title\": {\"standoff\": 15}, \"zerolinecolor\": \"white\", \"zerolinewidth\": 2}, \"yaxis\": {\"automargin\": true, \"gridcolor\": \"white\", \"linecolor\": \"white\", \"ticks\": \"\", \"title\": {\"standoff\": 15}, \"zerolinecolor\": \"white\", \"zerolinewidth\": 2}}}, \"title\": {\"text\": \"NASDAQ Market Capitalization (million USD)\"}},\n",
              "                        {\"responsive\": true}\n",
              "                    ).then(function(){\n",
              "                            \n",
              "var gd = document.getElementById('d0d71ea2-1944-422c-bd89-fb05c7774882');\n",
              "var x = new MutationObserver(function (mutations, observer) {{\n",
              "        var display = window.getComputedStyle(gd).display;\n",
              "        if (!display || display === 'none') {{\n",
              "            console.log([gd, 'removed!']);\n",
              "            Plotly.purge(gd);\n",
              "            observer.disconnect();\n",
              "        }}\n",
              "}});\n",
              "\n",
              "// Listen for the removal of the full notebook cells\n",
              "var notebookContainer = gd.closest('#notebook-container');\n",
              "if (notebookContainer) {{\n",
              "    x.observe(notebookContainer, {childList: true});\n",
              "}}\n",
              "\n",
              "// Listen for the clearing of the current output cell\n",
              "var outputEl = gd.closest('.output');\n",
              "if (outputEl) {{\n",
              "    x.observe(outputEl, {childList: true});\n",
              "}}\n",
              "\n",
              "                        })\n",
              "                };\n",
              "                \n",
              "            </script>\n",
              "        </div>\n",
              "</body>\n",
              "</html>"
            ]
          },
          "metadata": {
            "tags": []
          }
        }
      ]
    },
    {
      "cell_type": "markdown",
      "metadata": {
        "id": "5gcEWJd5z_Dp"
      },
      "source": [
        "**EDA Stats**:"
      ]
    },
    {
      "cell_type": "code",
      "metadata": {
        "colab": {
          "base_uri": "https://localhost:8080/"
        },
        "id": "UnFKYX0mzfgN",
        "outputId": "7b2f8b4a-0946-401a-89b9-a437b146ee81"
      },
      "source": [
        "market_cap.describe()\n"
      ],
      "execution_count": 25,
      "outputs": [
        {
          "output_type": "execute_result",
          "data": {
            "text/plain": [
              "count      3167.000000\n",
              "mean       3180.712621\n",
              "std       25471.038707\n",
              "min           0.000000\n",
              "25%          43.375930\n",
              "50%         225.968428\n",
              "75%         969.905207\n",
              "max      740024.467000\n",
              "Name: Market Capitalization, dtype: float64"
            ]
          },
          "metadata": {
            "tags": []
          },
          "execution_count": 25
        }
      ]
    },
    {
      "cell_type": "code",
      "metadata": {
        "colab": {
          "base_uri": "https://localhost:8080/"
        },
        "id": "gZg8aqlc0P6h",
        "outputId": "7b8c4cfa-41fa-4035-b7b4-31f702eb91b6"
      },
      "source": [
        "market_cap.describe(percentiles=np.arange(.1,.91,.1))\n"
      ],
      "execution_count": 26,
      "outputs": [
        {
          "output_type": "execute_result",
          "data": {
            "text/plain": [
              "count      3167.000000\n",
              "mean       3180.712621\n",
              "std       25471.038707\n",
              "min           0.000000\n",
              "10%           4.884565\n",
              "20%          26.993382\n",
              "30%          65.714547\n",
              "40%         124.320644\n",
              "50%         225.968428\n",
              "60%         402.469678\n",
              "70%         723.163197\n",
              "80%        1441.071134\n",
              "90%        3671.499558\n",
              "max      740024.467000\n",
              "Name: Market Capitalization, dtype: float64"
            ]
          },
          "metadata": {
            "tags": []
          },
          "execution_count": 26
        }
      ]
    },
    {
      "cell_type": "markdown",
      "metadata": {
        "id": "Lbhhk9VSz_Aq"
      },
      "source": [
        "### Decade treasury trend distribution"
      ]
    },
    {
      "cell_type": "code",
      "metadata": {
        "id": "7M7PkrtM0knL"
      },
      "source": [
        "ty10 = web.DataReader('DGS10','fred',date(1962,1,1))"
      ],
      "execution_count": 37,
      "outputs": []
    },
    {
      "cell_type": "markdown",
      "metadata": {
        "id": "R7mL6f27MAMV"
      },
      "source": [
        ""
      ]
    },
    {
      "cell_type": "code",
      "metadata": {
        "colab": {
          "base_uri": "https://localhost:8080/"
        },
        "id": "WzZzPUJj0vHl",
        "outputId": "82080940-a60f-4005-f6e4-9096ba5b589f"
      },
      "source": [
        "ty10.info()"
      ],
      "execution_count": 38,
      "outputs": [
        {
          "output_type": "stream",
          "text": [
            "<class 'pandas.core.frame.DataFrame'>\n",
            "DatetimeIndex: 15466 entries, 1962-01-02 to 2021-04-13\n",
            "Data columns (total 1 columns):\n",
            " #   Column  Non-Null Count  Dtype  \n",
            "---  ------  --------------  -----  \n",
            " 0   DGS10   14805 non-null  float64\n",
            "dtypes: float64(1)\n",
            "memory usage: 241.7 KB\n"
          ],
          "name": "stdout"
        }
      ]
    },
    {
      "cell_type": "markdown",
      "metadata": {
        "id": "_yhUBxjY0uwq"
      },
      "source": [
        "**Aggregating data by Category**"
      ]
    },
    {
      "cell_type": "markdown",
      "metadata": {
        "id": "yKo07TMn1DCG"
      },
      "source": [
        "**Group data by sector**"
      ]
    },
    {
      "cell_type": "code",
      "metadata": {
        "colab": {
          "base_uri": "https://localhost:8080/"
        },
        "id": "x-iIKp6b0vCw",
        "outputId": "da592f62-ae18-48b5-85a2-6e3d9fe098d8"
      },
      "source": [
        "\n",
        "nasdaq.info()"
      ],
      "execution_count": 39,
      "outputs": [
        {
          "output_type": "stream",
          "text": [
            "<class 'pandas.core.frame.DataFrame'>\n",
            "RangeIndex: 3167 entries, 0 to 3166\n",
            "Data columns (total 7 columns):\n",
            " #   Column                 Non-Null Count  Dtype  \n",
            "---  ------                 --------------  -----  \n",
            " 0   Stock Symbol           3167 non-null   object \n",
            " 1   Company Name           3167 non-null   object \n",
            " 2   Last Sale              3165 non-null   float64\n",
            " 3   Market Capitalization  3167 non-null   float64\n",
            " 4   IPO Year               1386 non-null   float64\n",
            " 5   Sector                 2767 non-null   object \n",
            " 6   Industry               2767 non-null   object \n",
            "dtypes: float64(3), object(4)\n",
            "memory usage: 173.3+ KB\n"
          ],
          "name": "stdout"
        }
      ]
    },
    {
      "cell_type": "code",
      "metadata": {
        "id": "d4qheqo11NXd"
      },
      "source": [
        "nasdaq['market_cap_m'] = nasdaq['Market Capitalization'].div(1e6)"
      ],
      "execution_count": 40,
      "outputs": []
    },
    {
      "cell_type": "code",
      "metadata": {
        "id": "Bnq8mnyN1iA2"
      },
      "source": [
        "#nasdaq = nasdaq.drop('Market Capitalization', axis=1) # Drop column\n",
        "\n",
        "nasdaq_by_sector = nasdaq.groupby('Sector') # create groupby onject\n"
      ],
      "execution_count": 41,
      "outputs": []
    },
    {
      "cell_type": "code",
      "metadata": {
        "colab": {
          "base_uri": "https://localhost:8080/"
        },
        "id": "MdjIOafl2FYn",
        "outputId": "fd9fb2f6-0944-48a5-844b-45fe518b3157"
      },
      "source": [
        "for sector, data in nasdaq_by_sector:\n",
        "    print(sector, data.market_cap_m.mean())\n"
      ],
      "execution_count": 42,
      "outputs": [
        {
          "output_type": "stream",
          "text": [
            "Basic Industries 724.8999338580088\n",
            "Capital Goods 1511.2373727809975\n",
            "Consumer Durables 839.8026066270018\n",
            "Consumer Non-Durables 3104.0512055241334\n",
            "Consumer Services 5582.344174819412\n",
            "Energy 826.607607854727\n",
            "Finance 1044.0902047996321\n",
            "Health Care 1758.709196756265\n",
            "Miscellaneous 3445.655934557965\n",
            "Public Utilities 2357.8653150733353\n",
            "Technology 10883.43421354678\n",
            "Transportation 2869.660006726413\n"
          ],
          "name": "stdout"
        }
      ]
    },
    {
      "cell_type": "code",
      "metadata": {
        "colab": {
          "base_uri": "https://localhost:8080/"
        },
        "id": "KNwZL5792ISY",
        "outputId": "82395a9f-50b0-4a0a-edf6-026adff1476d"
      },
      "source": [
        "# easy way\n",
        "\n",
        "mcap_by_sector = nasdaq_by_sector.market_cap_m.mean()\n",
        "print(mcap_by_sector)"
      ],
      "execution_count": 43,
      "outputs": [
        {
          "output_type": "stream",
          "text": [
            "Sector\n",
            "Basic Industries           724.899934\n",
            "Capital Goods             1511.237373\n",
            "Consumer Durables          839.802607\n",
            "Consumer Non-Durables     3104.051206\n",
            "Consumer Services         5582.344175\n",
            "Energy                     826.607608\n",
            "Finance                   1044.090205\n",
            "Health Care               1758.709197\n",
            "Miscellaneous             3445.655935\n",
            "Public Utilities          2357.865315\n",
            "Technology               10883.434214\n",
            "Transportation            2869.660007\n",
            "Name: market_cap_m, dtype: float64\n"
          ],
          "name": "stdout"
        }
      ]
    },
    {
      "cell_type": "code",
      "metadata": {
        "colab": {
          "base_uri": "https://localhost:8080/",
          "height": 542
        },
        "id": "nmeWG_672P0v",
        "outputId": "11a50254-fc2f-4590-ac2d-113c979a3a28"
      },
      "source": [
        "data=[go.Bar(x=mcap_by_sector,y=nasdaq['Sector'],name=\"NASDAQ = Avg. Market Cap by Sector\",orientation='h',marker=dict(\n",
        "        color='rgba(246, 78, 139, 0.6)',\n",
        "        line=dict(color='rgba(246, 78, 139, 1.0)', width=0)\n",
        "))]\n",
        "layout=go.Layout(title=\"NASDAQ = Avg. Market Cap by Sector\",xaxis_title=\"USD (In Millions)\",\n",
        "    yaxis=dict(title=\"Sectors\"))\n",
        "\n",
        "fig=go.Figure(data=data,layout=layout)\n",
        "fig.show(renderer=\"colab\")\n"
      ],
      "execution_count": 89,
      "outputs": [
        {
          "output_type": "display_data",
          "data": {
            "text/html": [
              "<html>\n",
              "<head><meta charset=\"utf-8\" /></head>\n",
              "<body>\n",
              "    <div>\n",
              "            <script src=\"https://cdnjs.cloudflare.com/ajax/libs/mathjax/2.7.5/MathJax.js?config=TeX-AMS-MML_SVG\"></script><script type=\"text/javascript\">if (window.MathJax) {MathJax.Hub.Config({SVG: {font: \"STIX-Web\"}});}</script>\n",
              "                <script type=\"text/javascript\">window.PlotlyConfig = {MathJaxConfig: 'local'};</script>\n",
              "        <script src=\"https://cdn.plot.ly/plotly-latest.min.js\"></script>    \n",
              "            <div id=\"77ef522e-cbac-41e5-aaef-2e95fce67349\" class=\"plotly-graph-div\" style=\"height:525px; width:100%;\"></div>\n",
              "            <script type=\"text/javascript\">\n",
              "                \n",
              "                    window.PLOTLYENV=window.PLOTLYENV || {};\n",
              "                    \n",
              "                if (document.getElementById(\"77ef522e-cbac-41e5-aaef-2e95fce67349\")) {\n",
              "                    Plotly.newPlot(\n",
              "                        '77ef522e-cbac-41e5-aaef-2e95fce67349',\n",
              "                        [{\"marker\": {\"color\": \"rgba(246, 78, 139, 0.6)\", \"line\": {\"color\": \"rgba(246, 78, 139, 1.0)\", \"width\": 0}}, \"name\": \"NASDAQ = Avg. Market Cap by Sector\", \"orientation\": \"h\", \"type\": \"bar\", \"x\": [724.8999338580088, 1511.2373727809975, 839.8026066270018, 3104.0512055241334, 5582.344174819412, 826.607607854727, 1044.0902047996321, 1758.709196756265, 3445.655934557965, 2357.8653150733353, 10883.43421354678, 2869.660006726413], \"y\": [\"Technology\", \"Technology\", \"Technology\", \"Technology\", \"Consumer Services\", \"Technology\", \"Consumer Services\", \"Technology\", \"Technology\", \"Health Care\", \"Consumer Non-Durables\", \"Consumer Services\", \"Health Care\", \"Health Care\", \"Health Care\", \"Miscellaneous\", \"Technology\", \"Consumer Services\", \"Technology\", \"Technology\", \"Consumer Services\", \"Consumer Non-Durables\", \"Technology\", \"Consumer Services\", \"Health Care\", \"Technology\", \"Consumer Services\", \"Public Utilities\", \"Miscellaneous\", \"Capital Goods\", \"Public Utilities\", \"Technology\", null, \"Technology\", \"Technology\", \"Transportation\", \"Technology\", \"Health Care\", \"Finance\", \"Health Care\", \"Consumer Services\", \"Miscellaneous\", \"Technology\", \"Technology\", \"Technology\", \"Consumer Services\", \"Consumer Services\", \"Consumer Services\", \"Consumer Services\", \"Technology\", \"Consumer Services\", \"Consumer Services\", \"Technology\", \"Consumer Services\", \"Health Care\", \"Health Care\", \"Health Care\", \"Technology\", \"Technology\", \"Health Care\", \"Consumer Non-Durables\", \"Capital Goods\", \"Consumer Services\", \"Technology\", \"Technology\", \"Consumer Services\", \"Consumer Services\", \"Capital Goods\", \"Transportation\", \"Finance\", \"Consumer Services\", \"Technology\", \"Miscellaneous\", \"Health Care\", \"Miscellaneous\", \"Finance\", \"Finance\", \"Technology\", \"Consumer Services\", \"Technology\", \"Technology\", null, \"Consumer Services\", \"Technology\", \"Consumer Services\", \"Technology\", \"Finance\", \"Consumer Services\", \"Technology\", \"Finance\", \"Finance\", \"Consumer Services\", \"Technology\", \"Consumer Services\", \"Health Care\", \"Consumer Services\", \"Consumer Services\", \"Capital Goods\", \"Technology\", \"Health Care\", \"Health Care\", \"Finance\", \"Technology\", \"Finance\", \"Consumer Durables\", \"Health Care\", null, \"Health Care\", \"Technology\", \"Consumer Services\", \"Technology\", \"Consumer Services\", \"Technology\", \"Consumer Non-Durables\", \"Technology\", \"Consumer Non-Durables\", \"Health Care\", \"Finance\", \"Consumer Services\", \"Technology\", \"Finance\", \"Finance\", \"Public Utilities\", \"Consumer Services\", \"Consumer Services\", \"Consumer Services\", \"Consumer Services\", \"Consumer Services\", \"Technology\", \"Technology\", \"Transportation\", \"Miscellaneous\", \"Transportation\", \"Transportation\", \"Consumer Services\", \"Consumer Services\", \"Consumer Services\", \"Miscellaneous\", \"Energy\", \"Health Care\", \"Miscellaneous\", \"Finance\", \"Capital Goods\", \"Finance\", \"Health Care\", \"Health Care\", \"Finance\", \"Consumer Services\", \"Technology\", \"Technology\", \"Technology\", \"Consumer Services\", \"Transportation\", \"Technology\", \"Technology\", \"Health Care\", \"Technology\", \"Technology\", \"Technology\", \"Consumer Services\", \"Consumer Durables\", \"Consumer Non-Durables\", \"Technology\", null, \"Consumer Services\", \"Technology\", \"Finance\", \"Finance\", \"Consumer Services\", \"Basic Industries\", \"Health Care\", \"Technology\", \"Technology\", \"Capital Goods\", \"Capital Goods\", \"Finance\", null, \"Consumer Non-Durables\", \"Consumer Services\", \"Technology\", null, \"Technology\", \"Technology\", null, \"Technology\", \"Consumer Services\", \"Consumer Services\", \"Finance\", \"Consumer Services\", \"Consumer Services\", \"Consumer Services\", \"Consumer Non-Durables\", \"Basic Industries\", \"Technology\", \"Capital Goods\", \"Transportation\", \"Capital Goods\", null, \"Consumer Services\", \"Finance\", \"Miscellaneous\", \"Transportation\", \"Consumer Services\", \"Technology\", null, \"Health Care\", \"Health Care\", \"Miscellaneous\", \"Miscellaneous\", \"Finance\", \"Technology\", \"Technology\", \"Consumer Services\", \"Health Care\", \"Finance\", \"Health Care\", null, \"Technology\", \"Technology\", \"Technology\", \"Technology\", \"Technology\", \"Consumer Services\", \"Capital Goods\", \"Finance\", \"Consumer Non-Durables\", \"Consumer Services\", \"Finance\", \"Health Care\", \"Health Care\", \"Technology\", \"Technology\", \"Finance\", null, \"Finance\", \"Consumer Services\", \"Technology\", \"Health Care\", \"Public Utilities\", \"Consumer Services\", \"Technology\", \"Technology\", \"Technology\", \"Finance\", \"Consumer Services\", null, \"Technology\", \"Finance\", \"Capital Goods\", \"Basic Industries\", \"Consumer Durables\", \"Technology\", \"Capital Goods\", \"Capital Goods\", \"Consumer Services\", \"Finance\", \"Health Care\", \"Health Care\", \"Technology\", \"Consumer Services\", \"Public Utilities\", \"Health Care\", \"Technology\", \"Finance\", \"Energy\", \"Consumer Non-Durables\", \"Technology\", \"Finance\", \"Technology\", \"Consumer Durables\", \"Miscellaneous\", \"Consumer Services\", \"Consumer Services\", \"Technology\", \"Health Care\", \"Finance\", \"Finance\", \"Health Care\", \"Health Care\", \"Health Care\", \"Energy\", \"Energy\", \"Consumer Services\", \"Technology\", \"Basic Industries\", \"Health Care\", \"Health Care\", \"Consumer Non-Durables\", \"Consumer Services\", \"Finance\", \"Consumer Non-Durables\", \"Technology\", \"Consumer Services\", \"Finance\", \"Technology\", \"Energy\", \"Consumer Services\", \"Health Care\", \"Technology\", null, \"Finance\", \"Health Care\", \"Consumer Services\", \"Finance\", \"Consumer Non-Durables\", \"Consumer Services\", \"Finance\", \"Finance\", \"Capital Goods\", \"Consumer Non-Durables\", null, \"Consumer Services\", \"Health Care\", \"Health Care\", \"Finance\", \"Transportation\", \"Finance\", \"Technology\", \"Technology\", \"Health Care\", \"Basic Industries\", \"Finance\", \"Consumer Durables\", \"Finance\", \"Finance\", \"Technology\", \"Health Care\", \"Capital Goods\", \"Capital Goods\", \"Technology\", \"Transportation\", \"Consumer Non-Durables\", null, \"Finance\", \"Technology\", \"Finance\", \"Consumer Durables\", \"Consumer Services\", \"Technology\", \"Technology\", \"Technology\", \"Finance\", \"Technology\", \"Finance\", \"Consumer Services\", \"Consumer Services\", null, \"Finance\", \"Health Care\", \"Technology\", \"Technology\", \"Consumer Non-Durables\", \"Consumer Durables\", \"Consumer Services\", \"Finance\", \"Consumer Services\", \"Health Care\", \"Consumer Services\", \"Technology\", \"Consumer Services\", \"Capital Goods\", \"Finance\", \"Health Care\", \"Technology\", \"Energy\", \"Finance\", \"Finance\", \"Technology\", null, \"Finance\", \"Health Care\", \"Consumer Services\", \"Technology\", \"Finance\", \"Consumer Services\", \"Technology\", \"Health Care\", \"Consumer Services\", \"Basic Industries\", \"Health Care\", \"Technology\", \"Technology\", \"Technology\", \"Miscellaneous\", \"Finance\", \"Health Care\", \"Energy\", \"Consumer Services\", \"Health Care\", \"Consumer Durables\", \"Technology\", \"Miscellaneous\", \"Capital Goods\", \"Health Care\", \"Finance\", \"Finance\", \"Finance\", \"Consumer Services\", \"Technology\", \"Health Care\", \"Consumer Services\", \"Consumer Services\", \"Consumer Services\", \"Technology\", \"Transportation\", \"Consumer Services\", \"Health Care\", \"Miscellaneous\", \"Capital Goods\", \"Health Care\", \"Consumer Services\", \"Health Care\", \"Transportation\", \"Health Care\", \"Consumer Services\", \"Finance\", \"Health Care\", \"Health Care\", \"Consumer Non-Durables\", \"Technology\", \"Consumer Services\", \"Technology\", \"Technology\", \"Finance\", \"Consumer Services\", \"Finance\", null, \"Consumer Non-Durables\", \"Consumer Durables\", \"Finance\", \"Health Care\", \"Finance\", \"Technology\", \"Technology\", \"Technology\", \"Basic Industries\", \"Finance\", \"Health Care\", \"Health Care\", \"Consumer Services\", \"Consumer Services\", \"Consumer Services\", \"Technology\", \"Capital Goods\", \"Health Care\", \"Consumer Services\", \"Consumer Services\", \"Health Care\", \"Consumer Services\", \"Consumer Services\", \"Health Care\", \"Technology\", \"Finance\", \"Capital Goods\", \"Public Utilities\", \"Finance\", \"Health Care\", \"Health Care\", \"Energy\", \"Technology\", \"Finance\", \"Energy\", \"Technology\", \"Technology\", \"Miscellaneous\", \"Finance\", \"Health Care\", \"Finance\", \"Capital Goods\", null, \"Consumer Non-Durables\", \"Technology\", \"Finance\", \"Finance\", \"Finance\", \"Finance\", \"Health Care\", \"Technology\", \"Consumer Services\", \"Technology\", \"Consumer Non-Durables\", \"Capital Goods\", \"Technology\", \"Technology\", \"Finance\", \"Technology\", \"Technology\", null, \"Finance\", \"Public Utilities\", null, \"Miscellaneous\", \"Technology\", \"Consumer Non-Durables\", \"Consumer Services\", \"Technology\", \"Consumer Services\", \"Health Care\", \"Health Care\", \"Consumer Services\", \"Technology\", \"Finance\", \"Technology\", \"Capital Goods\", \"Miscellaneous\", \"Health Care\", \"Consumer Services\", \"Consumer Durables\", \"Technology\", \"Finance\", \"Basic Industries\", \"Consumer Services\", \"Miscellaneous\", null, \"Technology\", \"Consumer Services\", \"Consumer Services\", \"Consumer Non-Durables\", \"Consumer Services\", \"Technology\", \"Finance\", \"Consumer Non-Durables\", null, \"Consumer Services\", \"Consumer Durables\", null, \"Technology\", \"Public Utilities\", \"Consumer Durables\", \"Technology\", \"Health Care\", \"Capital Goods\", \"Energy\", \"Finance\", \"Consumer Services\", \"Technology\", \"Finance\", \"Technology\", \"Capital Goods\", \"Miscellaneous\", \"Finance\", \"Consumer Durables\", \"Technology\", \"Technology\", \"Finance\", \"Technology\", \"Public Utilities\", \"Finance\", \"Transportation\", \"Consumer Durables\", \"Finance\", \"Energy\", \"Health Care\", \"Finance\", null, null, \"Transportation\", \"Consumer Services\", \"Capital Goods\", \"Technology\", \"Technology\", \"Health Care\", \"Technology\", \"Energy\", \"Consumer Services\", \"Finance\", \"Consumer Services\", \"Health Care\", \"Consumer Services\", \"Finance\", \"Consumer Services\", \"Finance\", \"Health Care\", \"Finance\", \"Miscellaneous\", \"Capital Goods\", \"Miscellaneous\", \"Health Care\", \"Technology\", \"Public Utilities\", \"Energy\", \"Health Care\", \"Finance\", \"Finance\", \"Finance\", \"Consumer Services\", \"Finance\", \"Health Care\", \"Finance\", null, \"Transportation\", \"Technology\", \"Finance\", null, \"Health Care\", \"Health Care\", \"Transportation\", \"Finance\", \"Technology\", null, \"Health Care\", \"Technology\", \"Consumer Services\", \"Consumer Services\", \"Health Care\", \"Health Care\", \"Miscellaneous\", \"Finance\", \"Technology\", null, \"Finance\", \"Consumer Services\", \"Health Care\", \"Health Care\", \"Finance\", \"Finance\", \"Public Utilities\", \"Consumer Services\", \"Basic Industries\", \"Technology\", \"Public Utilities\", \"Finance\", \"Finance\", \"Technology\", \"Capital Goods\", \"Technology\", \"Consumer Services\", \"Capital Goods\", \"Technology\", \"Consumer Services\", null, \"Health Care\", \"Basic Industries\", \"Technology\", \"Technology\", \"Health Care\", null, \"Technology\", \"Consumer Non-Durables\", \"Health Care\", \"Finance\", \"Transportation\", \"Technology\", \"Technology\", \"Consumer Services\", \"Consumer Services\", \"Basic Industries\", \"Finance\", \"Consumer Services\", \"Public Utilities\", \"Capital Goods\", \"Finance\", \"Technology\", \"Technology\", \"Finance\", null, \"Miscellaneous\", \"Transportation\", \"Capital Goods\", \"Public Utilities\", null, \"Technology\", \"Consumer Services\", \"Transportation\", \"Health Care\", \"Technology\", \"Technology\", \"Basic Industries\", \"Health Care\", \"Consumer Durables\", \"Finance\", \"Consumer Non-Durables\", \"Consumer Services\", \"Technology\", null, \"Finance\", \"Public Utilities\", \"Health Care\", \"Capital Goods\", null, \"Technology\", \"Capital Goods\", \"Health Care\", \"Technology\", \"Health Care\", \"Health Care\", \"Capital Goods\", \"Consumer Services\", \"Technology\", \"Capital Goods\", \"Health Care\", \"Health Care\", \"Finance\", \"Miscellaneous\", \"Finance\", null, \"Technology\", \"Technology\", \"Consumer Durables\", \"Finance\", \"Capital Goods\", \"Finance\", \"Public Utilities\", \"Miscellaneous\", \"Health Care\", \"Capital Goods\", \"Consumer Durables\", \"Health Care\", \"Miscellaneous\", \"Health Care\", null, \"Finance\", \"Consumer Non-Durables\", \"Consumer Services\", \"Technology\", \"Basic Industries\", \"Finance\", \"Capital Goods\", \"Health Care\", \"Consumer Services\", \"Technology\", \"Health Care\", \"Capital Goods\", \"Finance\", \"Health Care\", \"Technology\", \"Capital Goods\", \"Public Utilities\", \"Finance\", \"Finance\", \"Consumer Non-Durables\", \"Technology\", \"Technology\", \"Technology\", \"Health Care\", \"Consumer Durables\", \"Health Care\", \"Consumer Services\", \"Finance\", \"Technology\", \"Health Care\", null, \"Technology\", \"Consumer Non-Durables\", \"Technology\", \"Finance\", \"Consumer Services\", \"Capital Goods\", \"Public Utilities\", \"Finance\", \"Health Care\", null, null, \"Transportation\", \"Health Care\", \"Consumer Services\", \"Finance\", \"Finance\", \"Capital Goods\", \"Health Care\", \"Health Care\", \"Finance\", null, \"Consumer Services\", \"Basic Industries\", \"Finance\", \"Public Utilities\", \"Consumer Durables\", \"Finance\", \"Capital Goods\", \"Capital Goods\", \"Health Care\", \"Basic Industries\", \"Health Care\", null, \"Technology\", \"Technology\", \"Consumer Non-Durables\", \"Health Care\", \"Consumer Services\", \"Technology\", \"Health Care\", \"Capital Goods\", \"Health Care\", \"Public Utilities\", \"Consumer Services\", null, \"Consumer Services\", \"Consumer Durables\", null, \"Health Care\", \"Health Care\", \"Transportation\", \"Finance\", \"Technology\", \"Public Utilities\", \"Consumer Non-Durables\", \"Finance\", \"Finance\", null, \"Finance\", null, \"Health Care\", \"Health Care\", \"Health Care\", \"Energy\", \"Energy\", \"Finance\", \"Consumer Services\", \"Health Care\", \"Technology\", \"Finance\", \"Health Care\", \"Finance\", null, \"Capital Goods\", \"Basic Industries\", \"Consumer Services\", \"Public Utilities\", \"Health Care\", \"Finance\", \"Finance\", \"Miscellaneous\", \"Capital Goods\", null, \"Technology\", \"Finance\", \"Technology\", \"Consumer Services\", \"Technology\", \"Miscellaneous\", null, \"Capital Goods\", \"Health Care\", \"Capital Goods\", \"Technology\", null, \"Health Care\", \"Capital Goods\", \"Consumer Services\", \"Technology\", \"Consumer Durables\", \"Health Care\", \"Health Care\", \"Health Care\", \"Basic Industries\", null, \"Health Care\", \"Basic Industries\", \"Finance\", \"Finance\", \"Finance\", \"Consumer Services\", \"Consumer Non-Durables\", \"Technology\", \"Technology\", \"Consumer Services\", \"Health Care\", \"Health Care\", \"Finance\", \"Technology\", null, \"Consumer Services\", \"Technology\", \"Finance\", \"Finance\", \"Health Care\", \"Finance\", \"Technology\", \"Technology\", \"Technology\", \"Finance\", \"Technology\", null, \"Public Utilities\", \"Consumer Services\", \"Finance\", \"Health Care\", \"Finance\", \"Health Care\", \"Technology\", null, \"Consumer Non-Durables\", \"Consumer Non-Durables\", \"Health Care\", \"Technology\", \"Technology\", null, \"Health Care\", \"Health Care\", \"Finance\", \"Health Care\", \"Health Care\", \"Consumer Services\", \"Finance\", \"Consumer Durables\", \"Health Care\", \"Capital Goods\", \"Consumer Services\", \"Miscellaneous\", null, \"Technology\", \"Finance\", \"Technology\", \"Technology\", \"Health Care\", \"Finance\", \"Health Care\", \"Consumer Services\", \"Capital Goods\", \"Technology\", \"Health Care\", \"Health Care\", null, null, \"Finance\", \"Technology\", null, \"Finance\", \"Technology\", \"Consumer Services\", \"Finance\", \"Technology\", \"Consumer Services\", \"Transportation\", \"Finance\", null, \"Consumer Services\", \"Health Care\", null, \"Health Care\", \"Finance\", \"Consumer Services\", \"Miscellaneous\", \"Consumer Services\", \"Basic Industries\", \"Basic Industries\", \"Health Care\", \"Finance\", \"Energy\", \"Energy\", \"Finance\", \"Technology\", \"Transportation\", \"Technology\", \"Finance\", \"Consumer Services\", \"Consumer Services\", \"Health Care\", \"Consumer Services\", null, \"Finance\", \"Health Care\", \"Technology\", \"Health Care\", \"Finance\", \"Finance\", \"Finance\", \"Technology\", \"Finance\", \"Finance\", \"Finance\", \"Capital Goods\", \"Technology\", \"Finance\", \"Energy\", \"Health Care\", \"Consumer Non-Durables\", \"Technology\", \"Consumer Services\", \"Health Care\", \"Health Care\", \"Public Utilities\", \"Finance\", \"Health Care\", \"Miscellaneous\", null, null, \"Capital Goods\", \"Technology\", null, \"Health Care\", \"Finance\", \"Consumer Services\", \"Health Care\", null, \"Miscellaneous\", \"Finance\", \"Finance\", \"Consumer Services\", null, \"Health Care\", \"Finance\", \"Health Care\", \"Consumer Services\", \"Health Care\", \"Technology\", \"Finance\", null, \"Health Care\", \"Basic Industries\", \"Technology\", \"Energy\", \"Finance\", \"Capital Goods\", \"Capital Goods\", \"Finance\", null, \"Health Care\", \"Capital Goods\", \"Consumer Services\", \"Finance\", \"Finance\", \"Technology\", \"Technology\", \"Capital Goods\", \"Basic Industries\", \"Health Care\", \"Finance\", \"Health Care\", \"Capital Goods\", \"Technology\", \"Finance\", \"Finance\", \"Consumer Services\", \"Consumer Services\", \"Health Care\", \"Health Care\", \"Health Care\", \"Health Care\", \"Consumer Durables\", \"Transportation\", \"Finance\", \"Capital Goods\", \"Health Care\", \"Consumer Services\", \"Finance\", \"Health Care\", \"Finance\", \"Capital Goods\", null, null, \"Public Utilities\", \"Health Care\", \"Capital Goods\", null, \"Consumer Non-Durables\", \"Technology\", \"Finance\", \"Finance\", \"Public Utilities\", \"Finance\", \"Consumer Services\", \"Technology\", null, \"Health Care\", \"Miscellaneous\", \"Consumer Services\", \"Health Care\", \"Consumer Services\", \"Health Care\", \"Public Utilities\", \"Consumer Services\", \"Consumer Services\", \"Health Care\", \"Health Care\", \"Finance\", \"Finance\", null, \"Finance\", \"Consumer Services\", \"Public Utilities\", \"Consumer Services\", \"Finance\", null, \"Health Care\", \"Consumer Services\", \"Health Care\", \"Technology\", \"Consumer Services\", \"Technology\", \"Health Care\", \"Finance\", \"Health Care\", \"Consumer Services\", \"Health Care\", null, \"Technology\", \"Finance\", \"Health Care\", \"Consumer Services\", \"Finance\", \"Technology\", \"Capital Goods\", \"Health Care\", null, \"Basic Industries\", \"Finance\", \"Transportation\", \"Finance\", \"Finance\", \"Basic Industries\", \"Technology\", \"Capital Goods\", \"Consumer Durables\", \"Transportation\", \"Consumer Services\", \"Technology\", \"Health Care\", \"Finance\", null, \"Finance\", \"Health Care\", \"Consumer Services\", \"Capital Goods\", \"Capital Goods\", \"Health Care\", \"Consumer Services\", \"Technology\", \"Finance\", \"Capital Goods\", null, \"Finance\", \"Health Care\", \"Health Care\", \"Finance\", \"Consumer Services\", \"Health Care\", \"Finance\", \"Finance\", \"Technology\", \"Energy\", \"Consumer Services\", \"Health Care\", \"Consumer Services\", \"Technology\", \"Consumer Services\", \"Finance\", \"Capital Goods\", \"Health Care\", \"Consumer Services\", \"Technology\", \"Finance\", \"Energy\", null, \"Finance\", \"Health Care\", \"Health Care\", \"Health Care\", \"Health Care\", \"Capital Goods\", \"Health Care\", \"Health Care\", \"Consumer Services\", \"Consumer Services\", \"Finance\", \"Health Care\", \"Health Care\", null, \"Capital Goods\", \"Consumer Durables\", \"Consumer Services\", \"Technology\", \"Capital Goods\", \"Capital Goods\", null, null, \"Health Care\", \"Finance\", \"Finance\", \"Consumer Services\", \"Consumer Durables\", \"Technology\", \"Technology\", \"Capital Goods\", \"Technology\", null, \"Health Care\", null, null, \"Technology\", \"Consumer Services\", \"Health Care\", \"Public Utilities\", \"Finance\", \"Finance\", null, \"Finance\", \"Health Care\", \"Finance\", \"Finance\", \"Capital Goods\", null, \"Finance\", \"Finance\", \"Consumer Durables\", \"Consumer Services\", \"Health Care\", \"Consumer Services\", \"Finance\", \"Finance\", \"Consumer Services\", \"Consumer Services\", \"Capital Goods\", \"Health Care\", \"Health Care\", \"Consumer Services\", \"Capital Goods\", \"Energy\", \"Finance\", \"Consumer Non-Durables\", \"Finance\", \"Finance\", \"Technology\", \"Health Care\", \"Health Care\", \"Health Care\", \"Public Utilities\", \"Health Care\", \"Finance\", \"Health Care\", \"Technology\", \"Technology\", \"Basic Industries\", null, \"Health Care\", \"Technology\", \"Basic Industries\", \"Finance\", \"Finance\", \"Technology\", \"Consumer Services\", \"Finance\", \"Finance\", \"Technology\", \"Finance\", \"Health Care\", \"Consumer Services\", null, \"Health Care\", \"Public Utilities\", \"Finance\", \"Health Care\", \"Consumer Services\", \"Technology\", \"Consumer Services\", \"Health Care\", \"Public Utilities\", \"Health Care\", \"Consumer Services\", \"Consumer Services\", \"Technology\", \"Consumer Non-Durables\", \"Health Care\", \"Finance\", null, \"Transportation\", \"Health Care\", \"Finance\", \"Consumer Services\", \"Health Care\", \"Capital Goods\", \"Health Care\", \"Consumer Services\", \"Health Care\", \"Finance\", \"Finance\", \"Consumer Services\", \"Health Care\", \"Technology\", \"Finance\", \"Finance\", \"Finance\", \"Miscellaneous\", \"Consumer Durables\", null, \"Technology\", \"Finance\", null, \"Health Care\", \"Consumer Durables\", \"Consumer Services\", \"Finance\", \"Finance\", \"Technology\", \"Capital Goods\", \"Capital Goods\", \"Public Utilities\", \"Health Care\", \"Consumer Services\", \"Health Care\", \"Transportation\", \"Health Care\", \"Health Care\", \"Technology\", \"Consumer Services\", null, \"Finance\", null, \"Finance\", \"Finance\", \"Consumer Services\", \"Basic Industries\", \"Health Care\", null, \"Technology\", \"Health Care\", \"Health Care\", \"Finance\", null, \"Health Care\", null, \"Consumer Services\", \"Consumer Services\", \"Basic Industries\", \"Finance\", \"Consumer Non-Durables\", \"Health Care\", \"Health Care\", \"Finance\", \"Consumer Services\", \"Health Care\", \"Public Utilities\", \"Consumer Services\", \"Consumer Durables\", \"Capital Goods\", null, \"Finance\", \"Capital Goods\", \"Capital Goods\", \"Finance\", null, \"Health Care\", \"Health Care\", null, \"Technology\", \"Finance\", \"Capital Goods\", \"Consumer Non-Durables\", \"Finance\", \"Finance\", \"Technology\", \"Health Care\", \"Health Care\", \"Consumer Non-Durables\", \"Health Care\", \"Finance\", \"Finance\", \"Technology\", \"Health Care\", \"Finance\", \"Finance\", \"Health Care\", \"Health Care\", \"Finance\", \"Consumer Services\", \"Technology\", \"Finance\", \"Consumer Durables\", \"Finance\", \"Health Care\", \"Health Care\", \"Finance\", \"Finance\", \"Consumer Services\", \"Finance\", \"Health Care\", \"Consumer Services\", \"Consumer Services\", \"Health Care\", \"Consumer Non-Durables\", null, \"Health Care\", \"Health Care\", \"Health Care\", \"Transportation\", \"Basic Industries\", \"Transportation\", \"Health Care\", \"Consumer Services\", \"Technology\", \"Technology\", null, \"Health Care\", \"Health Care\", \"Consumer Non-Durables\", \"Health Care\", \"Consumer Non-Durables\", \"Public Utilities\", \"Basic Industries\", \"Capital Goods\", \"Finance\", \"Consumer Non-Durables\", \"Health Care\", \"Technology\", \"Consumer Services\", null, \"Public Utilities\", \"Finance\", \"Energy\", \"Consumer Services\", \"Finance\", \"Finance\", \"Consumer Services\", \"Energy\", \"Energy\", \"Transportation\", \"Technology\", \"Health Care\", \"Consumer Durables\", \"Consumer Services\", \"Health Care\", \"Health Care\", \"Technology\", \"Miscellaneous\", \"Consumer Non-Durables\", null, null, \"Consumer Services\", \"Public Utilities\", null, \"Consumer Non-Durables\", \"Health Care\", \"Technology\", \"Technology\", \"Finance\", null, \"Energy\", \"Energy\", \"Miscellaneous\", \"Health Care\", \"Finance\", \"Finance\", \"Technology\", \"Finance\", \"Technology\", \"Health Care\", \"Finance\", \"Consumer Non-Durables\", \"Basic Industries\", \"Consumer Services\", \"Health Care\", \"Health Care\", \"Finance\", \"Health Care\", \"Finance\", \"Finance\", \"Consumer Durables\", \"Health Care\", \"Technology\", \"Consumer Services\", \"Finance\", \"Health Care\", \"Finance\", \"Finance\", \"Capital Goods\", \"Health Care\", \"Capital Goods\", \"Health Care\", \"Finance\", null, \"Consumer Non-Durables\", \"Technology\", null, null, \"Miscellaneous\", \"Finance\", \"Finance\", \"Health Care\", \"Consumer Services\", \"Consumer Durables\", null, null, \"Technology\", \"Finance\", \"Health Care\", \"Health Care\", \"Technology\", \"Technology\", \"Consumer Non-Durables\", \"Energy\", \"Technology\", \"Finance\", \"Health Care\", \"Health Care\", \"Technology\", \"Health Care\", null, \"Finance\", \"Consumer Services\", \"Finance\", null, \"Finance\", \"Finance\", \"Basic Industries\", \"Consumer Durables\", \"Finance\", \"Technology\", \"Technology\", null, \"Consumer Durables\", null, \"Finance\", \"Capital Goods\", \"Finance\", \"Finance\", \"Health Care\", \"Technology\", \"Consumer Services\", \"Transportation\", \"Miscellaneous\", \"Capital Goods\", \"Consumer Services\", \"Technology\", \"Health Care\", \"Basic Industries\", \"Finance\", \"Finance\", null, \"Consumer Services\", \"Consumer Services\", \"Health Care\", \"Energy\", \"Miscellaneous\", \"Finance\", null, null, \"Finance\", \"Health Care\", \"Consumer Services\", \"Health Care\", \"Energy\", \"Finance\", \"Health Care\", \"Finance\", \"Health Care\", \"Consumer Non-Durables\", \"Finance\", \"Health Care\", \"Finance\", \"Finance\", \"Consumer Durables\", \"Capital Goods\", \"Health Care\", null, \"Miscellaneous\", \"Finance\", \"Technology\", null, \"Health Care\", \"Technology\", \"Health Care\", \"Capital Goods\", \"Consumer Non-Durables\", null, \"Basic Industries\", \"Miscellaneous\", \"Finance\", \"Technology\", null, \"Energy\", null, \"Technology\", \"Miscellaneous\", \"Consumer Durables\", \"Energy\", \"Finance\", \"Technology\", null, \"Miscellaneous\", \"Finance\", null, \"Capital Goods\", \"Consumer Non-Durables\", \"Finance\", \"Health Care\", \"Consumer Durables\", \"Miscellaneous\", \"Miscellaneous\", \"Finance\", \"Health Care\", \"Consumer Non-Durables\", null, \"Technology\", \"Health Care\", \"Technology\", \"Public Utilities\", \"Miscellaneous\", \"Health Care\", null, \"Capital Goods\", \"Finance\", \"Finance\", \"Finance\", \"Finance\", \"Consumer Services\", \"Public Utilities\", \"Health Care\", \"Health Care\", \"Consumer Services\", \"Consumer Services\", \"Technology\", \"Health Care\", \"Finance\", \"Health Care\", \"Public Utilities\", \"Finance\", \"Public Utilities\", \"Consumer Durables\", \"Capital Goods\", null, \"Finance\", \"Health Care\", \"Technology\", \"Finance\", \"Finance\", \"Consumer Services\", \"Technology\", \"Health Care\", \"Finance\", \"Finance\", \"Consumer Services\", \"Consumer Services\", \"Capital Goods\", null, \"Health Care\", \"Health Care\", \"Finance\", \"Technology\", \"Consumer Services\", \"Finance\", \"Finance\", \"Miscellaneous\", \"Health Care\", \"Miscellaneous\", \"Energy\", \"Capital Goods\", \"Health Care\", \"Consumer Durables\", null, \"Basic Industries\", \"Capital Goods\", \"Miscellaneous\", \"Technology\", \"Finance\", \"Health Care\", \"Capital Goods\", null, \"Consumer Services\", \"Health Care\", \"Finance\", \"Health Care\", \"Public Utilities\", \"Consumer Services\", \"Finance\", \"Health Care\", \"Finance\", \"Technology\", \"Health Care\", \"Technology\", \"Technology\", \"Health Care\", null, \"Health Care\", \"Consumer Durables\", \"Health Care\", null, \"Finance\", \"Health Care\", \"Technology\", \"Miscellaneous\", \"Consumer Services\", null, \"Health Care\", \"Finance\", \"Health Care\", \"Finance\", null, \"Technology\", \"Capital Goods\", \"Finance\", \"Health Care\", \"Health Care\", \"Finance\", \"Transportation\", \"Transportation\", \"Finance\", \"Finance\", \"Health Care\", \"Capital Goods\", \"Consumer Non-Durables\", null, null, \"Health Care\", \"Finance\", \"Health Care\", \"Health Care\", \"Miscellaneous\", \"Miscellaneous\", \"Finance\", \"Basic Industries\", \"Capital Goods\", \"Capital Goods\", \"Finance\", \"Health Care\", \"Miscellaneous\", \"Finance\", \"Consumer Durables\", \"Technology\", \"Basic Industries\", \"Health Care\", \"Finance\", \"Consumer Durables\", \"Consumer Services\", \"Basic Industries\", \"Finance\", \"Finance\", \"Miscellaneous\", \"Health Care\", \"Consumer Durables\", \"Finance\", \"Consumer Services\", \"Health Care\", \"Finance\", \"Health Care\", \"Health Care\", \"Finance\", \"Finance\", \"Public Utilities\", null, \"Finance\", \"Technology\", null, \"Health Care\", \"Consumer Services\", \"Health Care\", \"Technology\", null, \"Consumer Durables\", null, \"Finance\", \"Finance\", \"Finance\", \"Public Utilities\", \"Finance\", \"Finance\", \"Health Care\", \"Finance\", \"Consumer Services\", \"Health Care\", \"Finance\", \"Capital Goods\", \"Consumer Services\", \"Finance\", \"Finance\", \"Public Utilities\", \"Technology\", \"Consumer Services\", \"Energy\", \"Finance\", \"Consumer Non-Durables\", \"Finance\", \"Health Care\", \"Finance\", \"Basic Industries\", \"Capital Goods\", \"Health Care\", \"Finance\", null, null, null, \"Technology\", \"Finance\", \"Health Care\", \"Health Care\", \"Finance\", null, \"Technology\", \"Consumer Services\", \"Consumer Durables\", \"Finance\", \"Health Care\", \"Capital Goods\", \"Consumer Non-Durables\", \"Consumer Services\", \"Finance\", \"Finance\", \"Capital Goods\", \"Finance\", \"Technology\", null, \"Finance\", null, \"Capital Goods\", \"Consumer Non-Durables\", \"Finance\", \"Health Care\", \"Finance\", \"Consumer Services\", \"Miscellaneous\", null, \"Capital Goods\", null, \"Health Care\", null, \"Finance\", null, \"Finance\", \"Consumer Durables\", null, \"Finance\", \"Consumer Services\", \"Finance\", \"Consumer Durables\", \"Transportation\", \"Health Care\", \"Health Care\", \"Finance\", \"Health Care\", \"Finance\", \"Technology\", \"Health Care\", \"Technology\", \"Health Care\", null, \"Finance\", null, \"Finance\", null, null, \"Finance\", null, \"Consumer Durables\", null, \"Consumer Services\", \"Technology\", null, \"Health Care\", \"Technology\", \"Health Care\", \"Basic Industries\", null, \"Health Care\", \"Capital Goods\", \"Health Care\", \"Health Care\", \"Technology\", null, \"Finance\", null, \"Finance\", \"Technology\", \"Public Utilities\", \"Finance\", \"Finance\", \"Finance\", \"Capital Goods\", \"Health Care\", \"Technology\", \"Public Utilities\", \"Capital Goods\", \"Finance\", null, null, null, \"Consumer Services\", \"Capital Goods\", \"Finance\", \"Basic Industries\", \"Health Care\", \"Health Care\", \"Health Care\", \"Consumer Services\", \"Health Care\", \"Health Care\", \"Health Care\", \"Finance\", \"Technology\", null, \"Consumer Services\", null, null, \"Consumer Services\", \"Technology\", \"Finance\", \"Basic Industries\", \"Technology\", \"Health Care\", \"Finance\", \"Health Care\", \"Capital Goods\", \"Health Care\", \"Finance\", \"Finance\", \"Technology\", \"Transportation\", \"Basic Industries\", \"Health Care\", \"Consumer Durables\", \"Health Care\", \"Consumer Services\", \"Finance\", \"Basic Industries\", \"Health Care\", \"Miscellaneous\", null, null, \"Technology\", null, null, \"Consumer Services\", \"Consumer Services\", \"Miscellaneous\", null, \"Finance\", \"Capital Goods\", \"Health Care\", \"Public Utilities\", \"Consumer Non-Durables\", \"Technology\", null, \"Technology\", \"Finance\", \"Finance\", null, \"Consumer Non-Durables\", \"Finance\", \"Finance\", null, \"Finance\", null, \"Health Care\", \"Health Care\", \"Finance\", \"Finance\", \"Energy\", \"Finance\", \"Miscellaneous\", \"Health Care\", \"Finance\", \"Finance\", \"Technology\", \"Consumer Non-Durables\", null, \"Finance\", \"Energy\", \"Health Care\", \"Health Care\", null, \"Consumer Services\", \"Finance\", \"Energy\", \"Technology\", \"Health Care\", \"Health Care\", \"Miscellaneous\", \"Public Utilities\", \"Health Care\", \"Technology\", \"Health Care\", \"Technology\", \"Technology\", null, \"Energy\", \"Consumer Non-Durables\", \"Health Care\", \"Finance\", \"Finance\", \"Energy\", \"Health Care\", \"Health Care\", \"Finance\", \"Finance\", \"Health Care\", \"Consumer Non-Durables\", \"Consumer Non-Durables\", \"Finance\", \"Finance\", \"Health Care\", \"Finance\", \"Finance\", \"Health Care\", \"Technology\", \"Capital Goods\", \"Health Care\", \"Energy\", \"Technology\", \"Basic Industries\", \"Health Care\", \"Technology\", \"Health Care\", \"Consumer Non-Durables\", \"Technology\", \"Capital Goods\", \"Health Care\", \"Health Care\", \"Health Care\", \"Finance\", null, null, null, \"Basic Industries\", \"Health Care\", \"Health Care\", \"Health Care\", null, \"Health Care\", null, \"Technology\", \"Energy\", null, \"Finance\", \"Health Care\", null, \"Finance\", \"Health Care\", \"Consumer Non-Durables\", \"Technology\", \"Health Care\", \"Consumer Durables\", \"Finance\", null, \"Technology\", \"Finance\", \"Health Care\", \"Consumer Services\", \"Finance\", \"Consumer Non-Durables\", \"Health Care\", \"Health Care\", \"Transportation\", null, \"Health Care\", \"Health Care\", null, \"Capital Goods\", null, \"Health Care\", \"Finance\", \"Health Care\", null, \"Finance\", \"Health Care\", \"Health Care\", \"Health Care\", null, \"Health Care\", \"Energy\", \"Finance\", \"Consumer Durables\", \"Technology\", \"Basic Industries\", \"Miscellaneous\", \"Technology\", \"Health Care\", null, \"Finance\", \"Consumer Durables\", \"Capital Goods\", null, \"Consumer Services\", \"Finance\", \"Technology\", \"Consumer Services\", \"Finance\", \"Technology\", \"Miscellaneous\", \"Finance\", \"Finance\", null, \"Consumer Services\", \"Technology\", \"Health Care\", \"Finance\", \"Technology\", \"Technology\", \"Consumer Durables\", \"Public Utilities\", \"Health Care\", \"Capital Goods\", \"Capital Goods\", \"Consumer Services\", \"Health Care\", \"Technology\", \"Finance\", \"Basic Industries\", \"Health Care\", \"Capital Goods\", \"Finance\", \"Finance\", \"Consumer Non-Durables\", null, \"Transportation\", \"Miscellaneous\", \"Miscellaneous\", \"Finance\", \"Finance\", \"Basic Industries\", \"Capital Goods\", \"Finance\", \"Basic Industries\", \"Consumer Services\", \"Capital Goods\", \"Capital Goods\", \"Basic Industries\", \"Consumer Non-Durables\", \"Consumer Services\", \"Finance\", \"Consumer Services\", \"Technology\", null, \"Energy\", \"Finance\", \"Health Care\", null, \"Consumer Services\", \"Technology\", \"Technology\", \"Basic Industries\", \"Finance\", \"Finance\", \"Finance\", \"Health Care\", \"Health Care\", \"Finance\", \"Health Care\", \"Health Care\", \"Technology\", null, \"Technology\", \"Consumer Non-Durables\", \"Health Care\", \"Technology\", \"Energy\", \"Consumer Non-Durables\", \"Consumer Non-Durables\", \"Capital Goods\", \"Technology\", \"Technology\", \"Health Care\", \"Energy\", \"Capital Goods\", \"Finance\", \"Finance\", \"Finance\", \"Health Care\", \"Consumer Services\", \"Finance\", \"Technology\", \"Finance\", \"Health Care\", \"Health Care\", \"Capital Goods\", \"Health Care\", \"Consumer Non-Durables\", \"Finance\", \"Health Care\", \"Miscellaneous\", \"Health Care\", null, \"Finance\", \"Health Care\", \"Consumer Durables\", \"Basic Industries\", \"Health Care\", \"Transportation\", \"Consumer Services\", \"Finance\", \"Technology\", \"Consumer Services\", \"Finance\", \"Capital Goods\", \"Health Care\", \"Health Care\", \"Health Care\", null, \"Consumer Non-Durables\", \"Health Care\", \"Energy\", \"Finance\", \"Health Care\", \"Finance\", \"Health Care\", \"Miscellaneous\", \"Technology\", \"Health Care\", \"Technology\", \"Health Care\", \"Capital Goods\", \"Technology\", \"Finance\", \"Health Care\", \"Finance\", \"Finance\", \"Health Care\", \"Finance\", \"Consumer Services\", \"Health Care\", \"Health Care\", \"Health Care\", \"Health Care\", null, \"Finance\", \"Health Care\", \"Energy\", \"Technology\", \"Consumer Non-Durables\", \"Finance\", \"Consumer Services\", \"Technology\", \"Health Care\", \"Consumer Services\", \"Health Care\", \"Health Care\", \"Consumer Non-Durables\", \"Health Care\", \"Health Care\", \"Capital Goods\", \"Health Care\", \"Finance\", \"Health Care\", \"Technology\", null, \"Health Care\", \"Consumer Services\", \"Finance\", \"Health Care\", \"Finance\", \"Energy\", \"Health Care\", \"Miscellaneous\", \"Consumer Durables\", \"Health Care\", \"Health Care\", \"Consumer Services\", null, \"Capital Goods\", \"Finance\", \"Technology\", \"Finance\", null, \"Finance\", \"Miscellaneous\", \"Capital Goods\", \"Finance\", \"Consumer Services\", \"Technology\", null, \"Consumer Durables\", \"Finance\", \"Health Care\", \"Finance\", \"Technology\", \"Technology\", \"Capital Goods\", \"Health Care\", \"Health Care\", \"Basic Industries\", \"Health Care\", null, \"Capital Goods\", \"Health Care\", \"Health Care\", null, \"Health Care\", \"Technology\", \"Technology\", \"Finance\", null, \"Health Care\", null, \"Capital Goods\", \"Consumer Durables\", \"Technology\", \"Basic Industries\", \"Health Care\", \"Finance\", \"Capital Goods\", \"Consumer Durables\", \"Technology\", \"Consumer Non-Durables\", \"Technology\", null, \"Finance\", \"Finance\", null, null, \"Transportation\", \"Technology\", \"Health Care\", null, \"Basic Industries\", \"Finance\", \"Consumer Services\", \"Finance\", \"Consumer Services\", \"Technology\", null, null, \"Health Care\", \"Energy\", \"Consumer Services\", \"Health Care\", \"Finance\", \"Miscellaneous\", \"Finance\", \"Energy\", \"Health Care\", \"Finance\", \"Transportation\", null, \"Technology\", \"Finance\", \"Consumer Services\", \"Consumer Durables\", null, null, \"Finance\", \"Consumer Services\", \"Finance\", \"Finance\", \"Health Care\", \"Health Care\", null, \"Technology\", \"Miscellaneous\", null, \"Finance\", \"Health Care\", \"Health Care\", \"Finance\", \"Consumer Non-Durables\", \"Health Care\", \"Finance\", \"Finance\", null, \"Finance\", \"Technology\", \"Consumer Services\", \"Capital Goods\", \"Basic Industries\", null, \"Finance\", null, \"Health Care\", \"Health Care\", \"Health Care\", \"Capital Goods\", \"Consumer Services\", \"Consumer Non-Durables\", \"Finance\", \"Finance\", \"Technology\", null, null, \"Consumer Non-Durables\", \"Technology\", \"Miscellaneous\", \"Consumer Durables\", \"Consumer Services\", \"Basic Industries\", \"Health Care\", \"Capital Goods\", \"Technology\", \"Finance\", \"Consumer Services\", \"Finance\", \"Consumer Durables\", \"Consumer Services\", \"Finance\", \"Technology\", \"Consumer Durables\", \"Finance\", \"Consumer Services\", \"Health Care\", \"Health Care\", \"Health Care\", \"Health Care\", \"Consumer Durables\", \"Consumer Durables\", \"Public Utilities\", \"Finance\", null, null, \"Finance\", \"Basic Industries\", null, \"Capital Goods\", \"Health Care\", \"Health Care\", \"Technology\", \"Miscellaneous\", \"Technology\", \"Technology\", \"Finance\", \"Consumer Services\", \"Health Care\", \"Consumer Services\", null, \"Finance\", \"Health Care\", \"Transportation\", null, \"Health Care\", \"Consumer Non-Durables\", \"Health Care\", null, null, \"Technology\", \"Health Care\", \"Consumer Non-Durables\", \"Health Care\", \"Energy\", \"Health Care\", \"Health Care\", \"Health Care\", \"Miscellaneous\", \"Capital Goods\", \"Consumer Services\", null, \"Energy\", \"Technology\", \"Public Utilities\", \"Health Care\", \"Health Care\", null, \"Health Care\", \"Consumer Services\", \"Technology\", \"Finance\", \"Consumer Services\", \"Health Care\", \"Technology\", null, \"Consumer Services\", \"Technology\", \"Technology\", \"Consumer Services\", \"Consumer Durables\", \"Finance\", null, \"Technology\", \"Basic Industries\", \"Health Care\", null, \"Miscellaneous\", \"Finance\", \"Health Care\", \"Finance\", \"Basic Industries\", \"Finance\", \"Health Care\", \"Energy\", \"Health Care\", \"Transportation\", \"Health Care\", \"Health Care\", \"Capital Goods\", \"Health Care\", \"Consumer Durables\", \"Health Care\", \"Miscellaneous\", \"Technology\", null, \"Finance\", \"Public Utilities\", \"Consumer Durables\", \"Basic Industries\", \"Technology\", \"Consumer Durables\", \"Health Care\", \"Finance\", \"Health Care\", \"Health Care\", \"Finance\", \"Finance\", \"Transportation\", \"Consumer Services\", null, \"Technology\", \"Health Care\", \"Consumer Non-Durables\", null, \"Capital Goods\", \"Health Care\", \"Consumer Services\", \"Miscellaneous\", null, \"Public Utilities\", \"Finance\", \"Health Care\", \"Consumer Non-Durables\", \"Health Care\", \"Miscellaneous\", \"Finance\", \"Capital Goods\", \"Consumer Non-Durables\", \"Technology\", \"Health Care\", \"Health Care\", \"Health Care\", \"Health Care\", \"Health Care\", \"Consumer Services\", null, \"Health Care\", \"Finance\", \"Basic Industries\", \"Health Care\", \"Finance\", \"Technology\", null, \"Health Care\", \"Consumer Services\", \"Health Care\", \"Consumer Services\", \"Transportation\", \"Consumer Services\", \"Public Utilities\", \"Finance\", \"Technology\", \"Energy\", \"Health Care\", null, null, \"Health Care\", null, \"Health Care\", \"Health Care\", \"Health Care\", \"Capital Goods\", \"Consumer Non-Durables\", \"Consumer Services\", \"Technology\", \"Consumer Services\", \"Consumer Non-Durables\", \"Health Care\", \"Technology\", \"Miscellaneous\", null, null, \"Consumer Services\", \"Consumer Services\", \"Consumer Services\", \"Health Care\", \"Health Care\", \"Technology\", \"Health Care\", null, \"Health Care\", \"Health Care\", \"Health Care\", \"Technology\", \"Consumer Services\", \"Technology\", \"Technology\", \"Basic Industries\", \"Finance\", \"Consumer Durables\", \"Basic Industries\", null, null, \"Finance\", \"Consumer Non-Durables\", \"Health Care\", \"Technology\", \"Health Care\", \"Technology\", null, null, \"Public Utilities\", null, \"Health Care\", \"Basic Industries\", \"Capital Goods\", \"Capital Goods\", \"Miscellaneous\", \"Health Care\", \"Health Care\", \"Miscellaneous\", \"Technology\", \"Capital Goods\", null, \"Health Care\", \"Technology\", null, \"Health Care\", \"Technology\", \"Consumer Durables\", \"Capital Goods\", \"Health Care\", \"Technology\", \"Technology\", \"Health Care\", null, \"Technology\", null, \"Technology\", \"Finance\", \"Consumer Non-Durables\", \"Consumer Non-Durables\", \"Technology\", \"Basic Industries\", null, \"Technology\", null, null, \"Technology\", \"Health Care\", \"Technology\", \"Miscellaneous\", \"Technology\", null, \"Consumer Services\", \"Consumer Services\", \"Finance\", \"Basic Industries\", \"Energy\", \"Public Utilities\", \"Miscellaneous\", \"Health Care\", \"Finance\", \"Consumer Durables\", \"Consumer Non-Durables\", \"Finance\", \"Consumer Services\", \"Health Care\", null, \"Energy\", \"Health Care\", \"Transportation\", \"Health Care\", null, \"Capital Goods\", \"Health Care\", null, \"Capital Goods\", \"Consumer Services\", null, \"Health Care\", null, null, \"Health Care\", \"Technology\", \"Health Care\", null, \"Miscellaneous\", \"Health Care\", null, \"Energy\", \"Consumer Services\", null, null, \"Technology\", \"Health Care\", \"Consumer Services\", \"Health Care\", null, \"Health Care\", \"Technology\", \"Miscellaneous\", \"Basic Industries\", \"Health Care\", \"Consumer Durables\", \"Finance\", null, \"Health Care\", \"Technology\", \"Consumer Services\", \"Consumer Services\", null, \"Finance\", \"Technology\", \"Transportation\", \"Basic Industries\", \"Consumer Non-Durables\", null, \"Health Care\", \"Health Care\", \"Health Care\", \"Consumer Services\", \"Technology\", \"Health Care\", \"Health Care\", \"Health Care\", \"Health Care\", \"Health Care\", \"Consumer Services\", \"Capital Goods\", \"Health Care\", \"Health Care\", \"Technology\", \"Consumer Services\", \"Health Care\", \"Technology\", \"Health Care\", \"Capital Goods\", null, \"Energy\", \"Health Care\", \"Consumer Services\", \"Finance\", \"Health Care\", \"Technology\", \"Health Care\", \"Finance\", \"Capital Goods\", \"Health Care\", \"Health Care\", \"Capital Goods\", null, \"Health Care\", \"Health Care\", \"Finance\", \"Health Care\", \"Finance\", \"Capital Goods\", null, \"Health Care\", \"Health Care\", \"Consumer Services\", \"Transportation\", \"Miscellaneous\", \"Consumer Durables\", \"Basic Industries\", \"Health Care\", \"Health Care\", \"Health Care\", \"Health Care\", \"Capital Goods\", \"Finance\", \"Consumer Services\", \"Consumer Services\", \"Consumer Non-Durables\", \"Technology\", \"Consumer Durables\", \"Health Care\", \"Public Utilities\", \"Public Utilities\", \"Technology\", null, \"Health Care\", \"Consumer Durables\", \"Consumer Services\", \"Technology\", null, \"Energy\", \"Health Care\", \"Technology\", null, \"Health Care\", \"Miscellaneous\", \"Health Care\", null, \"Public Utilities\", null, \"Health Care\", \"Consumer Non-Durables\", \"Capital Goods\", \"Technology\", null, \"Consumer Non-Durables\", null, \"Consumer Non-Durables\", \"Technology\", null, null, null, \"Health Care\", \"Basic Industries\", null, \"Consumer Non-Durables\", \"Capital Goods\", \"Health Care\", \"Technology\", \"Health Care\", \"Technology\", \"Health Care\", \"Basic Industries\", null, \"Energy\", \"Technology\", null, null, \"Capital Goods\", null, null, \"Technology\", \"Energy\", null, \"Technology\", \"Health Care\", \"Health Care\", \"Finance\", \"Consumer Services\", \"Capital Goods\", \"Capital Goods\", \"Finance\", null, \"Consumer Durables\", \"Basic Industries\", \"Consumer Non-Durables\", \"Health Care\", null, null, \"Consumer Services\", null, null, \"Capital Goods\", \"Health Care\", null, null, \"Technology\", \"Technology\", \"Health Care\", \"Health Care\", null, null, \"Consumer Services\", null, \"Consumer Services\", \"Consumer Non-Durables\", null, \"Technology\", null, \"Technology\", \"Transportation\", \"Health Care\", \"Technology\", \"Health Care\", \"Energy\", \"Capital Goods\", \"Miscellaneous\", \"Health Care\", \"Finance\", null, \"Finance\", null, \"Technology\", null, null, \"Health Care\", null, \"Health Care\", \"Health Care\", null, \"Capital Goods\", \"Health Care\", \"Consumer Non-Durables\", \"Public Utilities\", \"Capital Goods\", \"Technology\", null, \"Technology\", \"Finance\", null, null, \"Health Care\", null, null, \"Basic Industries\", \"Consumer Services\", \"Technology\", \"Technology\", null, \"Health Care\", \"Finance\", \"Health Care\", \"Finance\", null, \"Finance\", \"Health Care\", \"Health Care\", \"Finance\", null, null, \"Public Utilities\", null, null, \"Technology\", null, \"Health Care\", null, null, \"Finance\", \"Health Care\", null, \"Energy\", null, null, null, \"Finance\", \"Health Care\", null, \"Health Care\", null, \"Finance\", \"Health Care\", null, \"Health Care\", null, \"Health Care\", \"Consumer Services\", \"Finance\", \"Finance\", \"Finance\", null, \"Finance\", \"Finance\", \"Finance\", \"Consumer Services\", \"Finance\", \"Finance\", \"Finance\", \"Finance\", \"Finance\", \"Finance\", \"Miscellaneous\", null, \"Finance\", \"Finance\", \"Finance\", \"Health Care\", \"Health Care\", null, \"Finance\", \"Finance\", \"Finance\", \"Finance\", \"Finance\", \"Finance\", null, \"Finance\", \"Finance\", \"Health Care\", \"Finance\", \"Health Care\", null, \"Health Care\", \"Health Care\", \"Capital Goods\", \"Capital Goods\", \"Health Care\", \"Health Care\", \"Finance\", \"Finance\", \"Consumer Services\", \"Health Care\", \"Consumer Services\", \"Finance\", \"Capital Goods\", \"Health Care\", \"Health Care\", null, \"Finance\", \"Finance\", \"Finance\", null, \"Transportation\", \"Health Care\", \"Health Care\", \"Consumer Services\", null, \"Consumer Services\", \"Basic Industries\", \"Finance\", \"Finance\", \"Capital Goods\", \"Capital Goods\", null, null, null, \"Miscellaneous\", null, \"Finance\", \"Health Care\", \"Finance\", \"Finance\", \"Finance\", \"Finance\", \"Finance\", null, \"Finance\", \"Public Utilities\", null, null, \"Technology\", \"Technology\", \"Consumer Services\", null, null, null, \"Consumer Services\", \"Finance\", \"Finance\", \"Health Care\", \"Health Care\", null, null, null, null, null, null, null, null, null, null, \"Finance\", \"Finance\", \"Finance\", \"Consumer Durables\", \"Consumer Durables\", null, null, \"Finance\", \"Finance\", \"Finance\", \"Finance\", null, \"Consumer Non-Durables\", \"Finance\", \"Finance\", \"Finance\", \"Finance\", \"Finance\", \"Finance\", \"Technology\", null, null, null, null, \"Consumer Durables\", \"Finance\", \"Finance\", \"Finance\", \"Finance\", \"Finance\", \"Health Care\", \"Energy\", \"Energy\", \"Finance\", \"Finance\", \"Consumer Services\", \"Consumer Services\", null, null, null, null, \"Consumer Services\", \"Consumer Services\", \"Consumer Services\", \"Consumer Services\", \"Consumer Services\", \"Finance\", null, null, \"Finance\", \"Finance\", \"Finance\", \"Finance\", \"Finance\", \"Health Care\", \"Basic Industries\", \"Capital Goods\", \"Technology\", null, \"Technology\", \"Health Care\", \"Finance\", \"Finance\", \"Finance\", \"Finance\", \"Finance\", \"Finance\", \"Health Care\", \"Consumer Services\", \"Finance\", null, null, \"Consumer Durables\", \"Consumer Durables\", \"Consumer Services\", \"Finance\", \"Health Care\", \"Health Care\", \"Health Care\", \"Health Care\", \"Health Care\", \"Finance\", \"Finance\", \"Finance\", \"Finance\", null, \"Finance\", \"Finance\", \"Finance\", \"Health Care\", \"Finance\", \"Consumer Services\", \"Finance\", \"Finance\", null, null, \"Finance\", \"Finance\", \"Health Care\", \"Health Care\", \"Consumer Non-Durables\", \"Health Care\", \"Consumer Non-Durables\", null, \"Finance\", \"Health Care\", \"Finance\", \"Transportation\", \"Consumer Services\", \"Health Care\", \"Consumer Services\", \"Consumer Services\", \"Health Care\", \"Consumer Durables\", \"Finance\", \"Finance\", \"Health Care\", \"Health Care\", \"Consumer Services\", \"Consumer Services\", \"Public Utilities\", \"Transportation\", \"Finance\", \"Finance\", \"Basic Industries\", \"Finance\", \"Finance\", \"Finance\", null, \"Public Utilities\", null, \"Consumer Durables\", \"Consumer Durables\", \"Consumer Durables\", \"Health Care\", \"Health Care\", null, null, null, null, null, null, null, null, \"Health Care\", \"Finance\", \"Public Utilities\", \"Finance\", \"Consumer Services\", \"Consumer Services\", null, \"Consumer Non-Durables\", \"Finance\", \"Finance\", \"Health Care\", \"Finance\", \"Consumer Durables\", \"Energy\", \"Finance\", \"Finance\"]}],\n",
              "                        {\"template\": {\"data\": {\"bar\": [{\"error_x\": {\"color\": \"#2a3f5f\"}, \"error_y\": {\"color\": \"#2a3f5f\"}, \"marker\": {\"line\": {\"color\": \"#E5ECF6\", \"width\": 0.5}}, \"type\": \"bar\"}], \"barpolar\": [{\"marker\": {\"line\": {\"color\": \"#E5ECF6\", \"width\": 0.5}}, \"type\": \"barpolar\"}], \"carpet\": [{\"aaxis\": {\"endlinecolor\": \"#2a3f5f\", \"gridcolor\": \"white\", \"linecolor\": \"white\", \"minorgridcolor\": \"white\", \"startlinecolor\": \"#2a3f5f\"}, \"baxis\": {\"endlinecolor\": \"#2a3f5f\", \"gridcolor\": \"white\", \"linecolor\": \"white\", \"minorgridcolor\": \"white\", \"startlinecolor\": \"#2a3f5f\"}, \"type\": \"carpet\"}], \"choropleth\": [{\"colorbar\": {\"outlinewidth\": 0, \"ticks\": \"\"}, \"type\": \"choropleth\"}], \"contour\": [{\"colorbar\": {\"outlinewidth\": 0, \"ticks\": \"\"}, \"colorscale\": [[0.0, \"#0d0887\"], [0.1111111111111111, \"#46039f\"], [0.2222222222222222, \"#7201a8\"], [0.3333333333333333, \"#9c179e\"], [0.4444444444444444, \"#bd3786\"], [0.5555555555555556, \"#d8576b\"], [0.6666666666666666, \"#ed7953\"], [0.7777777777777778, \"#fb9f3a\"], [0.8888888888888888, \"#fdca26\"], [1.0, \"#f0f921\"]], \"type\": \"contour\"}], \"contourcarpet\": [{\"colorbar\": {\"outlinewidth\": 0, \"ticks\": \"\"}, \"type\": \"contourcarpet\"}], \"heatmap\": [{\"colorbar\": {\"outlinewidth\": 0, \"ticks\": \"\"}, \"colorscale\": [[0.0, \"#0d0887\"], [0.1111111111111111, \"#46039f\"], [0.2222222222222222, \"#7201a8\"], [0.3333333333333333, \"#9c179e\"], [0.4444444444444444, \"#bd3786\"], [0.5555555555555556, \"#d8576b\"], [0.6666666666666666, \"#ed7953\"], [0.7777777777777778, \"#fb9f3a\"], [0.8888888888888888, \"#fdca26\"], [1.0, \"#f0f921\"]], \"type\": \"heatmap\"}], \"heatmapgl\": [{\"colorbar\": {\"outlinewidth\": 0, \"ticks\": \"\"}, \"colorscale\": [[0.0, \"#0d0887\"], [0.1111111111111111, \"#46039f\"], [0.2222222222222222, \"#7201a8\"], [0.3333333333333333, \"#9c179e\"], [0.4444444444444444, \"#bd3786\"], [0.5555555555555556, \"#d8576b\"], [0.6666666666666666, \"#ed7953\"], [0.7777777777777778, \"#fb9f3a\"], [0.8888888888888888, \"#fdca26\"], [1.0, \"#f0f921\"]], \"type\": \"heatmapgl\"}], \"histogram\": [{\"marker\": {\"colorbar\": {\"outlinewidth\": 0, \"ticks\": \"\"}}, \"type\": \"histogram\"}], \"histogram2d\": [{\"colorbar\": {\"outlinewidth\": 0, \"ticks\": \"\"}, \"colorscale\": [[0.0, \"#0d0887\"], [0.1111111111111111, \"#46039f\"], [0.2222222222222222, \"#7201a8\"], [0.3333333333333333, \"#9c179e\"], [0.4444444444444444, \"#bd3786\"], [0.5555555555555556, \"#d8576b\"], [0.6666666666666666, \"#ed7953\"], [0.7777777777777778, \"#fb9f3a\"], [0.8888888888888888, \"#fdca26\"], [1.0, \"#f0f921\"]], \"type\": \"histogram2d\"}], \"histogram2dcontour\": [{\"colorbar\": {\"outlinewidth\": 0, \"ticks\": \"\"}, \"colorscale\": [[0.0, \"#0d0887\"], [0.1111111111111111, \"#46039f\"], [0.2222222222222222, \"#7201a8\"], [0.3333333333333333, \"#9c179e\"], [0.4444444444444444, \"#bd3786\"], [0.5555555555555556, \"#d8576b\"], [0.6666666666666666, \"#ed7953\"], [0.7777777777777778, \"#fb9f3a\"], [0.8888888888888888, \"#fdca26\"], [1.0, \"#f0f921\"]], \"type\": \"histogram2dcontour\"}], \"mesh3d\": [{\"colorbar\": {\"outlinewidth\": 0, \"ticks\": \"\"}, \"type\": \"mesh3d\"}], \"parcoords\": [{\"line\": {\"colorbar\": {\"outlinewidth\": 0, \"ticks\": \"\"}}, \"type\": \"parcoords\"}], \"pie\": [{\"automargin\": true, \"type\": \"pie\"}], \"scatter\": [{\"marker\": {\"colorbar\": {\"outlinewidth\": 0, \"ticks\": \"\"}}, \"type\": \"scatter\"}], \"scatter3d\": [{\"line\": {\"colorbar\": {\"outlinewidth\": 0, \"ticks\": \"\"}}, \"marker\": {\"colorbar\": {\"outlinewidth\": 0, \"ticks\": \"\"}}, \"type\": \"scatter3d\"}], \"scattercarpet\": [{\"marker\": {\"colorbar\": {\"outlinewidth\": 0, \"ticks\": \"\"}}, \"type\": \"scattercarpet\"}], \"scattergeo\": [{\"marker\": {\"colorbar\": {\"outlinewidth\": 0, \"ticks\": \"\"}}, \"type\": \"scattergeo\"}], \"scattergl\": [{\"marker\": {\"colorbar\": {\"outlinewidth\": 0, \"ticks\": \"\"}}, \"type\": \"scattergl\"}], \"scattermapbox\": [{\"marker\": {\"colorbar\": {\"outlinewidth\": 0, \"ticks\": \"\"}}, \"type\": \"scattermapbox\"}], \"scatterpolar\": [{\"marker\": {\"colorbar\": {\"outlinewidth\": 0, \"ticks\": \"\"}}, \"type\": \"scatterpolar\"}], \"scatterpolargl\": [{\"marker\": {\"colorbar\": {\"outlinewidth\": 0, \"ticks\": \"\"}}, \"type\": \"scatterpolargl\"}], \"scatterternary\": [{\"marker\": {\"colorbar\": {\"outlinewidth\": 0, \"ticks\": \"\"}}, \"type\": \"scatterternary\"}], \"surface\": [{\"colorbar\": {\"outlinewidth\": 0, \"ticks\": \"\"}, \"colorscale\": [[0.0, \"#0d0887\"], [0.1111111111111111, \"#46039f\"], [0.2222222222222222, \"#7201a8\"], [0.3333333333333333, \"#9c179e\"], [0.4444444444444444, \"#bd3786\"], [0.5555555555555556, \"#d8576b\"], [0.6666666666666666, \"#ed7953\"], [0.7777777777777778, \"#fb9f3a\"], [0.8888888888888888, \"#fdca26\"], [1.0, \"#f0f921\"]], \"type\": \"surface\"}], \"table\": [{\"cells\": {\"fill\": {\"color\": \"#EBF0F8\"}, \"line\": {\"color\": \"white\"}}, \"header\": {\"fill\": {\"color\": \"#C8D4E3\"}, \"line\": {\"color\": \"white\"}}, \"type\": \"table\"}]}, \"layout\": {\"annotationdefaults\": {\"arrowcolor\": \"#2a3f5f\", \"arrowhead\": 0, \"arrowwidth\": 1}, \"coloraxis\": {\"colorbar\": {\"outlinewidth\": 0, \"ticks\": \"\"}}, \"colorscale\": {\"diverging\": [[0, \"#8e0152\"], [0.1, \"#c51b7d\"], [0.2, \"#de77ae\"], [0.3, \"#f1b6da\"], [0.4, \"#fde0ef\"], [0.5, \"#f7f7f7\"], [0.6, \"#e6f5d0\"], [0.7, \"#b8e186\"], [0.8, \"#7fbc41\"], [0.9, \"#4d9221\"], [1, \"#276419\"]], \"sequential\": [[0.0, \"#0d0887\"], [0.1111111111111111, \"#46039f\"], [0.2222222222222222, \"#7201a8\"], [0.3333333333333333, \"#9c179e\"], [0.4444444444444444, \"#bd3786\"], [0.5555555555555556, \"#d8576b\"], [0.6666666666666666, \"#ed7953\"], [0.7777777777777778, \"#fb9f3a\"], [0.8888888888888888, \"#fdca26\"], [1.0, \"#f0f921\"]], \"sequentialminus\": [[0.0, \"#0d0887\"], [0.1111111111111111, \"#46039f\"], [0.2222222222222222, \"#7201a8\"], [0.3333333333333333, \"#9c179e\"], [0.4444444444444444, \"#bd3786\"], [0.5555555555555556, \"#d8576b\"], [0.6666666666666666, \"#ed7953\"], [0.7777777777777778, \"#fb9f3a\"], [0.8888888888888888, \"#fdca26\"], [1.0, \"#f0f921\"]]}, \"colorway\": [\"#636efa\", \"#EF553B\", \"#00cc96\", \"#ab63fa\", \"#FFA15A\", \"#19d3f3\", \"#FF6692\", \"#B6E880\", \"#FF97FF\", \"#FECB52\"], \"font\": {\"color\": \"#2a3f5f\"}, \"geo\": {\"bgcolor\": \"white\", \"lakecolor\": \"white\", \"landcolor\": \"#E5ECF6\", \"showlakes\": true, \"showland\": true, \"subunitcolor\": \"white\"}, \"hoverlabel\": {\"align\": \"left\"}, \"hovermode\": \"closest\", \"mapbox\": {\"style\": \"light\"}, \"paper_bgcolor\": \"white\", \"plot_bgcolor\": \"#E5ECF6\", \"polar\": {\"angularaxis\": {\"gridcolor\": \"white\", \"linecolor\": \"white\", \"ticks\": \"\"}, \"bgcolor\": \"#E5ECF6\", \"radialaxis\": {\"gridcolor\": \"white\", \"linecolor\": \"white\", \"ticks\": \"\"}}, \"scene\": {\"xaxis\": {\"backgroundcolor\": \"#E5ECF6\", \"gridcolor\": \"white\", \"gridwidth\": 2, \"linecolor\": \"white\", \"showbackground\": true, \"ticks\": \"\", \"zerolinecolor\": \"white\"}, \"yaxis\": {\"backgroundcolor\": \"#E5ECF6\", \"gridcolor\": \"white\", \"gridwidth\": 2, \"linecolor\": \"white\", \"showbackground\": true, \"ticks\": \"\", \"zerolinecolor\": \"white\"}, \"zaxis\": {\"backgroundcolor\": \"#E5ECF6\", \"gridcolor\": \"white\", \"gridwidth\": 2, \"linecolor\": \"white\", \"showbackground\": true, \"ticks\": \"\", \"zerolinecolor\": \"white\"}}, \"shapedefaults\": {\"line\": {\"color\": \"#2a3f5f\"}}, \"ternary\": {\"aaxis\": {\"gridcolor\": \"white\", \"linecolor\": \"white\", \"ticks\": \"\"}, \"baxis\": {\"gridcolor\": \"white\", \"linecolor\": \"white\", \"ticks\": \"\"}, \"bgcolor\": \"#E5ECF6\", \"caxis\": {\"gridcolor\": \"white\", \"linecolor\": \"white\", \"ticks\": \"\"}}, \"title\": {\"x\": 0.05}, \"xaxis\": {\"automargin\": true, \"gridcolor\": \"white\", \"linecolor\": \"white\", \"ticks\": \"\", \"title\": {\"standoff\": 15}, \"zerolinecolor\": \"white\", \"zerolinewidth\": 2}, \"yaxis\": {\"automargin\": true, \"gridcolor\": \"white\", \"linecolor\": \"white\", \"ticks\": \"\", \"title\": {\"standoff\": 15}, \"zerolinecolor\": \"white\", \"zerolinewidth\": 2}}}, \"title\": {\"text\": \"NASDAQ = Avg. Market Cap by Sector\"}, \"xaxis\": {\"title\": {\"text\": \"USD (In Millions)\"}}, \"yaxis\": {\"title\": {\"text\": \"Sectors\"}}},\n",
              "                        {\"responsive\": true}\n",
              "                    ).then(function(){\n",
              "                            \n",
              "var gd = document.getElementById('77ef522e-cbac-41e5-aaef-2e95fce67349');\n",
              "var x = new MutationObserver(function (mutations, observer) {{\n",
              "        var display = window.getComputedStyle(gd).display;\n",
              "        if (!display || display === 'none') {{\n",
              "            console.log([gd, 'removed!']);\n",
              "            Plotly.purge(gd);\n",
              "            observer.disconnect();\n",
              "        }}\n",
              "}});\n",
              "\n",
              "// Listen for the removal of the full notebook cells\n",
              "var notebookContainer = gd.closest('#notebook-container');\n",
              "if (notebookContainer) {{\n",
              "    x.observe(notebookContainer, {childList: true});\n",
              "}}\n",
              "\n",
              "// Listen for the clearing of the current output cell\n",
              "var outputEl = gd.closest('.output');\n",
              "if (outputEl) {{\n",
              "    x.observe(outputEl, {childList: true});\n",
              "}}\n",
              "\n",
              "                        })\n",
              "                };\n",
              "                \n",
              "            </script>\n",
              "        </div>\n",
              "</body>\n",
              "</html>"
            ]
          },
          "metadata": {
            "tags": []
          }
        }
      ]
    },
    {
      "cell_type": "markdown",
      "metadata": {
        "id": "rHrgl1ZL2ifG"
      },
      "source": [
        "**Aggregation Summary**"
      ]
    },
    {
      "cell_type": "code",
      "metadata": {
        "colab": {
          "base_uri": "https://localhost:8080/",
          "height": 452
        },
        "id": "4jXZ0MS62bhY",
        "outputId": "20f6faa0-b643-45c5-f21d-50ade7731c27"
      },
      "source": [
        "nasdaq_by_sector.mean()"
      ],
      "execution_count": 90,
      "outputs": [
        {
          "output_type": "execute_result",
          "data": {
            "text/html": [
              "<div>\n",
              "<style scoped>\n",
              "    .dataframe tbody tr th:only-of-type {\n",
              "        vertical-align: middle;\n",
              "    }\n",
              "\n",
              "    .dataframe tbody tr th {\n",
              "        vertical-align: top;\n",
              "    }\n",
              "\n",
              "    .dataframe thead th {\n",
              "        text-align: right;\n",
              "    }\n",
              "</style>\n",
              "<table border=\"1\" class=\"dataframe\">\n",
              "  <thead>\n",
              "    <tr style=\"text-align: right;\">\n",
              "      <th></th>\n",
              "      <th>Last Sale</th>\n",
              "      <th>Market Capitalization</th>\n",
              "      <th>IPO Year</th>\n",
              "      <th>market_cap_m</th>\n",
              "    </tr>\n",
              "    <tr>\n",
              "      <th>Sector</th>\n",
              "      <th></th>\n",
              "      <th></th>\n",
              "      <th></th>\n",
              "      <th></th>\n",
              "    </tr>\n",
              "  </thead>\n",
              "  <tbody>\n",
              "    <tr>\n",
              "      <th>Basic Industries</th>\n",
              "      <td>21.597679</td>\n",
              "      <td>7.248999e+08</td>\n",
              "      <td>2000.766667</td>\n",
              "      <td>724.899934</td>\n",
              "    </tr>\n",
              "    <tr>\n",
              "      <th>Capital Goods</th>\n",
              "      <td>26.188681</td>\n",
              "      <td>1.511237e+09</td>\n",
              "      <td>2001.324675</td>\n",
              "      <td>1511.237373</td>\n",
              "    </tr>\n",
              "    <tr>\n",
              "      <th>Consumer Durables</th>\n",
              "      <td>24.363391</td>\n",
              "      <td>8.398026e+08</td>\n",
              "      <td>2003.222222</td>\n",
              "      <td>839.802607</td>\n",
              "    </tr>\n",
              "    <tr>\n",
              "      <th>Consumer Non-Durables</th>\n",
              "      <td>25.749565</td>\n",
              "      <td>3.104051e+09</td>\n",
              "      <td>2000.609756</td>\n",
              "      <td>3104.051206</td>\n",
              "    </tr>\n",
              "    <tr>\n",
              "      <th>Consumer Services</th>\n",
              "      <td>34.917318</td>\n",
              "      <td>5.582344e+09</td>\n",
              "      <td>2004.104575</td>\n",
              "      <td>5582.344175</td>\n",
              "    </tr>\n",
              "    <tr>\n",
              "      <th>Energy</th>\n",
              "      <td>15.496834</td>\n",
              "      <td>8.266076e+08</td>\n",
              "      <td>2008.034483</td>\n",
              "      <td>826.607608</td>\n",
              "    </tr>\n",
              "    <tr>\n",
              "      <th>Finance</th>\n",
              "      <td>29.644242</td>\n",
              "      <td>1.044090e+09</td>\n",
              "      <td>2010.321101</td>\n",
              "      <td>1044.090205</td>\n",
              "    </tr>\n",
              "    <tr>\n",
              "      <th>Health Care</th>\n",
              "      <td>19.462531</td>\n",
              "      <td>1.758709e+09</td>\n",
              "      <td>2009.240409</td>\n",
              "      <td>1758.709197</td>\n",
              "    </tr>\n",
              "    <tr>\n",
              "      <th>Miscellaneous</th>\n",
              "      <td>46.094369</td>\n",
              "      <td>3.445656e+09</td>\n",
              "      <td>2004.333333</td>\n",
              "      <td>3445.655935</td>\n",
              "    </tr>\n",
              "    <tr>\n",
              "      <th>Public Utilities</th>\n",
              "      <td>18.643705</td>\n",
              "      <td>2.357865e+09</td>\n",
              "      <td>2006.040000</td>\n",
              "      <td>2357.865315</td>\n",
              "    </tr>\n",
              "    <tr>\n",
              "      <th>Technology</th>\n",
              "      <td>31.100317</td>\n",
              "      <td>1.088343e+10</td>\n",
              "      <td>2002.653285</td>\n",
              "      <td>10883.434214</td>\n",
              "    </tr>\n",
              "    <tr>\n",
              "      <th>Transportation</th>\n",
              "      <td>28.096758</td>\n",
              "      <td>2.869660e+09</td>\n",
              "      <td>1997.809524</td>\n",
              "      <td>2869.660007</td>\n",
              "    </tr>\n",
              "  </tbody>\n",
              "</table>\n",
              "</div>"
            ],
            "text/plain": [
              "                       Last Sale  ...  market_cap_m\n",
              "Sector                            ...              \n",
              "Basic Industries       21.597679  ...    724.899934\n",
              "Capital Goods          26.188681  ...   1511.237373\n",
              "Consumer Durables      24.363391  ...    839.802607\n",
              "Consumer Non-Durables  25.749565  ...   3104.051206\n",
              "Consumer Services      34.917318  ...   5582.344175\n",
              "Energy                 15.496834  ...    826.607608\n",
              "Finance                29.644242  ...   1044.090205\n",
              "Health Care            19.462531  ...   1758.709197\n",
              "Miscellaneous          46.094369  ...   3445.655935\n",
              "Public Utilities       18.643705  ...   2357.865315\n",
              "Technology             31.100317  ...  10883.434214\n",
              "Transportation         28.096758  ...   2869.660007\n",
              "\n",
              "[12 rows x 4 columns]"
            ]
          },
          "metadata": {
            "tags": []
          },
          "execution_count": 90
        }
      ]
    },
    {
      "cell_type": "markdown",
      "metadata": {
        "id": "tyc00cFe2xPd"
      },
      "source": [
        "***Aggreagation By Category***"
      ]
    },
    {
      "cell_type": "code",
      "metadata": {
        "colab": {
          "base_uri": "https://localhost:8080/",
          "height": 452
        },
        "id": "WcdRn04V2r8D",
        "outputId": "273596ed-7fea-4036-ae77-cdc2bf396123"
      },
      "source": [
        "nasdaq_by_sector.market_cap_m.agg(['size','mean']).sort_values('size')"
      ],
      "execution_count": 91,
      "outputs": [
        {
          "output_type": "execute_result",
          "data": {
            "text/html": [
              "<div>\n",
              "<style scoped>\n",
              "    .dataframe tbody tr th:only-of-type {\n",
              "        vertical-align: middle;\n",
              "    }\n",
              "\n",
              "    .dataframe tbody tr th {\n",
              "        vertical-align: top;\n",
              "    }\n",
              "\n",
              "    .dataframe thead th {\n",
              "        text-align: right;\n",
              "    }\n",
              "</style>\n",
              "<table border=\"1\" class=\"dataframe\">\n",
              "  <thead>\n",
              "    <tr style=\"text-align: right;\">\n",
              "      <th></th>\n",
              "      <th>size</th>\n",
              "      <th>mean</th>\n",
              "    </tr>\n",
              "    <tr>\n",
              "      <th>Sector</th>\n",
              "      <th></th>\n",
              "      <th></th>\n",
              "    </tr>\n",
              "  </thead>\n",
              "  <tbody>\n",
              "    <tr>\n",
              "      <th>Transportation</th>\n",
              "      <td>52</td>\n",
              "      <td>2869.660007</td>\n",
              "    </tr>\n",
              "    <tr>\n",
              "      <th>Energy</th>\n",
              "      <td>66</td>\n",
              "      <td>826.607608</td>\n",
              "    </tr>\n",
              "    <tr>\n",
              "      <th>Public Utilities</th>\n",
              "      <td>66</td>\n",
              "      <td>2357.865315</td>\n",
              "    </tr>\n",
              "    <tr>\n",
              "      <th>Basic Industries</th>\n",
              "      <td>78</td>\n",
              "      <td>724.899934</td>\n",
              "    </tr>\n",
              "    <tr>\n",
              "      <th>Consumer Durables</th>\n",
              "      <td>88</td>\n",
              "      <td>839.802607</td>\n",
              "    </tr>\n",
              "    <tr>\n",
              "      <th>Miscellaneous</th>\n",
              "      <td>89</td>\n",
              "      <td>3445.655935</td>\n",
              "    </tr>\n",
              "    <tr>\n",
              "      <th>Consumer Non-Durables</th>\n",
              "      <td>103</td>\n",
              "      <td>3104.051206</td>\n",
              "    </tr>\n",
              "    <tr>\n",
              "      <th>Capital Goods</th>\n",
              "      <td>172</td>\n",
              "      <td>1511.237373</td>\n",
              "    </tr>\n",
              "    <tr>\n",
              "      <th>Consumer Services</th>\n",
              "      <td>348</td>\n",
              "      <td>5582.344175</td>\n",
              "    </tr>\n",
              "    <tr>\n",
              "      <th>Technology</th>\n",
              "      <td>433</td>\n",
              "      <td>10883.434214</td>\n",
              "    </tr>\n",
              "    <tr>\n",
              "      <th>Finance</th>\n",
              "      <td>627</td>\n",
              "      <td>1044.090205</td>\n",
              "    </tr>\n",
              "    <tr>\n",
              "      <th>Health Care</th>\n",
              "      <td>645</td>\n",
              "      <td>1758.709197</td>\n",
              "    </tr>\n",
              "  </tbody>\n",
              "</table>\n",
              "</div>"
            ],
            "text/plain": [
              "                       size          mean\n",
              "Sector                                   \n",
              "Transportation           52   2869.660007\n",
              "Energy                   66    826.607608\n",
              "Public Utilities         66   2357.865315\n",
              "Basic Industries         78    724.899934\n",
              "Consumer Durables        88    839.802607\n",
              "Miscellaneous            89   3445.655935\n",
              "Consumer Non-Durables   103   3104.051206\n",
              "Capital Goods           172   1511.237373\n",
              "Consumer Services       348   5582.344175\n",
              "Technology              433  10883.434214\n",
              "Finance                 627   1044.090205\n",
              "Health Care             645   1758.709197"
            ]
          },
          "metadata": {
            "tags": []
          },
          "execution_count": 91
        }
      ]
    },
    {
      "cell_type": "markdown",
      "metadata": {
        "id": "qnRNARnU4X1Q"
      },
      "source": [
        "**Different Statics by Column**"
      ]
    },
    {
      "cell_type": "code",
      "metadata": {
        "colab": {
          "base_uri": "https://localhost:8080/",
          "height": 452
        },
        "id": "8ewrxvEH2r5w",
        "outputId": "67d63366-81dc-47a9-d40f-452f576f3d43"
      },
      "source": [
        "nasdaq_by_sector.agg({'market_cap_m':'size','IPO Year':'median'})\n",
        "\n"
      ],
      "execution_count": 92,
      "outputs": [
        {
          "output_type": "execute_result",
          "data": {
            "text/html": [
              "<div>\n",
              "<style scoped>\n",
              "    .dataframe tbody tr th:only-of-type {\n",
              "        vertical-align: middle;\n",
              "    }\n",
              "\n",
              "    .dataframe tbody tr th {\n",
              "        vertical-align: top;\n",
              "    }\n",
              "\n",
              "    .dataframe thead th {\n",
              "        text-align: right;\n",
              "    }\n",
              "</style>\n",
              "<table border=\"1\" class=\"dataframe\">\n",
              "  <thead>\n",
              "    <tr style=\"text-align: right;\">\n",
              "      <th></th>\n",
              "      <th>market_cap_m</th>\n",
              "      <th>IPO Year</th>\n",
              "    </tr>\n",
              "    <tr>\n",
              "      <th>Sector</th>\n",
              "      <th></th>\n",
              "      <th></th>\n",
              "    </tr>\n",
              "  </thead>\n",
              "  <tbody>\n",
              "    <tr>\n",
              "      <th>Basic Industries</th>\n",
              "      <td>78</td>\n",
              "      <td>1996.5</td>\n",
              "    </tr>\n",
              "    <tr>\n",
              "      <th>Capital Goods</th>\n",
              "      <td>172</td>\n",
              "      <td>2000.0</td>\n",
              "    </tr>\n",
              "    <tr>\n",
              "      <th>Consumer Durables</th>\n",
              "      <td>88</td>\n",
              "      <td>2002.5</td>\n",
              "    </tr>\n",
              "    <tr>\n",
              "      <th>Consumer Non-Durables</th>\n",
              "      <td>103</td>\n",
              "      <td>1998.0</td>\n",
              "    </tr>\n",
              "    <tr>\n",
              "      <th>Consumer Services</th>\n",
              "      <td>348</td>\n",
              "      <td>2005.0</td>\n",
              "    </tr>\n",
              "    <tr>\n",
              "      <th>Energy</th>\n",
              "      <td>66</td>\n",
              "      <td>2011.0</td>\n",
              "    </tr>\n",
              "    <tr>\n",
              "      <th>Finance</th>\n",
              "      <td>627</td>\n",
              "      <td>2014.0</td>\n",
              "    </tr>\n",
              "    <tr>\n",
              "      <th>Health Care</th>\n",
              "      <td>645</td>\n",
              "      <td>2014.0</td>\n",
              "    </tr>\n",
              "    <tr>\n",
              "      <th>Miscellaneous</th>\n",
              "      <td>89</td>\n",
              "      <td>2005.0</td>\n",
              "    </tr>\n",
              "    <tr>\n",
              "      <th>Public Utilities</th>\n",
              "      <td>66</td>\n",
              "      <td>2007.0</td>\n",
              "    </tr>\n",
              "    <tr>\n",
              "      <th>Technology</th>\n",
              "      <td>433</td>\n",
              "      <td>2001.5</td>\n",
              "    </tr>\n",
              "    <tr>\n",
              "      <th>Transportation</th>\n",
              "      <td>52</td>\n",
              "      <td>1997.0</td>\n",
              "    </tr>\n",
              "  </tbody>\n",
              "</table>\n",
              "</div>"
            ],
            "text/plain": [
              "                       market_cap_m  IPO Year\n",
              "Sector                                       \n",
              "Basic Industries                 78    1996.5\n",
              "Capital Goods                   172    2000.0\n",
              "Consumer Durables                88    2002.5\n",
              "Consumer Non-Durables           103    1998.0\n",
              "Consumer Services               348    2005.0\n",
              "Energy                           66    2011.0\n",
              "Finance                         627    2014.0\n",
              "Health Care                     645    2014.0\n",
              "Miscellaneous                    89    2005.0\n",
              "Public Utilities                 66    2007.0\n",
              "Technology                      433    2001.5\n",
              "Transportation                   52    1997.0"
            ]
          },
          "metadata": {
            "tags": []
          },
          "execution_count": 92
        }
      ]
    },
    {
      "cell_type": "code",
      "metadata": {
        "colab": {
          "base_uri": "https://localhost:8080/"
        },
        "id": "8e5y8InT5Em2",
        "outputId": "56b20814-0cd4-4e8b-9e1e-8fc4d1e5d0bb"
      },
      "source": [
        "nasdaq_by_sector = nasdaq.groupby(['Sector','IPO Year'])\n",
        "\n",
        "nasdaq_by_sector.market_cap_m.mean()\n"
      ],
      "execution_count": 93,
      "outputs": [
        {
          "output_type": "execute_result",
          "data": {
            "text/plain": [
              "Sector            IPO Year\n",
              "Basic Industries  1972.0       877.240005\n",
              "                  1973.0      1445.697371\n",
              "                  1986.0      1396.817381\n",
              "                  1988.0        24.847526\n",
              "                  1990.0       434.808483\n",
              "                                 ...     \n",
              "Transportation    2006.0      1397.129447\n",
              "                  2007.0       413.900806\n",
              "                  2009.0       552.445919\n",
              "                  2011.0      3711.638317\n",
              "                  2013.0       125.740421\n",
              "Name: market_cap_m, Length: 280, dtype: float64"
            ]
          },
          "metadata": {
            "tags": []
          },
          "execution_count": 93
        }
      ]
    },
    {
      "cell_type": "code",
      "metadata": {
        "colab": {
          "base_uri": "https://localhost:8080/"
        },
        "id": "ZLZPNORk53BI",
        "outputId": "32ffe9ba-1f8d-4f78-f9e9-b37f1bb11a89"
      },
      "source": [
        "# In the Sorted order\n",
        "sector_size = nasdaq.groupby('Sector').size()\n",
        "order = sector_size.sort_values(ascending=False)\n",
        "order.head()"
      ],
      "execution_count": 94,
      "outputs": [
        {
          "output_type": "execute_result",
          "data": {
            "text/plain": [
              "Sector\n",
              "Health Care          645\n",
              "Finance              627\n",
              "Technology           433\n",
              "Consumer Services    348\n",
              "Capital Goods        172\n",
              "dtype: int64"
            ]
          },
          "metadata": {
            "tags": []
          },
          "execution_count": 94
        }
      ]
    },
    {
      "cell_type": "code",
      "metadata": {
        "id": "StMjGpzm5EkR"
      },
      "source": [
        "plot"
      ],
      "execution_count": null,
      "outputs": []
    },
    {
      "cell_type": "code",
      "metadata": {
        "id": "XLyAm_Op52-m"
      },
      "source": [
        ""
      ],
      "execution_count": null,
      "outputs": []
    },
    {
      "cell_type": "code",
      "metadata": {
        "id": "bCDyhWyp6B83"
      },
      "source": [
        ""
      ],
      "execution_count": null,
      "outputs": []
    }
  ]
}