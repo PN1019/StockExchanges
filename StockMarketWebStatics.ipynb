{
  "nbformat": 4,
  "nbformat_minor": 0,
  "metadata": {
    "colab": {
      "name": "StockMarketWebStatics.ipynb",
      "provenance": [],
      "collapsed_sections": [],
      "authorship_tag": "ABX9TyPby93ILoJrSygFtyXHGJlP",
      "include_colab_link": true
    },
    "kernelspec": {
      "display_name": "Python 3",
      "name": "python3"
    },
    "language_info": {
      "name": "python"
    }
  },
  "cells": [
    {
      "cell_type": "markdown",
      "metadata": {
        "id": "view-in-github",
        "colab_type": "text"
      },
      "source": [
        "<a href=\"https://colab.research.google.com/github/PN1019/StockExchanges/blob/main/StockMarketWebStatics.ipynb\" target=\"_parent\"><img src=\"https://colab.research.google.com/assets/colab-badge.svg\" alt=\"Open In Colab\"/></a>"
      ]
    },
    {
      "cell_type": "code",
      "metadata": {
        "id": "kAR3c2YZqmvr"
      },
      "source": [
        "import pandas as pd\n",
        "import numpy as np\n",
        "%matplotlib inline\n",
        "import matplotlib.pyplot as plt\n",
        "import seaborn as sns\n",
        "import pandas_datareader as DataReader\n",
        "from datetime import date\n",
        "import pandas_datareader.data as web\n",
        "import matplotlib.figure as figure\n"
      ],
      "execution_count": null,
      "outputs": []
    },
    {
      "cell_type": "code",
      "metadata": {
        "colab": {
          "base_uri": "https://localhost:8080/"
        },
        "id": "oQND9a2ar64d",
        "outputId": "4aa18b93-459a-4674-b3e6-67ed3cec5904"
      },
      "source": [
        " pip install plotly"
      ],
      "execution_count": null,
      "outputs": [
        {
          "output_type": "stream",
          "text": [
            "Requirement already satisfied: plotly in /usr/local/lib/python3.7/dist-packages (4.4.1)\n",
            "Requirement already satisfied: six in /usr/local/lib/python3.7/dist-packages (from plotly) (1.15.0)\n",
            "Requirement already satisfied: retrying>=1.3.3 in /usr/local/lib/python3.7/dist-packages (from plotly) (1.3.3)\n"
          ],
          "name": "stdout"
        }
      ]
    },
    {
      "cell_type": "code",
      "metadata": {
        "colab": {
          "base_uri": "https://localhost:8080/"
        },
        "id": "RgyUlO8Sr61q",
        "outputId": "7a354527-47c9-4f25-94ce-c3a0f23bbaa1"
      },
      "source": [
        " pip install cufflinks"
      ],
      "execution_count": null,
      "outputs": [
        {
          "output_type": "stream",
          "text": [
            "Requirement already satisfied: cufflinks in /usr/local/lib/python3.7/dist-packages (0.17.3)\n",
            "Requirement already satisfied: plotly>=4.1.1 in /usr/local/lib/python3.7/dist-packages (from cufflinks) (4.4.1)\n",
            "Requirement already satisfied: setuptools>=34.4.1 in /usr/local/lib/python3.7/dist-packages (from cufflinks) (56.0.0)\n",
            "Requirement already satisfied: colorlover>=0.2.1 in /usr/local/lib/python3.7/dist-packages (from cufflinks) (0.3.0)\n",
            "Requirement already satisfied: ipython>=5.3.0 in /usr/local/lib/python3.7/dist-packages (from cufflinks) (5.5.0)\n",
            "Requirement already satisfied: pandas>=0.19.2 in /usr/local/lib/python3.7/dist-packages (from cufflinks) (1.1.5)\n",
            "Requirement already satisfied: ipywidgets>=7.0.0 in /usr/local/lib/python3.7/dist-packages (from cufflinks) (7.6.3)\n",
            "Requirement already satisfied: six>=1.9.0 in /usr/local/lib/python3.7/dist-packages (from cufflinks) (1.15.0)\n",
            "Requirement already satisfied: numpy>=1.9.2 in /usr/local/lib/python3.7/dist-packages (from cufflinks) (1.19.5)\n",
            "Requirement already satisfied: retrying>=1.3.3 in /usr/local/lib/python3.7/dist-packages (from plotly>=4.1.1->cufflinks) (1.3.3)\n",
            "Requirement already satisfied: pickleshare in /usr/local/lib/python3.7/dist-packages (from ipython>=5.3.0->cufflinks) (0.7.5)\n",
            "Requirement already satisfied: simplegeneric>0.8 in /usr/local/lib/python3.7/dist-packages (from ipython>=5.3.0->cufflinks) (0.8.1)\n",
            "Requirement already satisfied: pygments in /usr/local/lib/python3.7/dist-packages (from ipython>=5.3.0->cufflinks) (2.6.1)\n",
            "Requirement already satisfied: traitlets>=4.2 in /usr/local/lib/python3.7/dist-packages (from ipython>=5.3.0->cufflinks) (5.0.5)\n",
            "Requirement already satisfied: prompt-toolkit<2.0.0,>=1.0.4 in /usr/local/lib/python3.7/dist-packages (from ipython>=5.3.0->cufflinks) (1.0.18)\n",
            "Requirement already satisfied: pexpect; sys_platform != \"win32\" in /usr/local/lib/python3.7/dist-packages (from ipython>=5.3.0->cufflinks) (4.8.0)\n",
            "Requirement already satisfied: decorator in /usr/local/lib/python3.7/dist-packages (from ipython>=5.3.0->cufflinks) (4.4.2)\n",
            "Requirement already satisfied: pytz>=2017.2 in /usr/local/lib/python3.7/dist-packages (from pandas>=0.19.2->cufflinks) (2018.9)\n",
            "Requirement already satisfied: python-dateutil>=2.7.3 in /usr/local/lib/python3.7/dist-packages (from pandas>=0.19.2->cufflinks) (2.8.1)\n",
            "Requirement already satisfied: widgetsnbextension~=3.5.0 in /usr/local/lib/python3.7/dist-packages (from ipywidgets>=7.0.0->cufflinks) (3.5.1)\n",
            "Requirement already satisfied: ipykernel>=4.5.1 in /usr/local/lib/python3.7/dist-packages (from ipywidgets>=7.0.0->cufflinks) (4.10.1)\n",
            "Requirement already satisfied: jupyterlab-widgets>=1.0.0; python_version >= \"3.6\" in /usr/local/lib/python3.7/dist-packages (from ipywidgets>=7.0.0->cufflinks) (1.0.0)\n",
            "Requirement already satisfied: nbformat>=4.2.0 in /usr/local/lib/python3.7/dist-packages (from ipywidgets>=7.0.0->cufflinks) (5.1.3)\n",
            "Requirement already satisfied: ipython-genutils in /usr/local/lib/python3.7/dist-packages (from traitlets>=4.2->ipython>=5.3.0->cufflinks) (0.2.0)\n",
            "Requirement already satisfied: wcwidth in /usr/local/lib/python3.7/dist-packages (from prompt-toolkit<2.0.0,>=1.0.4->ipython>=5.3.0->cufflinks) (0.2.5)\n",
            "Requirement already satisfied: ptyprocess>=0.5 in /usr/local/lib/python3.7/dist-packages (from pexpect; sys_platform != \"win32\"->ipython>=5.3.0->cufflinks) (0.7.0)\n",
            "Requirement already satisfied: notebook>=4.4.1 in /usr/local/lib/python3.7/dist-packages (from widgetsnbextension~=3.5.0->ipywidgets>=7.0.0->cufflinks) (5.3.1)\n",
            "Requirement already satisfied: tornado>=4.0 in /usr/local/lib/python3.7/dist-packages (from ipykernel>=4.5.1->ipywidgets>=7.0.0->cufflinks) (5.1.1)\n",
            "Requirement already satisfied: jupyter-client in /usr/local/lib/python3.7/dist-packages (from ipykernel>=4.5.1->ipywidgets>=7.0.0->cufflinks) (5.3.5)\n",
            "Requirement already satisfied: jupyter-core in /usr/local/lib/python3.7/dist-packages (from nbformat>=4.2.0->ipywidgets>=7.0.0->cufflinks) (4.7.1)\n",
            "Requirement already satisfied: jsonschema!=2.5.0,>=2.4 in /usr/local/lib/python3.7/dist-packages (from nbformat>=4.2.0->ipywidgets>=7.0.0->cufflinks) (2.6.0)\n",
            "Requirement already satisfied: terminado>=0.8.1 in /usr/local/lib/python3.7/dist-packages (from notebook>=4.4.1->widgetsnbextension~=3.5.0->ipywidgets>=7.0.0->cufflinks) (0.9.4)\n",
            "Requirement already satisfied: jinja2 in /usr/local/lib/python3.7/dist-packages (from notebook>=4.4.1->widgetsnbextension~=3.5.0->ipywidgets>=7.0.0->cufflinks) (2.11.3)\n",
            "Requirement already satisfied: nbconvert in /usr/local/lib/python3.7/dist-packages (from notebook>=4.4.1->widgetsnbextension~=3.5.0->ipywidgets>=7.0.0->cufflinks) (5.6.1)\n",
            "Requirement already satisfied: Send2Trash in /usr/local/lib/python3.7/dist-packages (from notebook>=4.4.1->widgetsnbextension~=3.5.0->ipywidgets>=7.0.0->cufflinks) (1.5.0)\n",
            "Requirement already satisfied: pyzmq>=13 in /usr/local/lib/python3.7/dist-packages (from jupyter-client->ipykernel>=4.5.1->ipywidgets>=7.0.0->cufflinks) (22.0.3)\n",
            "Requirement already satisfied: MarkupSafe>=0.23 in /usr/local/lib/python3.7/dist-packages (from jinja2->notebook>=4.4.1->widgetsnbextension~=3.5.0->ipywidgets>=7.0.0->cufflinks) (1.1.1)\n",
            "Requirement already satisfied: mistune<2,>=0.8.1 in /usr/local/lib/python3.7/dist-packages (from nbconvert->notebook>=4.4.1->widgetsnbextension~=3.5.0->ipywidgets>=7.0.0->cufflinks) (0.8.4)\n",
            "Requirement already satisfied: entrypoints>=0.2.2 in /usr/local/lib/python3.7/dist-packages (from nbconvert->notebook>=4.4.1->widgetsnbextension~=3.5.0->ipywidgets>=7.0.0->cufflinks) (0.3)\n",
            "Requirement already satisfied: pandocfilters>=1.4.1 in /usr/local/lib/python3.7/dist-packages (from nbconvert->notebook>=4.4.1->widgetsnbextension~=3.5.0->ipywidgets>=7.0.0->cufflinks) (1.4.3)\n",
            "Requirement already satisfied: defusedxml in /usr/local/lib/python3.7/dist-packages (from nbconvert->notebook>=4.4.1->widgetsnbextension~=3.5.0->ipywidgets>=7.0.0->cufflinks) (0.7.1)\n",
            "Requirement already satisfied: testpath in /usr/local/lib/python3.7/dist-packages (from nbconvert->notebook>=4.4.1->widgetsnbextension~=3.5.0->ipywidgets>=7.0.0->cufflinks) (0.4.4)\n",
            "Requirement already satisfied: bleach in /usr/local/lib/python3.7/dist-packages (from nbconvert->notebook>=4.4.1->widgetsnbextension~=3.5.0->ipywidgets>=7.0.0->cufflinks) (3.3.0)\n",
            "Requirement already satisfied: webencodings in /usr/local/lib/python3.7/dist-packages (from bleach->nbconvert->notebook>=4.4.1->widgetsnbextension~=3.5.0->ipywidgets>=7.0.0->cufflinks) (0.5.1)\n",
            "Requirement already satisfied: packaging in /usr/local/lib/python3.7/dist-packages (from bleach->nbconvert->notebook>=4.4.1->widgetsnbextension~=3.5.0->ipywidgets>=7.0.0->cufflinks) (20.9)\n",
            "Requirement already satisfied: pyparsing>=2.0.2 in /usr/local/lib/python3.7/dist-packages (from packaging->bleach->nbconvert->notebook>=4.4.1->widgetsnbextension~=3.5.0->ipywidgets>=7.0.0->cufflinks) (2.4.7)\n"
          ],
          "name": "stdout"
        }
      ]
    },
    {
      "cell_type": "code",
      "metadata": {
        "colab": {
          "base_uri": "https://localhost:8080/",
          "height": 16
        },
        "id": "PRIEHkf6smt7",
        "outputId": "bc44805b-3f07-40ab-bed0-7f4c4f646e08"
      },
      "source": [
        "import cufflinks as cf\n",
        "import plotly.graph_objs as go\n",
        "import plotly as py #plotly\n",
        "from plotly.offline import download_plotlyjs, init_notebook_mode, plot, iplot\n",
        "cf.go_offline()"
      ],
      "execution_count": null,
      "outputs": [
        {
          "output_type": "display_data",
          "data": {
            "text/html": [
              "        <script type=\"text/javascript\">\n",
              "        window.PlotlyConfig = {MathJaxConfig: 'local'};\n",
              "        if (window.MathJax) {MathJax.Hub.Config({SVG: {font: \"STIX-Web\"}});}\n",
              "        if (typeof require !== 'undefined') {\n",
              "        require.undef(\"plotly\");\n",
              "        requirejs.config({\n",
              "            paths: {\n",
              "                'plotly': ['https://cdn.plot.ly/plotly-latest.min']\n",
              "            }\n",
              "        });\n",
              "        require(['plotly'], function(Plotly) {\n",
              "            window._Plotly = Plotly;\n",
              "        });\n",
              "        }\n",
              "        </script>\n",
              "        "
            ]
          },
          "metadata": {
            "tags": []
          }
        }
      ]
    },
    {
      "cell_type": "code",
      "metadata": {
        "colab": {
          "base_uri": "https://localhost:8080/",
          "height": 16
        },
        "id": "LN-TciLGsmsB",
        "outputId": "e5930138-708a-4d22-acb1-15144eb563d9"
      },
      "source": [
        "    init_notebook_mode(connected=True)"
      ],
      "execution_count": null,
      "outputs": [
        {
          "output_type": "display_data",
          "data": {
            "text/html": [
              "        <script type=\"text/javascript\">\n",
              "        window.PlotlyConfig = {MathJaxConfig: 'local'};\n",
              "        if (window.MathJax) {MathJax.Hub.Config({SVG: {font: \"STIX-Web\"}});}\n",
              "        if (typeof require !== 'undefined') {\n",
              "        require.undef(\"plotly\");\n",
              "        requirejs.config({\n",
              "            paths: {\n",
              "                'plotly': ['https://cdn.plot.ly/plotly-latest.min']\n",
              "            }\n",
              "        });\n",
              "        require(['plotly'], function(Plotly) {\n",
              "            window._Plotly = Plotly;\n",
              "        });\n",
              "        }\n",
              "        </script>\n",
              "        "
            ]
          },
          "metadata": {
            "tags": []
          }
        }
      ]
    },
    {
      "cell_type": "code",
      "metadata": {
        "colab": {
          "resources": {
            "http://localhost:8080/nbextensions/google.colab/files.js": {
              "data": "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",
              "ok": true,
              "headers": [
                [
                  "content-type",
                  "application/javascript"
                ]
              ],
              "status": 200,
              "status_text": ""
            }
          },
          "base_uri": "https://localhost:8080/",
          "height": 73
        },
        "id": "T8oE3bn7uFLm",
        "outputId": "d5e5cb05-3092-4348-aec9-5a65008d0c15"
      },
      "source": [
        "from google.colab import files\n",
        "uploaded = files.upload()"
      ],
      "execution_count": null,
      "outputs": [
        {
          "output_type": "display_data",
          "data": {
            "text/html": [
              "\n",
              "     <input type=\"file\" id=\"files-b448d75f-9b8f-47c7-be9e-3e92bcf877a4\" name=\"files[]\" multiple disabled\n",
              "        style=\"border:none\" />\n",
              "     <output id=\"result-b448d75f-9b8f-47c7-be9e-3e92bcf877a4\">\n",
              "      Upload widget is only available when the cell has been executed in the\n",
              "      current browser session. Please rerun this cell to enable.\n",
              "      </output>\n",
              "      <script src=\"/nbextensions/google.colab/files.js\"></script> "
            ],
            "text/plain": [
              "<IPython.core.display.HTML object>"
            ]
          },
          "metadata": {
            "tags": []
          }
        },
        {
          "output_type": "stream",
          "text": [
            "Saving listings.xlsx to listings.xlsx\n"
          ],
          "name": "stdout"
        }
      ]
    },
    {
      "cell_type": "code",
      "metadata": {
        "id": "I8USnH7Ps7Vf"
      },
      "source": [
        "nasdaq = pd.read_excel('listings.xlsx', sheet_name='nasdaq',na_values='n/a')"
      ],
      "execution_count": null,
      "outputs": []
    },
    {
      "cell_type": "code",
      "metadata": {
        "id": "EOLnP814u50L"
      },
      "source": [
        "market_cap = nasdaq['Market Capitalization'].div(10**6)\n"
      ],
      "execution_count": null,
      "outputs": []
    },
    {
      "cell_type": "code",
      "metadata": {
        "colab": {
          "base_uri": "https://localhost:8080/"
        },
        "id": "X1D3MTncu53O",
        "outputId": "352a74c8-cfab-40d5-d337-60d19e3bbe59"
      },
      "source": [
        "print('Mean of Market Capitalization: \\n' ,market_cap.mean())\n",
        "print('Median of Market Capitalization: \\n' ,market_cap.median())\n",
        "print('Mode of Market Capitalization: \\n' ,market_cap.mode())\n"
      ],
      "execution_count": null,
      "outputs": [
        {
          "output_type": "stream",
          "text": [
            "Mean of Market Capitalization: \n",
            " 3180.7126214953823\n",
            "Median of Market Capitalization: \n",
            " 225.9684285\n",
            "Mode of Market Capitalization: \n",
            " 0    0.0\n",
            "dtype: float64\n"
          ],
          "name": "stdout"
        }
      ]
    },
    {
      "cell_type": "markdown",
      "metadata": {
        "id": "E4r-_f26vMa1"
      },
      "source": [
        "## Quantiles"
      ]
    },
    {
      "cell_type": "code",
      "metadata": {
        "id": "a2a7PTHUvVCG"
      },
      "source": [
        "median = market_cap.quantile(.5)\n"
      ],
      "execution_count": null,
      "outputs": []
    },
    {
      "cell_type": "code",
      "metadata": {
        "colab": {
          "base_uri": "https://localhost:8080/"
        },
        "id": "v8UPRTIzvgya",
        "outputId": "90d47771-fe85-4e41-9a4c-19228cb9cef0"
      },
      "source": [
        "median == market_cap.median()"
      ],
      "execution_count": null,
      "outputs": [
        {
          "output_type": "execute_result",
          "data": {
            "text/plain": [
              "True"
            ]
          },
          "metadata": {
            "tags": []
          },
          "execution_count": 12
        }
      ]
    },
    {
      "cell_type": "code",
      "metadata": {
        "colab": {
          "base_uri": "https://localhost:8080/"
        },
        "id": "Uw83e4xSvl9a",
        "outputId": "591e1923-0629-47f4-fe7c-5577722e0a86"
      },
      "source": [
        "# quantile in  market capitalization\n",
        "quantiles = market_cap.quantile([.25,.75])\n",
        "print(quantiles)\n",
        "\n",
        "print(quantiles[.75]-quantiles[.25])\n"
      ],
      "execution_count": null,
      "outputs": [
        {
          "output_type": "stream",
          "text": [
            "0.25     43.375930\n",
            "0.75    969.905207\n",
            "Name: Market Capitalization, dtype: float64\n",
            "926.5292771575\n"
          ],
          "name": "stdout"
        }
      ]
    },
    {
      "cell_type": "code",
      "metadata": {
        "id": "VbPd2Y4Cvpo4"
      },
      "source": [
        "deciles = np.arange(start=.1,stop=.91,step=.1)"
      ],
      "execution_count": null,
      "outputs": []
    },
    {
      "cell_type": "code",
      "metadata": {
        "colab": {
          "base_uri": "https://localhost:8080/"
        },
        "id": "xbxMzVoHv-mi",
        "outputId": "d8f43ef7-32d5-4e0c-a8e7-35cbd6380a73"
      },
      "source": [
        "deciles"
      ],
      "execution_count": null,
      "outputs": [
        {
          "output_type": "execute_result",
          "data": {
            "text/plain": [
              "array([0.1, 0.2, 0.3, 0.4, 0.5, 0.6, 0.7, 0.8, 0.9])"
            ]
          },
          "metadata": {
            "tags": []
          },
          "execution_count": 15
        }
      ]
    },
    {
      "cell_type": "code",
      "metadata": {
        "colab": {
          "base_uri": "https://localhost:8080/"
        },
        "id": "1FbN2n91v-jB",
        "outputId": "0ad50ce1-0617-4fb2-a40f-3176cc843107"
      },
      "source": [
        " market_cap.quantile(deciles)\n"
      ],
      "execution_count": null,
      "outputs": [
        {
          "output_type": "execute_result",
          "data": {
            "text/plain": [
              "0.1       4.884565\n",
              "0.2      26.993382\n",
              "0.3      65.714547\n",
              "0.4     124.320644\n",
              "0.5     225.968428\n",
              "0.6     402.469678\n",
              "0.7     723.163197\n",
              "0.8    1441.071134\n",
              "0.9    3671.499558\n",
              "Name: Market Capitalization, dtype: float64"
            ]
          },
          "metadata": {
            "tags": []
          },
          "execution_count": 16
        }
      ]
    },
    {
      "cell_type": "markdown",
      "metadata": {
        "id": "b6WCsYrMve17"
      },
      "source": [
        "\n",
        "**Visualize quantiles with bar chart**\n"
      ]
    },
    {
      "cell_type": "code",
      "metadata": {
        "id": "26aiys4iIOM-"
      },
      "source": [
        "def enable_plotly_in_cell():\n",
        "  import IPython\n",
        "  from plotly.offline import init_notebook_mode\n",
        "  display(IPython.core.display.HTML('''<script src=\"/static/components/requirejs/require.js\"></script>'''))\n",
        "  init_notebook_mode(connected=False)\n",
        "# Alternative Way to Show each plot using this function instead of renderer=\"colab\""
      ],
      "execution_count": null,
      "outputs": []
    },
    {
      "cell_type": "markdown",
      "metadata": {
        "id": "_NPq6_N3INpR"
      },
      "source": [
        ""
      ]
    },
    {
      "cell_type": "code",
      "metadata": {
        "colab": {
          "base_uri": "https://localhost:8080/",
          "height": 542
        },
        "id": "Nq0OvTWpwJXO",
        "outputId": "b14e1e4c-5e58-42a8-b0c9-94954855044e"
      },
      "source": [
        "#from plotly.offline import iplot\n",
        "#import plotly.graph_objs as go\n",
        "\n",
        "#enable_plotly_in_cell()\n",
        "\n",
        "data=[go.Bar(x=deciles,y=market_cap.quantile(deciles),name=\"NASDAQ Market Capitalization (million USD)\")]\n",
        "layout=go.Layout(title=\"NASDAQ Market Capitalization (million USD)\")\n",
        "fig=go.Figure(data=data,layout=layout)\n",
        "#fig.show()\n",
        "fig.show(renderer=\"colab\")"
      ],
      "execution_count": null,
      "outputs": [
        {
          "output_type": "display_data",
          "data": {
            "text/html": [
              "<html>\n",
              "<head><meta charset=\"utf-8\" /></head>\n",
              "<body>\n",
              "    <div>\n",
              "            <script src=\"https://cdnjs.cloudflare.com/ajax/libs/mathjax/2.7.5/MathJax.js?config=TeX-AMS-MML_SVG\"></script><script type=\"text/javascript\">if (window.MathJax) {MathJax.Hub.Config({SVG: {font: \"STIX-Web\"}});}</script>\n",
              "                <script type=\"text/javascript\">window.PlotlyConfig = {MathJaxConfig: 'local'};</script>\n",
              "        <script src=\"https://cdn.plot.ly/plotly-latest.min.js\"></script>    \n",
              "            <div id=\"95357f3d-859b-4d6c-bf8b-bc69eb23ae97\" class=\"plotly-graph-div\" style=\"height:525px; width:100%;\"></div>\n",
              "            <script type=\"text/javascript\">\n",
              "                \n",
              "                    window.PLOTLYENV=window.PLOTLYENV || {};\n",
              "                    \n",
              "                if (document.getElementById(\"95357f3d-859b-4d6c-bf8b-bc69eb23ae97\")) {\n",
              "                    Plotly.newPlot(\n",
              "                        '95357f3d-859b-4d6c-bf8b-bc69eb23ae97',\n",
              "                        [{\"name\": \"NASDAQ Market Capitalization (million USD)\", \"type\": \"bar\", \"x\": [0.1, 0.2, 0.30000000000000004, 0.4, 0.5, 0.6, 0.7000000000000001, 0.8, 0.9], \"y\": [4.884564584000001, 26.99338208000001, 65.71454711999999, 124.32064381200004, 225.9684285, 402.4696782, 723.1631972079997, 1441.0711344000008, 3671.499557612002]}],\n",
              "                        {\"template\": {\"data\": {\"bar\": [{\"error_x\": {\"color\": \"#2a3f5f\"}, \"error_y\": {\"color\": \"#2a3f5f\"}, \"marker\": {\"line\": {\"color\": \"#E5ECF6\", \"width\": 0.5}}, \"type\": \"bar\"}], \"barpolar\": [{\"marker\": {\"line\": {\"color\": \"#E5ECF6\", \"width\": 0.5}}, \"type\": \"barpolar\"}], \"carpet\": [{\"aaxis\": {\"endlinecolor\": \"#2a3f5f\", \"gridcolor\": \"white\", \"linecolor\": \"white\", \"minorgridcolor\": \"white\", \"startlinecolor\": \"#2a3f5f\"}, \"baxis\": {\"endlinecolor\": \"#2a3f5f\", \"gridcolor\": \"white\", \"linecolor\": \"white\", \"minorgridcolor\": \"white\", \"startlinecolor\": \"#2a3f5f\"}, \"type\": \"carpet\"}], \"choropleth\": [{\"colorbar\": {\"outlinewidth\": 0, \"ticks\": \"\"}, \"type\": \"choropleth\"}], \"contour\": [{\"colorbar\": {\"outlinewidth\": 0, \"ticks\": \"\"}, \"colorscale\": [[0.0, \"#0d0887\"], [0.1111111111111111, \"#46039f\"], [0.2222222222222222, \"#7201a8\"], [0.3333333333333333, \"#9c179e\"], [0.4444444444444444, \"#bd3786\"], [0.5555555555555556, \"#d8576b\"], [0.6666666666666666, \"#ed7953\"], [0.7777777777777778, \"#fb9f3a\"], [0.8888888888888888, \"#fdca26\"], [1.0, \"#f0f921\"]], \"type\": \"contour\"}], \"contourcarpet\": [{\"colorbar\": {\"outlinewidth\": 0, \"ticks\": \"\"}, \"type\": \"contourcarpet\"}], \"heatmap\": [{\"colorbar\": {\"outlinewidth\": 0, \"ticks\": \"\"}, \"colorscale\": [[0.0, \"#0d0887\"], [0.1111111111111111, \"#46039f\"], [0.2222222222222222, \"#7201a8\"], [0.3333333333333333, \"#9c179e\"], [0.4444444444444444, \"#bd3786\"], [0.5555555555555556, \"#d8576b\"], [0.6666666666666666, \"#ed7953\"], [0.7777777777777778, \"#fb9f3a\"], [0.8888888888888888, \"#fdca26\"], [1.0, \"#f0f921\"]], \"type\": \"heatmap\"}], \"heatmapgl\": [{\"colorbar\": {\"outlinewidth\": 0, \"ticks\": \"\"}, \"colorscale\": [[0.0, \"#0d0887\"], [0.1111111111111111, \"#46039f\"], [0.2222222222222222, \"#7201a8\"], [0.3333333333333333, \"#9c179e\"], [0.4444444444444444, \"#bd3786\"], [0.5555555555555556, \"#d8576b\"], [0.6666666666666666, \"#ed7953\"], [0.7777777777777778, \"#fb9f3a\"], [0.8888888888888888, \"#fdca26\"], [1.0, \"#f0f921\"]], \"type\": \"heatmapgl\"}], \"histogram\": [{\"marker\": {\"colorbar\": {\"outlinewidth\": 0, \"ticks\": \"\"}}, \"type\": \"histogram\"}], \"histogram2d\": [{\"colorbar\": {\"outlinewidth\": 0, \"ticks\": \"\"}, \"colorscale\": [[0.0, \"#0d0887\"], [0.1111111111111111, \"#46039f\"], [0.2222222222222222, \"#7201a8\"], [0.3333333333333333, \"#9c179e\"], [0.4444444444444444, \"#bd3786\"], [0.5555555555555556, \"#d8576b\"], [0.6666666666666666, \"#ed7953\"], [0.7777777777777778, \"#fb9f3a\"], [0.8888888888888888, \"#fdca26\"], [1.0, \"#f0f921\"]], \"type\": \"histogram2d\"}], \"histogram2dcontour\": [{\"colorbar\": {\"outlinewidth\": 0, \"ticks\": \"\"}, \"colorscale\": [[0.0, \"#0d0887\"], [0.1111111111111111, \"#46039f\"], [0.2222222222222222, \"#7201a8\"], [0.3333333333333333, \"#9c179e\"], [0.4444444444444444, \"#bd3786\"], [0.5555555555555556, \"#d8576b\"], [0.6666666666666666, \"#ed7953\"], [0.7777777777777778, \"#fb9f3a\"], [0.8888888888888888, \"#fdca26\"], [1.0, \"#f0f921\"]], \"type\": \"histogram2dcontour\"}], \"mesh3d\": [{\"colorbar\": {\"outlinewidth\": 0, \"ticks\": \"\"}, \"type\": \"mesh3d\"}], \"parcoords\": [{\"line\": {\"colorbar\": {\"outlinewidth\": 0, \"ticks\": \"\"}}, \"type\": \"parcoords\"}], \"pie\": [{\"automargin\": true, \"type\": \"pie\"}], \"scatter\": [{\"marker\": {\"colorbar\": {\"outlinewidth\": 0, \"ticks\": \"\"}}, \"type\": \"scatter\"}], \"scatter3d\": [{\"line\": {\"colorbar\": {\"outlinewidth\": 0, \"ticks\": \"\"}}, \"marker\": {\"colorbar\": {\"outlinewidth\": 0, \"ticks\": \"\"}}, \"type\": \"scatter3d\"}], \"scattercarpet\": [{\"marker\": {\"colorbar\": {\"outlinewidth\": 0, \"ticks\": \"\"}}, \"type\": \"scattercarpet\"}], \"scattergeo\": [{\"marker\": {\"colorbar\": {\"outlinewidth\": 0, \"ticks\": \"\"}}, \"type\": \"scattergeo\"}], \"scattergl\": [{\"marker\": {\"colorbar\": {\"outlinewidth\": 0, \"ticks\": \"\"}}, \"type\": \"scattergl\"}], \"scattermapbox\": [{\"marker\": {\"colorbar\": {\"outlinewidth\": 0, \"ticks\": \"\"}}, \"type\": \"scattermapbox\"}], \"scatterpolar\": [{\"marker\": {\"colorbar\": {\"outlinewidth\": 0, \"ticks\": \"\"}}, \"type\": \"scatterpolar\"}], \"scatterpolargl\": [{\"marker\": {\"colorbar\": {\"outlinewidth\": 0, \"ticks\": \"\"}}, \"type\": \"scatterpolargl\"}], \"scatterternary\": [{\"marker\": {\"colorbar\": {\"outlinewidth\": 0, \"ticks\": \"\"}}, \"type\": \"scatterternary\"}], \"surface\": [{\"colorbar\": {\"outlinewidth\": 0, \"ticks\": \"\"}, \"colorscale\": [[0.0, \"#0d0887\"], [0.1111111111111111, \"#46039f\"], [0.2222222222222222, \"#7201a8\"], [0.3333333333333333, \"#9c179e\"], [0.4444444444444444, \"#bd3786\"], [0.5555555555555556, \"#d8576b\"], [0.6666666666666666, \"#ed7953\"], [0.7777777777777778, \"#fb9f3a\"], [0.8888888888888888, \"#fdca26\"], [1.0, \"#f0f921\"]], \"type\": \"surface\"}], \"table\": [{\"cells\": {\"fill\": {\"color\": \"#EBF0F8\"}, \"line\": {\"color\": \"white\"}}, \"header\": {\"fill\": {\"color\": \"#C8D4E3\"}, \"line\": {\"color\": \"white\"}}, \"type\": \"table\"}]}, \"layout\": {\"annotationdefaults\": {\"arrowcolor\": \"#2a3f5f\", \"arrowhead\": 0, \"arrowwidth\": 1}, \"coloraxis\": {\"colorbar\": {\"outlinewidth\": 0, \"ticks\": \"\"}}, \"colorscale\": {\"diverging\": [[0, \"#8e0152\"], [0.1, \"#c51b7d\"], [0.2, \"#de77ae\"], [0.3, \"#f1b6da\"], [0.4, \"#fde0ef\"], [0.5, \"#f7f7f7\"], [0.6, \"#e6f5d0\"], [0.7, \"#b8e186\"], [0.8, \"#7fbc41\"], [0.9, \"#4d9221\"], [1, \"#276419\"]], \"sequential\": [[0.0, \"#0d0887\"], [0.1111111111111111, \"#46039f\"], [0.2222222222222222, \"#7201a8\"], [0.3333333333333333, \"#9c179e\"], [0.4444444444444444, \"#bd3786\"], [0.5555555555555556, \"#d8576b\"], [0.6666666666666666, \"#ed7953\"], [0.7777777777777778, \"#fb9f3a\"], [0.8888888888888888, \"#fdca26\"], [1.0, \"#f0f921\"]], \"sequentialminus\": [[0.0, \"#0d0887\"], [0.1111111111111111, \"#46039f\"], [0.2222222222222222, \"#7201a8\"], [0.3333333333333333, \"#9c179e\"], [0.4444444444444444, \"#bd3786\"], [0.5555555555555556, \"#d8576b\"], [0.6666666666666666, \"#ed7953\"], [0.7777777777777778, \"#fb9f3a\"], [0.8888888888888888, \"#fdca26\"], [1.0, \"#f0f921\"]]}, \"colorway\": [\"#636efa\", \"#EF553B\", \"#00cc96\", \"#ab63fa\", \"#FFA15A\", \"#19d3f3\", \"#FF6692\", \"#B6E880\", \"#FF97FF\", \"#FECB52\"], \"font\": {\"color\": \"#2a3f5f\"}, \"geo\": {\"bgcolor\": \"white\", \"lakecolor\": \"white\", \"landcolor\": \"#E5ECF6\", \"showlakes\": true, \"showland\": true, \"subunitcolor\": \"white\"}, \"hoverlabel\": {\"align\": \"left\"}, \"hovermode\": \"closest\", \"mapbox\": {\"style\": \"light\"}, \"paper_bgcolor\": \"white\", \"plot_bgcolor\": \"#E5ECF6\", \"polar\": {\"angularaxis\": {\"gridcolor\": \"white\", \"linecolor\": \"white\", \"ticks\": \"\"}, \"bgcolor\": \"#E5ECF6\", \"radialaxis\": {\"gridcolor\": \"white\", \"linecolor\": \"white\", \"ticks\": \"\"}}, \"scene\": {\"xaxis\": {\"backgroundcolor\": \"#E5ECF6\", \"gridcolor\": \"white\", \"gridwidth\": 2, \"linecolor\": \"white\", \"showbackground\": true, \"ticks\": \"\", \"zerolinecolor\": \"white\"}, \"yaxis\": {\"backgroundcolor\": \"#E5ECF6\", \"gridcolor\": \"white\", \"gridwidth\": 2, \"linecolor\": \"white\", \"showbackground\": true, \"ticks\": \"\", \"zerolinecolor\": \"white\"}, \"zaxis\": {\"backgroundcolor\": \"#E5ECF6\", \"gridcolor\": \"white\", \"gridwidth\": 2, \"linecolor\": \"white\", \"showbackground\": true, \"ticks\": \"\", \"zerolinecolor\": \"white\"}}, \"shapedefaults\": {\"line\": {\"color\": \"#2a3f5f\"}}, \"ternary\": {\"aaxis\": {\"gridcolor\": \"white\", \"linecolor\": \"white\", \"ticks\": \"\"}, \"baxis\": {\"gridcolor\": \"white\", \"linecolor\": \"white\", \"ticks\": \"\"}, \"bgcolor\": \"#E5ECF6\", \"caxis\": {\"gridcolor\": \"white\", \"linecolor\": \"white\", \"ticks\": \"\"}}, \"title\": {\"x\": 0.05}, \"xaxis\": {\"automargin\": true, \"gridcolor\": \"white\", \"linecolor\": \"white\", \"ticks\": \"\", \"title\": {\"standoff\": 15}, \"zerolinecolor\": \"white\", \"zerolinewidth\": 2}, \"yaxis\": {\"automargin\": true, \"gridcolor\": \"white\", \"linecolor\": \"white\", \"ticks\": \"\", \"title\": {\"standoff\": 15}, \"zerolinecolor\": \"white\", \"zerolinewidth\": 2}}}, \"title\": {\"text\": \"NASDAQ Market Capitalization (million USD)\"}},\n",
              "                        {\"responsive\": true}\n",
              "                    ).then(function(){\n",
              "                            \n",
              "var gd = document.getElementById('95357f3d-859b-4d6c-bf8b-bc69eb23ae97');\n",
              "var x = new MutationObserver(function (mutations, observer) {{\n",
              "        var display = window.getComputedStyle(gd).display;\n",
              "        if (!display || display === 'none') {{\n",
              "            console.log([gd, 'removed!']);\n",
              "            Plotly.purge(gd);\n",
              "            observer.disconnect();\n",
              "        }}\n",
              "}});\n",
              "\n",
              "// Listen for the removal of the full notebook cells\n",
              "var notebookContainer = gd.closest('#notebook-container');\n",
              "if (notebookContainer) {{\n",
              "    x.observe(notebookContainer, {childList: true});\n",
              "}}\n",
              "\n",
              "// Listen for the clearing of the current output cell\n",
              "var outputEl = gd.closest('.output');\n",
              "if (outputEl) {{\n",
              "    x.observe(outputEl, {childList: true});\n",
              "}}\n",
              "\n",
              "                        })\n",
              "                };\n",
              "                \n",
              "            </script>\n",
              "        </div>\n",
              "</body>\n",
              "</html>"
            ]
          },
          "metadata": {
            "tags": []
          }
        }
      ]
    },
    {
      "cell_type": "markdown",
      "metadata": {
        "id": "5gcEWJd5z_Dp"
      },
      "source": [
        "**EDA Stats**:"
      ]
    },
    {
      "cell_type": "code",
      "metadata": {
        "colab": {
          "base_uri": "https://localhost:8080/"
        },
        "id": "UnFKYX0mzfgN",
        "outputId": "857a30a2-08d0-4f22-951b-56ba91f435c3"
      },
      "source": [
        "market_cap.describe()\n"
      ],
      "execution_count": null,
      "outputs": [
        {
          "output_type": "execute_result",
          "data": {
            "text/plain": [
              "count      3167.000000\n",
              "mean       3180.712621\n",
              "std       25471.038707\n",
              "min           0.000000\n",
              "25%          43.375930\n",
              "50%         225.968428\n",
              "75%         969.905207\n",
              "max      740024.467000\n",
              "Name: Market Capitalization, dtype: float64"
            ]
          },
          "metadata": {
            "tags": []
          },
          "execution_count": 18
        }
      ]
    },
    {
      "cell_type": "code",
      "metadata": {
        "colab": {
          "base_uri": "https://localhost:8080/"
        },
        "id": "gZg8aqlc0P6h",
        "outputId": "35f0ac4a-b56d-4ed4-db66-d94a124b82a0"
      },
      "source": [
        "market_cap.describe(percentiles=np.arange(.1,.91,.1))\n"
      ],
      "execution_count": null,
      "outputs": [
        {
          "output_type": "execute_result",
          "data": {
            "text/plain": [
              "count      3167.000000\n",
              "mean       3180.712621\n",
              "std       25471.038707\n",
              "min           0.000000\n",
              "10%           4.884565\n",
              "20%          26.993382\n",
              "30%          65.714547\n",
              "40%         124.320644\n",
              "50%         225.968428\n",
              "60%         402.469678\n",
              "70%         723.163197\n",
              "80%        1441.071134\n",
              "90%        3671.499558\n",
              "max      740024.467000\n",
              "Name: Market Capitalization, dtype: float64"
            ]
          },
          "metadata": {
            "tags": []
          },
          "execution_count": 19
        }
      ]
    },
    {
      "cell_type": "markdown",
      "metadata": {
        "id": "Lbhhk9VSz_Aq"
      },
      "source": [
        "### Decade treasury trend distribution"
      ]
    },
    {
      "cell_type": "code",
      "metadata": {
        "id": "7M7PkrtM0knL"
      },
      "source": [
        "ty10 = web.DataReader('DGS10','fred',date(1962,1,1))"
      ],
      "execution_count": null,
      "outputs": []
    },
    {
      "cell_type": "markdown",
      "metadata": {
        "id": "R7mL6f27MAMV"
      },
      "source": [
        ""
      ]
    },
    {
      "cell_type": "code",
      "metadata": {
        "colab": {
          "base_uri": "https://localhost:8080/"
        },
        "id": "WzZzPUJj0vHl",
        "outputId": "a12b3a59-05f6-4714-fb07-a4b222edf179"
      },
      "source": [
        "ty10.info()"
      ],
      "execution_count": null,
      "outputs": [
        {
          "output_type": "stream",
          "text": [
            "<class 'pandas.core.frame.DataFrame'>\n",
            "DatetimeIndex: 15478 entries, 1962-01-02 to 2021-04-29\n",
            "Data columns (total 1 columns):\n",
            " #   Column  Non-Null Count  Dtype  \n",
            "---  ------  --------------  -----  \n",
            " 0   DGS10   14817 non-null  float64\n",
            "dtypes: float64(1)\n",
            "memory usage: 241.8 KB\n"
          ],
          "name": "stdout"
        }
      ]
    },
    {
      "cell_type": "markdown",
      "metadata": {
        "id": "_yhUBxjY0uwq"
      },
      "source": [
        "**Aggregating data by Category**"
      ]
    },
    {
      "cell_type": "markdown",
      "metadata": {
        "id": "yKo07TMn1DCG"
      },
      "source": [
        "**Group data by sector**"
      ]
    },
    {
      "cell_type": "code",
      "metadata": {
        "colab": {
          "base_uri": "https://localhost:8080/"
        },
        "id": "x-iIKp6b0vCw",
        "outputId": "f0d107c2-5fce-4e45-f5b1-33f059ab890d"
      },
      "source": [
        "nasdaq.info()"
      ],
      "execution_count": null,
      "outputs": [
        {
          "output_type": "stream",
          "text": [
            "<class 'pandas.core.frame.DataFrame'>\n",
            "RangeIndex: 3167 entries, 0 to 3166\n",
            "Data columns (total 7 columns):\n",
            " #   Column                 Non-Null Count  Dtype  \n",
            "---  ------                 --------------  -----  \n",
            " 0   Stock Symbol           3167 non-null   object \n",
            " 1   Company Name           3167 non-null   object \n",
            " 2   Last Sale              3165 non-null   float64\n",
            " 3   Market Capitalization  3167 non-null   float64\n",
            " 4   IPO Year               1386 non-null   float64\n",
            " 5   Sector                 2767 non-null   object \n",
            " 6   Industry               2767 non-null   object \n",
            "dtypes: float64(3), object(4)\n",
            "memory usage: 173.3+ KB\n"
          ],
          "name": "stdout"
        }
      ]
    },
    {
      "cell_type": "code",
      "metadata": {
        "id": "d4qheqo11NXd"
      },
      "source": [
        "nasdaq['market_cap_m'] = nasdaq['Market Capitalization'].div(1e6)"
      ],
      "execution_count": null,
      "outputs": []
    },
    {
      "cell_type": "code",
      "metadata": {
        "id": "Bnq8mnyN1iA2"
      },
      "source": [
        "nasdaq = nasdaq.drop('Market Capitalization', axis=1) # Drop column\n",
        "\n",
        "nasdaq_by_sector = nasdaq.groupby('Sector') # create groupby onject\n"
      ],
      "execution_count": null,
      "outputs": []
    },
    {
      "cell_type": "code",
      "metadata": {
        "colab": {
          "base_uri": "https://localhost:8080/"
        },
        "id": "MdjIOafl2FYn",
        "outputId": "eff9e6be-9435-4026-85ed-9c97154b478e"
      },
      "source": [
        "for sector, data in nasdaq_by_sector:\n",
        "    print(sector, data.market_cap_m.mean())\n"
      ],
      "execution_count": null,
      "outputs": [
        {
          "output_type": "stream",
          "text": [
            "Basic Industries 724.8999338580088\n",
            "Capital Goods 1511.2373727809975\n",
            "Consumer Durables 839.8026066270018\n",
            "Consumer Non-Durables 3104.0512055241334\n",
            "Consumer Services 5582.344174819412\n",
            "Energy 826.607607854727\n",
            "Finance 1044.0902047996321\n",
            "Health Care 1758.709196756265\n",
            "Miscellaneous 3445.655934557965\n",
            "Public Utilities 2357.8653150733353\n",
            "Technology 10883.43421354678\n",
            "Transportation 2869.660006726413\n"
          ],
          "name": "stdout"
        }
      ]
    },
    {
      "cell_type": "code",
      "metadata": {
        "colab": {
          "base_uri": "https://localhost:8080/"
        },
        "id": "KNwZL5792ISY",
        "outputId": "ccdd698e-a458-4159-ee1e-267e3fa8a419"
      },
      "source": [
        "# easy way\n",
        "\n",
        "mcap_by_sector = nasdaq_by_sector.market_cap_m.mean()\n",
        "print(mcap_by_sector)"
      ],
      "execution_count": null,
      "outputs": [
        {
          "output_type": "stream",
          "text": [
            "Sector\n",
            "Basic Industries           724.899934\n",
            "Capital Goods             1511.237373\n",
            "Consumer Durables          839.802607\n",
            "Consumer Non-Durables     3104.051206\n",
            "Consumer Services         5582.344175\n",
            "Energy                     826.607608\n",
            "Finance                   1044.090205\n",
            "Health Care               1758.709197\n",
            "Miscellaneous             3445.655935\n",
            "Public Utilities          2357.865315\n",
            "Technology               10883.434214\n",
            "Transportation            2869.660007\n",
            "Name: market_cap_m, dtype: float64\n"
          ],
          "name": "stdout"
        }
      ]
    },
    {
      "cell_type": "code",
      "metadata": {
        "colab": {
          "base_uri": "https://localhost:8080/",
          "height": 542
        },
        "id": "nmeWG_672P0v",
        "outputId": "b59f546e-3426-4470-978e-e211aa4d450e"
      },
      "source": [
        "data=[go.Bar(x=nasdaq_by_sector.market_cap_m.mean(),y=nasdaq['Sector'].unique(),name=\"NASDAQ = Avg. Market Cap by Sector\",orientation='h',marker=dict(\n",
        "        color='rgba(246, 78, 139, 0.6)',\n",
        "        line=dict(color='rgba(246, 78, 139, 1.0)', width=0)\n",
        "))]\n",
        "layout=go.Layout(title=\"NASDAQ Avg. Market Cap by Sector\",xaxis_title=\"USD (In Millions)\",\n",
        "    yaxis=dict(title=\"Sectors\"))\n",
        "\n",
        "fig=go.Figure(data=data,layout=layout)\n",
        "fig.show(renderer=\"colab\")\n",
        "#all sector are listed now but data is not showing the avg. mcap by sector\n",
        " "
      ],
      "execution_count": null,
      "outputs": [
        {
          "output_type": "display_data",
          "data": {
            "text/html": [
              "<html>\n",
              "<head><meta charset=\"utf-8\" /></head>\n",
              "<body>\n",
              "    <div>\n",
              "            <script src=\"https://cdnjs.cloudflare.com/ajax/libs/mathjax/2.7.5/MathJax.js?config=TeX-AMS-MML_SVG\"></script><script type=\"text/javascript\">if (window.MathJax) {MathJax.Hub.Config({SVG: {font: \"STIX-Web\"}});}</script>\n",
              "                <script type=\"text/javascript\">window.PlotlyConfig = {MathJaxConfig: 'local'};</script>\n",
              "        <script src=\"https://cdn.plot.ly/plotly-latest.min.js\"></script>    \n",
              "            <div id=\"b8b29c89-b358-4aa6-8146-32ab3f1d6d6f\" class=\"plotly-graph-div\" style=\"height:525px; width:100%;\"></div>\n",
              "            <script type=\"text/javascript\">\n",
              "                \n",
              "                    window.PLOTLYENV=window.PLOTLYENV || {};\n",
              "                    \n",
              "                if (document.getElementById(\"b8b29c89-b358-4aa6-8146-32ab3f1d6d6f\")) {\n",
              "                    Plotly.newPlot(\n",
              "                        'b8b29c89-b358-4aa6-8146-32ab3f1d6d6f',\n",
              "                        [{\"marker\": {\"color\": \"rgba(246, 78, 139, 0.6)\", \"line\": {\"color\": \"rgba(246, 78, 139, 1.0)\", \"width\": 0}}, \"name\": \"NASDAQ = Avg. Market Cap by Sector\", \"orientation\": \"h\", \"type\": \"bar\", \"x\": [724.8999338580088, 1511.2373727809975, 839.8026066270018, 3104.0512055241334, 5582.344174819412, 826.607607854727, 1044.0902047996321, 1758.709196756265, 3445.655934557965, 2357.8653150733353, 10883.43421354678, 2869.660006726413], \"y\": [\"Technology\", \"Consumer Services\", \"Health Care\", \"Consumer Non-Durables\", \"Miscellaneous\", \"Public Utilities\", \"Capital Goods\", null, \"Transportation\", \"Finance\", \"Consumer Durables\", \"Energy\", \"Basic Industries\"]}],\n",
              "                        {\"template\": {\"data\": {\"bar\": [{\"error_x\": {\"color\": \"#2a3f5f\"}, \"error_y\": {\"color\": \"#2a3f5f\"}, \"marker\": {\"line\": {\"color\": \"#E5ECF6\", \"width\": 0.5}}, \"type\": \"bar\"}], \"barpolar\": [{\"marker\": {\"line\": {\"color\": \"#E5ECF6\", \"width\": 0.5}}, \"type\": \"barpolar\"}], \"carpet\": [{\"aaxis\": {\"endlinecolor\": \"#2a3f5f\", \"gridcolor\": \"white\", \"linecolor\": \"white\", \"minorgridcolor\": \"white\", \"startlinecolor\": \"#2a3f5f\"}, \"baxis\": {\"endlinecolor\": \"#2a3f5f\", \"gridcolor\": \"white\", \"linecolor\": \"white\", \"minorgridcolor\": \"white\", \"startlinecolor\": \"#2a3f5f\"}, \"type\": \"carpet\"}], \"choropleth\": [{\"colorbar\": {\"outlinewidth\": 0, \"ticks\": \"\"}, \"type\": \"choropleth\"}], \"contour\": [{\"colorbar\": {\"outlinewidth\": 0, \"ticks\": \"\"}, \"colorscale\": [[0.0, \"#0d0887\"], [0.1111111111111111, \"#46039f\"], [0.2222222222222222, \"#7201a8\"], [0.3333333333333333, \"#9c179e\"], [0.4444444444444444, \"#bd3786\"], [0.5555555555555556, \"#d8576b\"], [0.6666666666666666, \"#ed7953\"], [0.7777777777777778, \"#fb9f3a\"], [0.8888888888888888, \"#fdca26\"], [1.0, \"#f0f921\"]], \"type\": \"contour\"}], \"contourcarpet\": [{\"colorbar\": {\"outlinewidth\": 0, \"ticks\": \"\"}, \"type\": \"contourcarpet\"}], \"heatmap\": [{\"colorbar\": {\"outlinewidth\": 0, \"ticks\": \"\"}, \"colorscale\": [[0.0, \"#0d0887\"], [0.1111111111111111, \"#46039f\"], [0.2222222222222222, \"#7201a8\"], [0.3333333333333333, \"#9c179e\"], [0.4444444444444444, \"#bd3786\"], [0.5555555555555556, \"#d8576b\"], [0.6666666666666666, \"#ed7953\"], [0.7777777777777778, \"#fb9f3a\"], [0.8888888888888888, \"#fdca26\"], [1.0, \"#f0f921\"]], \"type\": \"heatmap\"}], \"heatmapgl\": [{\"colorbar\": {\"outlinewidth\": 0, \"ticks\": \"\"}, \"colorscale\": [[0.0, \"#0d0887\"], [0.1111111111111111, \"#46039f\"], [0.2222222222222222, \"#7201a8\"], [0.3333333333333333, \"#9c179e\"], [0.4444444444444444, \"#bd3786\"], [0.5555555555555556, \"#d8576b\"], [0.6666666666666666, \"#ed7953\"], [0.7777777777777778, \"#fb9f3a\"], [0.8888888888888888, \"#fdca26\"], [1.0, \"#f0f921\"]], \"type\": \"heatmapgl\"}], \"histogram\": [{\"marker\": {\"colorbar\": {\"outlinewidth\": 0, \"ticks\": \"\"}}, \"type\": \"histogram\"}], \"histogram2d\": [{\"colorbar\": {\"outlinewidth\": 0, \"ticks\": \"\"}, \"colorscale\": [[0.0, \"#0d0887\"], [0.1111111111111111, \"#46039f\"], [0.2222222222222222, \"#7201a8\"], [0.3333333333333333, \"#9c179e\"], [0.4444444444444444, \"#bd3786\"], [0.5555555555555556, \"#d8576b\"], [0.6666666666666666, \"#ed7953\"], [0.7777777777777778, \"#fb9f3a\"], [0.8888888888888888, \"#fdca26\"], [1.0, \"#f0f921\"]], \"type\": \"histogram2d\"}], \"histogram2dcontour\": [{\"colorbar\": {\"outlinewidth\": 0, \"ticks\": \"\"}, \"colorscale\": [[0.0, \"#0d0887\"], [0.1111111111111111, \"#46039f\"], [0.2222222222222222, \"#7201a8\"], [0.3333333333333333, \"#9c179e\"], [0.4444444444444444, \"#bd3786\"], [0.5555555555555556, \"#d8576b\"], [0.6666666666666666, \"#ed7953\"], [0.7777777777777778, \"#fb9f3a\"], [0.8888888888888888, \"#fdca26\"], [1.0, \"#f0f921\"]], \"type\": \"histogram2dcontour\"}], \"mesh3d\": [{\"colorbar\": {\"outlinewidth\": 0, \"ticks\": \"\"}, \"type\": \"mesh3d\"}], \"parcoords\": [{\"line\": {\"colorbar\": {\"outlinewidth\": 0, \"ticks\": \"\"}}, \"type\": \"parcoords\"}], \"pie\": [{\"automargin\": true, \"type\": \"pie\"}], \"scatter\": [{\"marker\": {\"colorbar\": {\"outlinewidth\": 0, \"ticks\": \"\"}}, \"type\": \"scatter\"}], \"scatter3d\": [{\"line\": {\"colorbar\": {\"outlinewidth\": 0, \"ticks\": \"\"}}, \"marker\": {\"colorbar\": {\"outlinewidth\": 0, \"ticks\": \"\"}}, \"type\": \"scatter3d\"}], \"scattercarpet\": [{\"marker\": {\"colorbar\": {\"outlinewidth\": 0, \"ticks\": \"\"}}, \"type\": \"scattercarpet\"}], \"scattergeo\": [{\"marker\": {\"colorbar\": {\"outlinewidth\": 0, \"ticks\": \"\"}}, \"type\": \"scattergeo\"}], \"scattergl\": [{\"marker\": {\"colorbar\": {\"outlinewidth\": 0, \"ticks\": \"\"}}, \"type\": \"scattergl\"}], \"scattermapbox\": [{\"marker\": {\"colorbar\": {\"outlinewidth\": 0, \"ticks\": \"\"}}, \"type\": \"scattermapbox\"}], \"scatterpolar\": [{\"marker\": {\"colorbar\": {\"outlinewidth\": 0, \"ticks\": \"\"}}, \"type\": \"scatterpolar\"}], \"scatterpolargl\": [{\"marker\": {\"colorbar\": {\"outlinewidth\": 0, \"ticks\": \"\"}}, \"type\": \"scatterpolargl\"}], \"scatterternary\": [{\"marker\": {\"colorbar\": {\"outlinewidth\": 0, \"ticks\": \"\"}}, \"type\": \"scatterternary\"}], \"surface\": [{\"colorbar\": {\"outlinewidth\": 0, \"ticks\": \"\"}, \"colorscale\": [[0.0, \"#0d0887\"], [0.1111111111111111, \"#46039f\"], [0.2222222222222222, \"#7201a8\"], [0.3333333333333333, \"#9c179e\"], [0.4444444444444444, \"#bd3786\"], [0.5555555555555556, \"#d8576b\"], [0.6666666666666666, \"#ed7953\"], [0.7777777777777778, \"#fb9f3a\"], [0.8888888888888888, \"#fdca26\"], [1.0, \"#f0f921\"]], \"type\": \"surface\"}], \"table\": [{\"cells\": {\"fill\": {\"color\": \"#EBF0F8\"}, \"line\": {\"color\": \"white\"}}, \"header\": {\"fill\": {\"color\": \"#C8D4E3\"}, \"line\": {\"color\": \"white\"}}, \"type\": \"table\"}]}, \"layout\": {\"annotationdefaults\": {\"arrowcolor\": \"#2a3f5f\", \"arrowhead\": 0, \"arrowwidth\": 1}, \"coloraxis\": {\"colorbar\": {\"outlinewidth\": 0, \"ticks\": \"\"}}, \"colorscale\": {\"diverging\": [[0, \"#8e0152\"], [0.1, \"#c51b7d\"], [0.2, \"#de77ae\"], [0.3, \"#f1b6da\"], [0.4, \"#fde0ef\"], [0.5, \"#f7f7f7\"], [0.6, \"#e6f5d0\"], [0.7, \"#b8e186\"], [0.8, \"#7fbc41\"], [0.9, \"#4d9221\"], [1, \"#276419\"]], \"sequential\": [[0.0, \"#0d0887\"], [0.1111111111111111, \"#46039f\"], [0.2222222222222222, \"#7201a8\"], [0.3333333333333333, \"#9c179e\"], [0.4444444444444444, \"#bd3786\"], [0.5555555555555556, \"#d8576b\"], [0.6666666666666666, \"#ed7953\"], [0.7777777777777778, \"#fb9f3a\"], [0.8888888888888888, \"#fdca26\"], [1.0, \"#f0f921\"]], \"sequentialminus\": [[0.0, \"#0d0887\"], [0.1111111111111111, \"#46039f\"], [0.2222222222222222, \"#7201a8\"], [0.3333333333333333, \"#9c179e\"], [0.4444444444444444, \"#bd3786\"], [0.5555555555555556, \"#d8576b\"], [0.6666666666666666, \"#ed7953\"], [0.7777777777777778, \"#fb9f3a\"], [0.8888888888888888, \"#fdca26\"], [1.0, \"#f0f921\"]]}, \"colorway\": [\"#636efa\", \"#EF553B\", \"#00cc96\", \"#ab63fa\", \"#FFA15A\", \"#19d3f3\", \"#FF6692\", \"#B6E880\", \"#FF97FF\", \"#FECB52\"], \"font\": {\"color\": \"#2a3f5f\"}, \"geo\": {\"bgcolor\": \"white\", \"lakecolor\": \"white\", \"landcolor\": \"#E5ECF6\", \"showlakes\": true, \"showland\": true, \"subunitcolor\": \"white\"}, \"hoverlabel\": {\"align\": \"left\"}, \"hovermode\": \"closest\", \"mapbox\": {\"style\": \"light\"}, \"paper_bgcolor\": \"white\", \"plot_bgcolor\": \"#E5ECF6\", \"polar\": {\"angularaxis\": {\"gridcolor\": \"white\", \"linecolor\": \"white\", \"ticks\": \"\"}, \"bgcolor\": \"#E5ECF6\", \"radialaxis\": {\"gridcolor\": \"white\", \"linecolor\": \"white\", \"ticks\": \"\"}}, \"scene\": {\"xaxis\": {\"backgroundcolor\": \"#E5ECF6\", \"gridcolor\": \"white\", \"gridwidth\": 2, \"linecolor\": \"white\", \"showbackground\": true, \"ticks\": \"\", \"zerolinecolor\": \"white\"}, \"yaxis\": {\"backgroundcolor\": \"#E5ECF6\", \"gridcolor\": \"white\", \"gridwidth\": 2, \"linecolor\": \"white\", \"showbackground\": true, \"ticks\": \"\", \"zerolinecolor\": \"white\"}, \"zaxis\": {\"backgroundcolor\": \"#E5ECF6\", \"gridcolor\": \"white\", \"gridwidth\": 2, \"linecolor\": \"white\", \"showbackground\": true, \"ticks\": \"\", \"zerolinecolor\": \"white\"}}, \"shapedefaults\": {\"line\": {\"color\": \"#2a3f5f\"}}, \"ternary\": {\"aaxis\": {\"gridcolor\": \"white\", \"linecolor\": \"white\", \"ticks\": \"\"}, \"baxis\": {\"gridcolor\": \"white\", \"linecolor\": \"white\", \"ticks\": \"\"}, \"bgcolor\": \"#E5ECF6\", \"caxis\": {\"gridcolor\": \"white\", \"linecolor\": \"white\", \"ticks\": \"\"}}, \"title\": {\"x\": 0.05}, \"xaxis\": {\"automargin\": true, \"gridcolor\": \"white\", \"linecolor\": \"white\", \"ticks\": \"\", \"title\": {\"standoff\": 15}, \"zerolinecolor\": \"white\", \"zerolinewidth\": 2}, \"yaxis\": {\"automargin\": true, \"gridcolor\": \"white\", \"linecolor\": \"white\", \"ticks\": \"\", \"title\": {\"standoff\": 15}, \"zerolinecolor\": \"white\", \"zerolinewidth\": 2}}}, \"title\": {\"text\": \"NASDAQ Avg. Market Cap by Sector\"}, \"xaxis\": {\"title\": {\"text\": \"USD (In Millions)\"}}, \"yaxis\": {\"title\": {\"text\": \"Sectors\"}}},\n",
              "                        {\"responsive\": true}\n",
              "                    ).then(function(){\n",
              "                            \n",
              "var gd = document.getElementById('b8b29c89-b358-4aa6-8146-32ab3f1d6d6f');\n",
              "var x = new MutationObserver(function (mutations, observer) {{\n",
              "        var display = window.getComputedStyle(gd).display;\n",
              "        if (!display || display === 'none') {{\n",
              "            console.log([gd, 'removed!']);\n",
              "            Plotly.purge(gd);\n",
              "            observer.disconnect();\n",
              "        }}\n",
              "}});\n",
              "\n",
              "// Listen for the removal of the full notebook cells\n",
              "var notebookContainer = gd.closest('#notebook-container');\n",
              "if (notebookContainer) {{\n",
              "    x.observe(notebookContainer, {childList: true});\n",
              "}}\n",
              "\n",
              "// Listen for the clearing of the current output cell\n",
              "var outputEl = gd.closest('.output');\n",
              "if (outputEl) {{\n",
              "    x.observe(outputEl, {childList: true});\n",
              "}}\n",
              "\n",
              "                        })\n",
              "                };\n",
              "                \n",
              "            </script>\n",
              "        </div>\n",
              "</body>\n",
              "</html>"
            ]
          },
          "metadata": {
            "tags": []
          }
        }
      ]
    },
    {
      "cell_type": "markdown",
      "metadata": {
        "id": "rHrgl1ZL2ifG"
      },
      "source": [
        "**Aggregation Summary**"
      ]
    },
    {
      "cell_type": "code",
      "metadata": {
        "colab": {
          "base_uri": "https://localhost:8080/",
          "height": 437
        },
        "id": "4jXZ0MS62bhY",
        "outputId": "f69ce7b3-92e1-46c4-cd1b-6dddee22a536"
      },
      "source": [
        "nasdaq_by_sector.mean()"
      ],
      "execution_count": null,
      "outputs": [
        {
          "output_type": "execute_result",
          "data": {
            "text/html": [
              "<div>\n",
              "<style scoped>\n",
              "    .dataframe tbody tr th:only-of-type {\n",
              "        vertical-align: middle;\n",
              "    }\n",
              "\n",
              "    .dataframe tbody tr th {\n",
              "        vertical-align: top;\n",
              "    }\n",
              "\n",
              "    .dataframe thead th {\n",
              "        text-align: right;\n",
              "    }\n",
              "</style>\n",
              "<table border=\"1\" class=\"dataframe\">\n",
              "  <thead>\n",
              "    <tr style=\"text-align: right;\">\n",
              "      <th></th>\n",
              "      <th>Last Sale</th>\n",
              "      <th>IPO Year</th>\n",
              "      <th>market_cap_m</th>\n",
              "    </tr>\n",
              "    <tr>\n",
              "      <th>Sector</th>\n",
              "      <th></th>\n",
              "      <th></th>\n",
              "      <th></th>\n",
              "    </tr>\n",
              "  </thead>\n",
              "  <tbody>\n",
              "    <tr>\n",
              "      <th>Basic Industries</th>\n",
              "      <td>21.597679</td>\n",
              "      <td>2000.766667</td>\n",
              "      <td>724.899934</td>\n",
              "    </tr>\n",
              "    <tr>\n",
              "      <th>Capital Goods</th>\n",
              "      <td>26.188681</td>\n",
              "      <td>2001.324675</td>\n",
              "      <td>1511.237373</td>\n",
              "    </tr>\n",
              "    <tr>\n",
              "      <th>Consumer Durables</th>\n",
              "      <td>24.363391</td>\n",
              "      <td>2003.222222</td>\n",
              "      <td>839.802607</td>\n",
              "    </tr>\n",
              "    <tr>\n",
              "      <th>Consumer Non-Durables</th>\n",
              "      <td>25.749565</td>\n",
              "      <td>2000.609756</td>\n",
              "      <td>3104.051206</td>\n",
              "    </tr>\n",
              "    <tr>\n",
              "      <th>Consumer Services</th>\n",
              "      <td>34.917318</td>\n",
              "      <td>2004.104575</td>\n",
              "      <td>5582.344175</td>\n",
              "    </tr>\n",
              "    <tr>\n",
              "      <th>Energy</th>\n",
              "      <td>15.496834</td>\n",
              "      <td>2008.034483</td>\n",
              "      <td>826.607608</td>\n",
              "    </tr>\n",
              "    <tr>\n",
              "      <th>Finance</th>\n",
              "      <td>29.644242</td>\n",
              "      <td>2010.321101</td>\n",
              "      <td>1044.090205</td>\n",
              "    </tr>\n",
              "    <tr>\n",
              "      <th>Health Care</th>\n",
              "      <td>19.462531</td>\n",
              "      <td>2009.240409</td>\n",
              "      <td>1758.709197</td>\n",
              "    </tr>\n",
              "    <tr>\n",
              "      <th>Miscellaneous</th>\n",
              "      <td>46.094369</td>\n",
              "      <td>2004.333333</td>\n",
              "      <td>3445.655935</td>\n",
              "    </tr>\n",
              "    <tr>\n",
              "      <th>Public Utilities</th>\n",
              "      <td>18.643705</td>\n",
              "      <td>2006.040000</td>\n",
              "      <td>2357.865315</td>\n",
              "    </tr>\n",
              "    <tr>\n",
              "      <th>Technology</th>\n",
              "      <td>31.100317</td>\n",
              "      <td>2002.653285</td>\n",
              "      <td>10883.434214</td>\n",
              "    </tr>\n",
              "    <tr>\n",
              "      <th>Transportation</th>\n",
              "      <td>28.096758</td>\n",
              "      <td>1997.809524</td>\n",
              "      <td>2869.660007</td>\n",
              "    </tr>\n",
              "  </tbody>\n",
              "</table>\n",
              "</div>"
            ],
            "text/plain": [
              "                       Last Sale     IPO Year  market_cap_m\n",
              "Sector                                                     \n",
              "Basic Industries       21.597679  2000.766667    724.899934\n",
              "Capital Goods          26.188681  2001.324675   1511.237373\n",
              "Consumer Durables      24.363391  2003.222222    839.802607\n",
              "Consumer Non-Durables  25.749565  2000.609756   3104.051206\n",
              "Consumer Services      34.917318  2004.104575   5582.344175\n",
              "Energy                 15.496834  2008.034483    826.607608\n",
              "Finance                29.644242  2010.321101   1044.090205\n",
              "Health Care            19.462531  2009.240409   1758.709197\n",
              "Miscellaneous          46.094369  2004.333333   3445.655935\n",
              "Public Utilities       18.643705  2006.040000   2357.865315\n",
              "Technology             31.100317  2002.653285  10883.434214\n",
              "Transportation         28.096758  1997.809524   2869.660007"
            ]
          },
          "metadata": {
            "tags": []
          },
          "execution_count": 28
        }
      ]
    },
    {
      "cell_type": "markdown",
      "metadata": {
        "id": "tyc00cFe2xPd"
      },
      "source": [
        "***Aggreagation By Category***"
      ]
    },
    {
      "cell_type": "code",
      "metadata": {
        "colab": {
          "base_uri": "https://localhost:8080/",
          "height": 437
        },
        "id": "WcdRn04V2r8D",
        "outputId": "2e003a32-ed41-401f-a130-8d7b75ee5cae"
      },
      "source": [
        "nasdaq_by_sector.market_cap_m.agg(['size','mean']).sort_values('size')"
      ],
      "execution_count": null,
      "outputs": [
        {
          "output_type": "execute_result",
          "data": {
            "text/html": [
              "<div>\n",
              "<style scoped>\n",
              "    .dataframe tbody tr th:only-of-type {\n",
              "        vertical-align: middle;\n",
              "    }\n",
              "\n",
              "    .dataframe tbody tr th {\n",
              "        vertical-align: top;\n",
              "    }\n",
              "\n",
              "    .dataframe thead th {\n",
              "        text-align: right;\n",
              "    }\n",
              "</style>\n",
              "<table border=\"1\" class=\"dataframe\">\n",
              "  <thead>\n",
              "    <tr style=\"text-align: right;\">\n",
              "      <th></th>\n",
              "      <th>size</th>\n",
              "      <th>mean</th>\n",
              "    </tr>\n",
              "    <tr>\n",
              "      <th>Sector</th>\n",
              "      <th></th>\n",
              "      <th></th>\n",
              "    </tr>\n",
              "  </thead>\n",
              "  <tbody>\n",
              "    <tr>\n",
              "      <th>Transportation</th>\n",
              "      <td>52</td>\n",
              "      <td>2869.660007</td>\n",
              "    </tr>\n",
              "    <tr>\n",
              "      <th>Energy</th>\n",
              "      <td>66</td>\n",
              "      <td>826.607608</td>\n",
              "    </tr>\n",
              "    <tr>\n",
              "      <th>Public Utilities</th>\n",
              "      <td>66</td>\n",
              "      <td>2357.865315</td>\n",
              "    </tr>\n",
              "    <tr>\n",
              "      <th>Basic Industries</th>\n",
              "      <td>78</td>\n",
              "      <td>724.899934</td>\n",
              "    </tr>\n",
              "    <tr>\n",
              "      <th>Consumer Durables</th>\n",
              "      <td>88</td>\n",
              "      <td>839.802607</td>\n",
              "    </tr>\n",
              "    <tr>\n",
              "      <th>Miscellaneous</th>\n",
              "      <td>89</td>\n",
              "      <td>3445.655935</td>\n",
              "    </tr>\n",
              "    <tr>\n",
              "      <th>Consumer Non-Durables</th>\n",
              "      <td>103</td>\n",
              "      <td>3104.051206</td>\n",
              "    </tr>\n",
              "    <tr>\n",
              "      <th>Capital Goods</th>\n",
              "      <td>172</td>\n",
              "      <td>1511.237373</td>\n",
              "    </tr>\n",
              "    <tr>\n",
              "      <th>Consumer Services</th>\n",
              "      <td>348</td>\n",
              "      <td>5582.344175</td>\n",
              "    </tr>\n",
              "    <tr>\n",
              "      <th>Technology</th>\n",
              "      <td>433</td>\n",
              "      <td>10883.434214</td>\n",
              "    </tr>\n",
              "    <tr>\n",
              "      <th>Finance</th>\n",
              "      <td>627</td>\n",
              "      <td>1044.090205</td>\n",
              "    </tr>\n",
              "    <tr>\n",
              "      <th>Health Care</th>\n",
              "      <td>645</td>\n",
              "      <td>1758.709197</td>\n",
              "    </tr>\n",
              "  </tbody>\n",
              "</table>\n",
              "</div>"
            ],
            "text/plain": [
              "                       size          mean\n",
              "Sector                                   \n",
              "Transportation           52   2869.660007\n",
              "Energy                   66    826.607608\n",
              "Public Utilities         66   2357.865315\n",
              "Basic Industries         78    724.899934\n",
              "Consumer Durables        88    839.802607\n",
              "Miscellaneous            89   3445.655935\n",
              "Consumer Non-Durables   103   3104.051206\n",
              "Capital Goods           172   1511.237373\n",
              "Consumer Services       348   5582.344175\n",
              "Technology              433  10883.434214\n",
              "Finance                 627   1044.090205\n",
              "Health Care             645   1758.709197"
            ]
          },
          "metadata": {
            "tags": []
          },
          "execution_count": 29
        }
      ]
    },
    {
      "cell_type": "markdown",
      "metadata": {
        "id": "qnRNARnU4X1Q"
      },
      "source": [
        "**Different Statics by Column**"
      ]
    },
    {
      "cell_type": "code",
      "metadata": {
        "colab": {
          "base_uri": "https://localhost:8080/",
          "height": 437
        },
        "id": "8ewrxvEH2r5w",
        "outputId": "fe2854e8-429a-4df8-f9dd-29a64f020f12"
      },
      "source": [
        "nasdaq_by_sector.agg({'market_cap_m':'size','IPO Year':'median'})\n"
      ],
      "execution_count": null,
      "outputs": [
        {
          "output_type": "execute_result",
          "data": {
            "text/html": [
              "<div>\n",
              "<style scoped>\n",
              "    .dataframe tbody tr th:only-of-type {\n",
              "        vertical-align: middle;\n",
              "    }\n",
              "\n",
              "    .dataframe tbody tr th {\n",
              "        vertical-align: top;\n",
              "    }\n",
              "\n",
              "    .dataframe thead th {\n",
              "        text-align: right;\n",
              "    }\n",
              "</style>\n",
              "<table border=\"1\" class=\"dataframe\">\n",
              "  <thead>\n",
              "    <tr style=\"text-align: right;\">\n",
              "      <th></th>\n",
              "      <th>market_cap_m</th>\n",
              "      <th>IPO Year</th>\n",
              "    </tr>\n",
              "    <tr>\n",
              "      <th>Sector</th>\n",
              "      <th></th>\n",
              "      <th></th>\n",
              "    </tr>\n",
              "  </thead>\n",
              "  <tbody>\n",
              "    <tr>\n",
              "      <th>Basic Industries</th>\n",
              "      <td>78</td>\n",
              "      <td>1996.5</td>\n",
              "    </tr>\n",
              "    <tr>\n",
              "      <th>Capital Goods</th>\n",
              "      <td>172</td>\n",
              "      <td>2000.0</td>\n",
              "    </tr>\n",
              "    <tr>\n",
              "      <th>Consumer Durables</th>\n",
              "      <td>88</td>\n",
              "      <td>2002.5</td>\n",
              "    </tr>\n",
              "    <tr>\n",
              "      <th>Consumer Non-Durables</th>\n",
              "      <td>103</td>\n",
              "      <td>1998.0</td>\n",
              "    </tr>\n",
              "    <tr>\n",
              "      <th>Consumer Services</th>\n",
              "      <td>348</td>\n",
              "      <td>2005.0</td>\n",
              "    </tr>\n",
              "    <tr>\n",
              "      <th>Energy</th>\n",
              "      <td>66</td>\n",
              "      <td>2011.0</td>\n",
              "    </tr>\n",
              "    <tr>\n",
              "      <th>Finance</th>\n",
              "      <td>627</td>\n",
              "      <td>2014.0</td>\n",
              "    </tr>\n",
              "    <tr>\n",
              "      <th>Health Care</th>\n",
              "      <td>645</td>\n",
              "      <td>2014.0</td>\n",
              "    </tr>\n",
              "    <tr>\n",
              "      <th>Miscellaneous</th>\n",
              "      <td>89</td>\n",
              "      <td>2005.0</td>\n",
              "    </tr>\n",
              "    <tr>\n",
              "      <th>Public Utilities</th>\n",
              "      <td>66</td>\n",
              "      <td>2007.0</td>\n",
              "    </tr>\n",
              "    <tr>\n",
              "      <th>Technology</th>\n",
              "      <td>433</td>\n",
              "      <td>2001.5</td>\n",
              "    </tr>\n",
              "    <tr>\n",
              "      <th>Transportation</th>\n",
              "      <td>52</td>\n",
              "      <td>1997.0</td>\n",
              "    </tr>\n",
              "  </tbody>\n",
              "</table>\n",
              "</div>"
            ],
            "text/plain": [
              "                       market_cap_m  IPO Year\n",
              "Sector                                       \n",
              "Basic Industries                 78    1996.5\n",
              "Capital Goods                   172    2000.0\n",
              "Consumer Durables                88    2002.5\n",
              "Consumer Non-Durables           103    1998.0\n",
              "Consumer Services               348    2005.0\n",
              "Energy                           66    2011.0\n",
              "Finance                         627    2014.0\n",
              "Health Care                     645    2014.0\n",
              "Miscellaneous                    89    2005.0\n",
              "Public Utilities                 66    2007.0\n",
              "Technology                      433    2001.5\n",
              "Transportation                   52    1997.0"
            ]
          },
          "metadata": {
            "tags": []
          },
          "execution_count": 30
        }
      ]
    },
    {
      "cell_type": "code",
      "metadata": {
        "colab": {
          "base_uri": "https://localhost:8080/"
        },
        "id": "8e5y8InT5Em2",
        "outputId": "3ba7f3e8-3577-4a06-bae5-755ffef9e7ad"
      },
      "source": [
        "nasdaq_by_sector = nasdaq.groupby(['Sector','IPO Year'])\n",
        "\n",
        "nasdaq_by_sector.market_cap_m.mean()\n"
      ],
      "execution_count": null,
      "outputs": [
        {
          "output_type": "execute_result",
          "data": {
            "text/plain": [
              "Sector            IPO Year\n",
              "Basic Industries  1972.0       877.240005\n",
              "                  1973.0      1445.697371\n",
              "                  1986.0      1396.817381\n",
              "                  1988.0        24.847526\n",
              "                  1990.0       434.808483\n",
              "                                 ...     \n",
              "Transportation    2006.0      1397.129447\n",
              "                  2007.0       413.900806\n",
              "                  2009.0       552.445919\n",
              "                  2011.0      3711.638317\n",
              "                  2013.0       125.740421\n",
              "Name: market_cap_m, Length: 280, dtype: float64"
            ]
          },
          "metadata": {
            "tags": []
          },
          "execution_count": 31
        }
      ]
    },
    {
      "cell_type": "code",
      "metadata": {
        "colab": {
          "base_uri": "https://localhost:8080/"
        },
        "id": "ZLZPNORk53BI",
        "outputId": "b79930b7-8984-49fe-c0e4-67a7df0284f8"
      },
      "source": [
        "# In the Sorted order\n",
        "sector_size = nasdaq.groupby('Sector').size()\n",
        "order = sector_size.sort_values(ascending=False)\n",
        "order.head()"
      ],
      "execution_count": null,
      "outputs": [
        {
          "output_type": "execute_result",
          "data": {
            "text/plain": [
              "Sector\n",
              "Health Care          645\n",
              "Finance              627\n",
              "Technology           433\n",
              "Consumer Services    348\n",
              "Capital Goods        172\n",
              "dtype: int64"
            ]
          },
          "metadata": {
            "tags": []
          },
          "execution_count": 32
        }
      ]
    },
    {
      "cell_type": "code",
      "metadata": {
        "id": "qvHLHQAlTSZG"
      },
      "source": [
        ""
      ],
      "execution_count": null,
      "outputs": []
    },
    {
      "cell_type": "markdown",
      "metadata": {
        "id": "sKZFn7G0TSCQ"
      },
      "source": [
        ""
      ]
    },
    {
      "cell_type": "code",
      "metadata": {
        "colab": {
          "base_uri": "https://localhost:8080/",
          "height": 542
        },
        "id": "StMjGpzm5EkR",
        "outputId": "45d12ef7-697c-4432-a335-8551b8e02201"
      },
      "source": [
        "data=[go.Bar(x=nasdaq['Sector'].unique(),y=sector_size,textangle=45)]\n",
        "layout=go.Layout(title=\"Observations Per Sector\",yaxis_title=\"Sector Size\",xaxis_title=\"Sectors\")\n",
        "fig=go.Figure(data=data,layout=layout)\n",
        "#fig.show()\n",
        "fig.show(renderer=\"colab\") "
      ],
      "execution_count": null,
      "outputs": [
        {
          "output_type": "display_data",
          "data": {
            "text/html": [
              "<html>\n",
              "<head><meta charset=\"utf-8\" /></head>\n",
              "<body>\n",
              "    <div>\n",
              "            <script src=\"https://cdnjs.cloudflare.com/ajax/libs/mathjax/2.7.5/MathJax.js?config=TeX-AMS-MML_SVG\"></script><script type=\"text/javascript\">if (window.MathJax) {MathJax.Hub.Config({SVG: {font: \"STIX-Web\"}});}</script>\n",
              "                <script type=\"text/javascript\">window.PlotlyConfig = {MathJaxConfig: 'local'};</script>\n",
              "        <script src=\"https://cdn.plot.ly/plotly-latest.min.js\"></script>    \n",
              "            <div id=\"e5a6f1b8-ea1d-403c-8185-98edebe8d20a\" class=\"plotly-graph-div\" style=\"height:525px; width:100%;\"></div>\n",
              "            <script type=\"text/javascript\">\n",
              "                \n",
              "                    window.PLOTLYENV=window.PLOTLYENV || {};\n",
              "                    \n",
              "                if (document.getElementById(\"e5a6f1b8-ea1d-403c-8185-98edebe8d20a\")) {\n",
              "                    Plotly.newPlot(\n",
              "                        'e5a6f1b8-ea1d-403c-8185-98edebe8d20a',\n",
              "                        [{\"textangle\": 45, \"type\": \"bar\", \"x\": [\"Technology\", \"Consumer Services\", \"Health Care\", \"Consumer Non-Durables\", \"Miscellaneous\", \"Public Utilities\", \"Capital Goods\", null, \"Transportation\", \"Finance\", \"Consumer Durables\", \"Energy\", \"Basic Industries\"], \"y\": [78, 172, 88, 103, 348, 66, 627, 645, 89, 66, 433, 52]}],\n",
              "                        {\"template\": {\"data\": {\"bar\": [{\"error_x\": {\"color\": \"#2a3f5f\"}, \"error_y\": {\"color\": \"#2a3f5f\"}, \"marker\": {\"line\": {\"color\": \"#E5ECF6\", \"width\": 0.5}}, \"type\": \"bar\"}], \"barpolar\": [{\"marker\": {\"line\": {\"color\": \"#E5ECF6\", \"width\": 0.5}}, \"type\": \"barpolar\"}], \"carpet\": [{\"aaxis\": {\"endlinecolor\": \"#2a3f5f\", \"gridcolor\": \"white\", \"linecolor\": \"white\", \"minorgridcolor\": \"white\", \"startlinecolor\": \"#2a3f5f\"}, \"baxis\": {\"endlinecolor\": \"#2a3f5f\", \"gridcolor\": \"white\", \"linecolor\": \"white\", \"minorgridcolor\": \"white\", \"startlinecolor\": \"#2a3f5f\"}, \"type\": \"carpet\"}], \"choropleth\": [{\"colorbar\": {\"outlinewidth\": 0, \"ticks\": \"\"}, \"type\": \"choropleth\"}], \"contour\": [{\"colorbar\": {\"outlinewidth\": 0, \"ticks\": \"\"}, \"colorscale\": [[0.0, \"#0d0887\"], [0.1111111111111111, \"#46039f\"], [0.2222222222222222, \"#7201a8\"], [0.3333333333333333, \"#9c179e\"], [0.4444444444444444, \"#bd3786\"], [0.5555555555555556, \"#d8576b\"], [0.6666666666666666, \"#ed7953\"], [0.7777777777777778, \"#fb9f3a\"], [0.8888888888888888, \"#fdca26\"], [1.0, \"#f0f921\"]], \"type\": \"contour\"}], \"contourcarpet\": [{\"colorbar\": {\"outlinewidth\": 0, \"ticks\": \"\"}, \"type\": \"contourcarpet\"}], \"heatmap\": [{\"colorbar\": {\"outlinewidth\": 0, \"ticks\": \"\"}, \"colorscale\": [[0.0, \"#0d0887\"], [0.1111111111111111, \"#46039f\"], [0.2222222222222222, \"#7201a8\"], [0.3333333333333333, \"#9c179e\"], [0.4444444444444444, \"#bd3786\"], [0.5555555555555556, \"#d8576b\"], [0.6666666666666666, \"#ed7953\"], [0.7777777777777778, \"#fb9f3a\"], [0.8888888888888888, \"#fdca26\"], [1.0, \"#f0f921\"]], \"type\": \"heatmap\"}], \"heatmapgl\": [{\"colorbar\": {\"outlinewidth\": 0, \"ticks\": \"\"}, \"colorscale\": [[0.0, \"#0d0887\"], [0.1111111111111111, \"#46039f\"], [0.2222222222222222, \"#7201a8\"], [0.3333333333333333, \"#9c179e\"], [0.4444444444444444, \"#bd3786\"], [0.5555555555555556, \"#d8576b\"], [0.6666666666666666, \"#ed7953\"], [0.7777777777777778, \"#fb9f3a\"], [0.8888888888888888, \"#fdca26\"], [1.0, \"#f0f921\"]], \"type\": \"heatmapgl\"}], \"histogram\": [{\"marker\": {\"colorbar\": {\"outlinewidth\": 0, \"ticks\": \"\"}}, \"type\": \"histogram\"}], \"histogram2d\": [{\"colorbar\": {\"outlinewidth\": 0, \"ticks\": \"\"}, \"colorscale\": [[0.0, \"#0d0887\"], [0.1111111111111111, \"#46039f\"], [0.2222222222222222, \"#7201a8\"], [0.3333333333333333, \"#9c179e\"], [0.4444444444444444, \"#bd3786\"], [0.5555555555555556, \"#d8576b\"], [0.6666666666666666, \"#ed7953\"], [0.7777777777777778, \"#fb9f3a\"], [0.8888888888888888, \"#fdca26\"], [1.0, \"#f0f921\"]], \"type\": \"histogram2d\"}], \"histogram2dcontour\": [{\"colorbar\": {\"outlinewidth\": 0, \"ticks\": \"\"}, \"colorscale\": [[0.0, \"#0d0887\"], [0.1111111111111111, \"#46039f\"], [0.2222222222222222, \"#7201a8\"], [0.3333333333333333, \"#9c179e\"], [0.4444444444444444, \"#bd3786\"], [0.5555555555555556, \"#d8576b\"], [0.6666666666666666, \"#ed7953\"], [0.7777777777777778, \"#fb9f3a\"], [0.8888888888888888, \"#fdca26\"], [1.0, \"#f0f921\"]], \"type\": \"histogram2dcontour\"}], \"mesh3d\": [{\"colorbar\": {\"outlinewidth\": 0, \"ticks\": \"\"}, \"type\": \"mesh3d\"}], \"parcoords\": [{\"line\": {\"colorbar\": {\"outlinewidth\": 0, \"ticks\": \"\"}}, \"type\": \"parcoords\"}], \"pie\": [{\"automargin\": true, \"type\": \"pie\"}], \"scatter\": [{\"marker\": {\"colorbar\": {\"outlinewidth\": 0, \"ticks\": \"\"}}, \"type\": \"scatter\"}], \"scatter3d\": [{\"line\": {\"colorbar\": {\"outlinewidth\": 0, \"ticks\": \"\"}}, \"marker\": {\"colorbar\": {\"outlinewidth\": 0, \"ticks\": \"\"}}, \"type\": \"scatter3d\"}], \"scattercarpet\": [{\"marker\": {\"colorbar\": {\"outlinewidth\": 0, \"ticks\": \"\"}}, \"type\": \"scattercarpet\"}], \"scattergeo\": [{\"marker\": {\"colorbar\": {\"outlinewidth\": 0, \"ticks\": \"\"}}, \"type\": \"scattergeo\"}], \"scattergl\": [{\"marker\": {\"colorbar\": {\"outlinewidth\": 0, \"ticks\": \"\"}}, \"type\": \"scattergl\"}], \"scattermapbox\": [{\"marker\": {\"colorbar\": {\"outlinewidth\": 0, \"ticks\": \"\"}}, \"type\": \"scattermapbox\"}], \"scatterpolar\": [{\"marker\": {\"colorbar\": {\"outlinewidth\": 0, \"ticks\": \"\"}}, \"type\": \"scatterpolar\"}], \"scatterpolargl\": [{\"marker\": {\"colorbar\": {\"outlinewidth\": 0, \"ticks\": \"\"}}, \"type\": \"scatterpolargl\"}], \"scatterternary\": [{\"marker\": {\"colorbar\": {\"outlinewidth\": 0, \"ticks\": \"\"}}, \"type\": \"scatterternary\"}], \"surface\": [{\"colorbar\": {\"outlinewidth\": 0, \"ticks\": \"\"}, \"colorscale\": [[0.0, \"#0d0887\"], [0.1111111111111111, \"#46039f\"], [0.2222222222222222, \"#7201a8\"], [0.3333333333333333, \"#9c179e\"], [0.4444444444444444, \"#bd3786\"], [0.5555555555555556, \"#d8576b\"], [0.6666666666666666, \"#ed7953\"], [0.7777777777777778, \"#fb9f3a\"], [0.8888888888888888, \"#fdca26\"], [1.0, \"#f0f921\"]], \"type\": \"surface\"}], \"table\": [{\"cells\": {\"fill\": {\"color\": \"#EBF0F8\"}, \"line\": {\"color\": \"white\"}}, \"header\": {\"fill\": {\"color\": \"#C8D4E3\"}, \"line\": {\"color\": \"white\"}}, \"type\": \"table\"}]}, \"layout\": {\"annotationdefaults\": {\"arrowcolor\": \"#2a3f5f\", \"arrowhead\": 0, \"arrowwidth\": 1}, \"coloraxis\": {\"colorbar\": {\"outlinewidth\": 0, \"ticks\": \"\"}}, \"colorscale\": {\"diverging\": [[0, \"#8e0152\"], [0.1, \"#c51b7d\"], [0.2, \"#de77ae\"], [0.3, \"#f1b6da\"], [0.4, \"#fde0ef\"], [0.5, \"#f7f7f7\"], [0.6, \"#e6f5d0\"], [0.7, \"#b8e186\"], [0.8, \"#7fbc41\"], [0.9, \"#4d9221\"], [1, \"#276419\"]], \"sequential\": [[0.0, \"#0d0887\"], [0.1111111111111111, \"#46039f\"], [0.2222222222222222, \"#7201a8\"], [0.3333333333333333, \"#9c179e\"], [0.4444444444444444, \"#bd3786\"], [0.5555555555555556, \"#d8576b\"], [0.6666666666666666, \"#ed7953\"], [0.7777777777777778, \"#fb9f3a\"], [0.8888888888888888, \"#fdca26\"], [1.0, \"#f0f921\"]], \"sequentialminus\": [[0.0, \"#0d0887\"], [0.1111111111111111, \"#46039f\"], [0.2222222222222222, \"#7201a8\"], [0.3333333333333333, \"#9c179e\"], [0.4444444444444444, \"#bd3786\"], [0.5555555555555556, \"#d8576b\"], [0.6666666666666666, \"#ed7953\"], [0.7777777777777778, \"#fb9f3a\"], [0.8888888888888888, \"#fdca26\"], [1.0, \"#f0f921\"]]}, \"colorway\": [\"#636efa\", \"#EF553B\", \"#00cc96\", \"#ab63fa\", \"#FFA15A\", \"#19d3f3\", \"#FF6692\", \"#B6E880\", \"#FF97FF\", \"#FECB52\"], \"font\": {\"color\": \"#2a3f5f\"}, \"geo\": {\"bgcolor\": \"white\", \"lakecolor\": \"white\", \"landcolor\": \"#E5ECF6\", \"showlakes\": true, \"showland\": true, \"subunitcolor\": \"white\"}, \"hoverlabel\": {\"align\": \"left\"}, \"hovermode\": \"closest\", \"mapbox\": {\"style\": \"light\"}, \"paper_bgcolor\": \"white\", \"plot_bgcolor\": \"#E5ECF6\", \"polar\": {\"angularaxis\": {\"gridcolor\": \"white\", \"linecolor\": \"white\", \"ticks\": \"\"}, \"bgcolor\": \"#E5ECF6\", \"radialaxis\": {\"gridcolor\": \"white\", \"linecolor\": \"white\", \"ticks\": \"\"}}, \"scene\": {\"xaxis\": {\"backgroundcolor\": \"#E5ECF6\", \"gridcolor\": \"white\", \"gridwidth\": 2, \"linecolor\": \"white\", \"showbackground\": true, \"ticks\": \"\", \"zerolinecolor\": \"white\"}, \"yaxis\": {\"backgroundcolor\": \"#E5ECF6\", \"gridcolor\": \"white\", \"gridwidth\": 2, \"linecolor\": \"white\", \"showbackground\": true, \"ticks\": \"\", \"zerolinecolor\": \"white\"}, \"zaxis\": {\"backgroundcolor\": \"#E5ECF6\", \"gridcolor\": \"white\", \"gridwidth\": 2, \"linecolor\": \"white\", \"showbackground\": true, \"ticks\": \"\", \"zerolinecolor\": \"white\"}}, \"shapedefaults\": {\"line\": {\"color\": \"#2a3f5f\"}}, \"ternary\": {\"aaxis\": {\"gridcolor\": \"white\", \"linecolor\": \"white\", \"ticks\": \"\"}, \"baxis\": {\"gridcolor\": \"white\", \"linecolor\": \"white\", \"ticks\": \"\"}, \"bgcolor\": \"#E5ECF6\", \"caxis\": {\"gridcolor\": \"white\", \"linecolor\": \"white\", \"ticks\": \"\"}}, \"title\": {\"x\": 0.05}, \"xaxis\": {\"automargin\": true, \"gridcolor\": \"white\", \"linecolor\": \"white\", \"ticks\": \"\", \"title\": {\"standoff\": 15}, \"zerolinecolor\": \"white\", \"zerolinewidth\": 2}, \"yaxis\": {\"automargin\": true, \"gridcolor\": \"white\", \"linecolor\": \"white\", \"ticks\": \"\", \"title\": {\"standoff\": 15}, \"zerolinecolor\": \"white\", \"zerolinewidth\": 2}}}, \"title\": {\"text\": \"Observations Per Sector\"}, \"xaxis\": {\"title\": {\"text\": \"Sectors\"}}, \"yaxis\": {\"title\": {\"text\": \"Sector Size\"}}},\n",
              "                        {\"responsive\": true}\n",
              "                    ).then(function(){\n",
              "                            \n",
              "var gd = document.getElementById('e5a6f1b8-ea1d-403c-8185-98edebe8d20a');\n",
              "var x = new MutationObserver(function (mutations, observer) {{\n",
              "        var display = window.getComputedStyle(gd).display;\n",
              "        if (!display || display === 'none') {{\n",
              "            console.log([gd, 'removed!']);\n",
              "            Plotly.purge(gd);\n",
              "            observer.disconnect();\n",
              "        }}\n",
              "}});\n",
              "\n",
              "// Listen for the removal of the full notebook cells\n",
              "var notebookContainer = gd.closest('#notebook-container');\n",
              "if (notebookContainer) {{\n",
              "    x.observe(notebookContainer, {childList: true});\n",
              "}}\n",
              "\n",
              "// Listen for the clearing of the current output cell\n",
              "var outputEl = gd.closest('.output');\n",
              "if (outputEl) {{\n",
              "    x.observe(outputEl, {childList: true});\n",
              "}}\n",
              "\n",
              "                        })\n",
              "                };\n",
              "                \n",
              "            </script>\n",
              "        </div>\n",
              "</body>\n",
              "</html>"
            ]
          },
          "metadata": {
            "tags": []
          }
        }
      ]
    },
    {
      "cell_type": "code",
      "metadata": {
        "colab": {
          "base_uri": "https://localhost:8080/",
          "height": 542
        },
        "id": "pNGAQUqaTScX",
        "outputId": "5d152bf9-6b64-48ff-f4db-dbb28680f028"
      },
      "source": [
        "trace=[]\n",
        "recent_ipos = nasdaq[nasdaq['IPO Year'] > 2014]\n",
        "recent_ipos['IPO Year'] = recent_ipos['IPO Year'].astype(int)\n",
        "yyyy = recent_ipos['IPO Year'].unique().tolist()[-3:] #slice function\n",
        "for y in yyyy:\n",
        "    tmp_df = recent_ipos[recent_ipos['IPO Year'] == y].groupby('Sector')['market_cap_m'].sum()\n",
        "    trace.append(go.Bar(x=tmp_df.index, y=tmp_df, name=y))\n",
        "    \n",
        "# Change the bar mode\n",
        "fig = go.Figure(trace)\n",
        "fig.update_layout(barmode='group',title=\"NASDAQ Market Capitalization Sectorwise in Last Three IPO Year (million USD)\",yaxis_title=\"Market Capital(In Millions USD)\", xaxis_title=\"Sectors\")\n",
        "fig.show(renderer=\"colab\")\n",
        "# need to show data tips with modified text"
      ],
      "execution_count": null,
      "outputs": [
        {
          "output_type": "display_data",
          "data": {
            "text/html": [
              "<html>\n",
              "<head><meta charset=\"utf-8\" /></head>\n",
              "<body>\n",
              "    <div>\n",
              "            <script src=\"https://cdnjs.cloudflare.com/ajax/libs/mathjax/2.7.5/MathJax.js?config=TeX-AMS-MML_SVG\"></script><script type=\"text/javascript\">if (window.MathJax) {MathJax.Hub.Config({SVG: {font: \"STIX-Web\"}});}</script>\n",
              "                <script type=\"text/javascript\">window.PlotlyConfig = {MathJaxConfig: 'local'};</script>\n",
              "        <script src=\"https://cdn.plot.ly/plotly-latest.min.js\"></script>    \n",
              "            <div id=\"4ad945b1-3e5c-43f3-949e-e72af94408c4\" class=\"plotly-graph-div\" style=\"height:525px; width:100%;\"></div>\n",
              "            <script type=\"text/javascript\">\n",
              "                \n",
              "                    window.PLOTLYENV=window.PLOTLYENV || {};\n",
              "                    \n",
              "                if (document.getElementById(\"4ad945b1-3e5c-43f3-949e-e72af94408c4\")) {\n",
              "                    Plotly.newPlot(\n",
              "                        '4ad945b1-3e5c-43f3-949e-e72af94408c4',\n",
              "                        [{\"name\": \"2015\", \"type\": \"bar\", \"x\": [\"Basic Industries\", \"Capital Goods\", \"Consumer Durables\", \"Consumer Non-Durables\", \"Consumer Services\", \"Finance\", \"Health Care\", \"Miscellaneous\", \"Public Utilities\", \"Technology\"], \"y\": [1040.3022550599999, 1766.33579389, 267.08267661, 6734.0880935000005, 10280.794678310001, 8801.857208034999, 20574.5974940634, 1435.45916051, 2791.2581550699997, 19224.341309680003]}, {\"name\": \"2016\", \"type\": \"bar\", \"x\": [\"Basic Industries\", \"Capital Goods\", \"Consumer Non-Durables\", \"Consumer Services\", \"Energy\", \"Finance\", \"Health Care\", \"Miscellaneous\", \"Public Utilities\", \"Technology\"], \"y\": [81.288336, 1853.78448675, 97.8084348, 2609.43127572, 9054.269281750001, 9890.68293695, 11758.331574587697, 228.09617512, 172.31514080000002, 10910.310245550001]}, {\"name\": \"2017\", \"type\": \"bar\", \"x\": [\"Consumer Services\", \"Energy\", \"Finance\", \"Health Care\", \"Technology\"], \"y\": [2458.7053934, 326.1725096, 1781.8707885699998, 1870.8831464700002, 3563.36754445]}],\n",
              "                        {\"barmode\": \"group\", \"template\": {\"data\": {\"bar\": [{\"error_x\": {\"color\": \"#2a3f5f\"}, \"error_y\": {\"color\": \"#2a3f5f\"}, \"marker\": {\"line\": {\"color\": \"#E5ECF6\", \"width\": 0.5}}, \"type\": \"bar\"}], \"barpolar\": [{\"marker\": {\"line\": {\"color\": \"#E5ECF6\", \"width\": 0.5}}, \"type\": \"barpolar\"}], \"carpet\": [{\"aaxis\": {\"endlinecolor\": \"#2a3f5f\", \"gridcolor\": \"white\", \"linecolor\": \"white\", \"minorgridcolor\": \"white\", \"startlinecolor\": \"#2a3f5f\"}, \"baxis\": {\"endlinecolor\": \"#2a3f5f\", \"gridcolor\": \"white\", \"linecolor\": \"white\", \"minorgridcolor\": \"white\", \"startlinecolor\": \"#2a3f5f\"}, \"type\": \"carpet\"}], \"choropleth\": [{\"colorbar\": {\"outlinewidth\": 0, \"ticks\": \"\"}, \"type\": \"choropleth\"}], \"contour\": [{\"colorbar\": {\"outlinewidth\": 0, \"ticks\": \"\"}, \"colorscale\": [[0.0, \"#0d0887\"], [0.1111111111111111, \"#46039f\"], [0.2222222222222222, \"#7201a8\"], [0.3333333333333333, \"#9c179e\"], [0.4444444444444444, \"#bd3786\"], [0.5555555555555556, \"#d8576b\"], [0.6666666666666666, \"#ed7953\"], [0.7777777777777778, \"#fb9f3a\"], [0.8888888888888888, \"#fdca26\"], [1.0, \"#f0f921\"]], \"type\": \"contour\"}], \"contourcarpet\": [{\"colorbar\": {\"outlinewidth\": 0, \"ticks\": \"\"}, \"type\": \"contourcarpet\"}], \"heatmap\": [{\"colorbar\": {\"outlinewidth\": 0, \"ticks\": \"\"}, \"colorscale\": [[0.0, \"#0d0887\"], [0.1111111111111111, \"#46039f\"], [0.2222222222222222, \"#7201a8\"], [0.3333333333333333, \"#9c179e\"], [0.4444444444444444, \"#bd3786\"], [0.5555555555555556, \"#d8576b\"], [0.6666666666666666, \"#ed7953\"], [0.7777777777777778, \"#fb9f3a\"], [0.8888888888888888, \"#fdca26\"], [1.0, \"#f0f921\"]], \"type\": \"heatmap\"}], \"heatmapgl\": [{\"colorbar\": {\"outlinewidth\": 0, \"ticks\": \"\"}, \"colorscale\": [[0.0, \"#0d0887\"], [0.1111111111111111, \"#46039f\"], [0.2222222222222222, \"#7201a8\"], [0.3333333333333333, \"#9c179e\"], [0.4444444444444444, \"#bd3786\"], [0.5555555555555556, \"#d8576b\"], [0.6666666666666666, \"#ed7953\"], [0.7777777777777778, \"#fb9f3a\"], [0.8888888888888888, \"#fdca26\"], [1.0, \"#f0f921\"]], \"type\": \"heatmapgl\"}], \"histogram\": [{\"marker\": {\"colorbar\": {\"outlinewidth\": 0, \"ticks\": \"\"}}, \"type\": \"histogram\"}], \"histogram2d\": [{\"colorbar\": {\"outlinewidth\": 0, \"ticks\": \"\"}, \"colorscale\": [[0.0, \"#0d0887\"], [0.1111111111111111, \"#46039f\"], [0.2222222222222222, \"#7201a8\"], [0.3333333333333333, \"#9c179e\"], [0.4444444444444444, \"#bd3786\"], [0.5555555555555556, \"#d8576b\"], [0.6666666666666666, \"#ed7953\"], [0.7777777777777778, \"#fb9f3a\"], [0.8888888888888888, \"#fdca26\"], [1.0, \"#f0f921\"]], \"type\": \"histogram2d\"}], \"histogram2dcontour\": [{\"colorbar\": {\"outlinewidth\": 0, \"ticks\": \"\"}, \"colorscale\": [[0.0, \"#0d0887\"], [0.1111111111111111, \"#46039f\"], [0.2222222222222222, \"#7201a8\"], [0.3333333333333333, \"#9c179e\"], [0.4444444444444444, \"#bd3786\"], [0.5555555555555556, \"#d8576b\"], [0.6666666666666666, \"#ed7953\"], [0.7777777777777778, \"#fb9f3a\"], [0.8888888888888888, \"#fdca26\"], [1.0, \"#f0f921\"]], \"type\": \"histogram2dcontour\"}], \"mesh3d\": [{\"colorbar\": {\"outlinewidth\": 0, \"ticks\": \"\"}, \"type\": \"mesh3d\"}], \"parcoords\": [{\"line\": {\"colorbar\": {\"outlinewidth\": 0, \"ticks\": \"\"}}, \"type\": \"parcoords\"}], \"pie\": [{\"automargin\": true, \"type\": \"pie\"}], \"scatter\": [{\"marker\": {\"colorbar\": {\"outlinewidth\": 0, \"ticks\": \"\"}}, \"type\": \"scatter\"}], \"scatter3d\": [{\"line\": {\"colorbar\": {\"outlinewidth\": 0, \"ticks\": \"\"}}, \"marker\": {\"colorbar\": {\"outlinewidth\": 0, \"ticks\": \"\"}}, \"type\": \"scatter3d\"}], \"scattercarpet\": [{\"marker\": {\"colorbar\": {\"outlinewidth\": 0, \"ticks\": \"\"}}, \"type\": \"scattercarpet\"}], \"scattergeo\": [{\"marker\": {\"colorbar\": {\"outlinewidth\": 0, \"ticks\": \"\"}}, \"type\": \"scattergeo\"}], \"scattergl\": [{\"marker\": {\"colorbar\": {\"outlinewidth\": 0, \"ticks\": \"\"}}, \"type\": \"scattergl\"}], \"scattermapbox\": [{\"marker\": {\"colorbar\": {\"outlinewidth\": 0, \"ticks\": \"\"}}, \"type\": \"scattermapbox\"}], \"scatterpolar\": [{\"marker\": {\"colorbar\": {\"outlinewidth\": 0, \"ticks\": \"\"}}, \"type\": \"scatterpolar\"}], \"scatterpolargl\": [{\"marker\": {\"colorbar\": {\"outlinewidth\": 0, \"ticks\": \"\"}}, \"type\": \"scatterpolargl\"}], \"scatterternary\": [{\"marker\": {\"colorbar\": {\"outlinewidth\": 0, \"ticks\": \"\"}}, \"type\": \"scatterternary\"}], \"surface\": [{\"colorbar\": {\"outlinewidth\": 0, \"ticks\": \"\"}, \"colorscale\": [[0.0, \"#0d0887\"], [0.1111111111111111, \"#46039f\"], [0.2222222222222222, \"#7201a8\"], [0.3333333333333333, \"#9c179e\"], [0.4444444444444444, \"#bd3786\"], [0.5555555555555556, \"#d8576b\"], [0.6666666666666666, \"#ed7953\"], [0.7777777777777778, \"#fb9f3a\"], [0.8888888888888888, \"#fdca26\"], [1.0, \"#f0f921\"]], \"type\": \"surface\"}], \"table\": [{\"cells\": {\"fill\": {\"color\": \"#EBF0F8\"}, \"line\": {\"color\": \"white\"}}, \"header\": {\"fill\": {\"color\": \"#C8D4E3\"}, \"line\": {\"color\": \"white\"}}, \"type\": \"table\"}]}, \"layout\": {\"annotationdefaults\": {\"arrowcolor\": \"#2a3f5f\", \"arrowhead\": 0, \"arrowwidth\": 1}, \"coloraxis\": {\"colorbar\": {\"outlinewidth\": 0, \"ticks\": \"\"}}, \"colorscale\": {\"diverging\": [[0, \"#8e0152\"], [0.1, \"#c51b7d\"], [0.2, \"#de77ae\"], [0.3, \"#f1b6da\"], [0.4, \"#fde0ef\"], [0.5, \"#f7f7f7\"], [0.6, \"#e6f5d0\"], [0.7, \"#b8e186\"], [0.8, \"#7fbc41\"], [0.9, \"#4d9221\"], [1, \"#276419\"]], \"sequential\": [[0.0, \"#0d0887\"], [0.1111111111111111, \"#46039f\"], [0.2222222222222222, \"#7201a8\"], [0.3333333333333333, \"#9c179e\"], [0.4444444444444444, \"#bd3786\"], [0.5555555555555556, \"#d8576b\"], [0.6666666666666666, \"#ed7953\"], [0.7777777777777778, \"#fb9f3a\"], [0.8888888888888888, \"#fdca26\"], [1.0, \"#f0f921\"]], \"sequentialminus\": [[0.0, \"#0d0887\"], [0.1111111111111111, \"#46039f\"], [0.2222222222222222, \"#7201a8\"], [0.3333333333333333, \"#9c179e\"], [0.4444444444444444, \"#bd3786\"], [0.5555555555555556, \"#d8576b\"], [0.6666666666666666, \"#ed7953\"], [0.7777777777777778, \"#fb9f3a\"], [0.8888888888888888, \"#fdca26\"], [1.0, \"#f0f921\"]]}, \"colorway\": [\"#636efa\", \"#EF553B\", \"#00cc96\", \"#ab63fa\", \"#FFA15A\", \"#19d3f3\", \"#FF6692\", \"#B6E880\", \"#FF97FF\", \"#FECB52\"], \"font\": {\"color\": \"#2a3f5f\"}, \"geo\": {\"bgcolor\": \"white\", \"lakecolor\": \"white\", \"landcolor\": \"#E5ECF6\", \"showlakes\": true, \"showland\": true, \"subunitcolor\": \"white\"}, \"hoverlabel\": {\"align\": \"left\"}, \"hovermode\": \"closest\", \"mapbox\": {\"style\": \"light\"}, \"paper_bgcolor\": \"white\", \"plot_bgcolor\": \"#E5ECF6\", \"polar\": {\"angularaxis\": {\"gridcolor\": \"white\", \"linecolor\": \"white\", \"ticks\": \"\"}, \"bgcolor\": \"#E5ECF6\", \"radialaxis\": {\"gridcolor\": \"white\", \"linecolor\": \"white\", \"ticks\": \"\"}}, \"scene\": {\"xaxis\": {\"backgroundcolor\": \"#E5ECF6\", \"gridcolor\": \"white\", \"gridwidth\": 2, \"linecolor\": \"white\", \"showbackground\": true, \"ticks\": \"\", \"zerolinecolor\": \"white\"}, \"yaxis\": {\"backgroundcolor\": \"#E5ECF6\", \"gridcolor\": \"white\", \"gridwidth\": 2, \"linecolor\": \"white\", \"showbackground\": true, \"ticks\": \"\", \"zerolinecolor\": \"white\"}, \"zaxis\": {\"backgroundcolor\": \"#E5ECF6\", \"gridcolor\": \"white\", \"gridwidth\": 2, \"linecolor\": \"white\", \"showbackground\": true, \"ticks\": \"\", \"zerolinecolor\": \"white\"}}, \"shapedefaults\": {\"line\": {\"color\": \"#2a3f5f\"}}, \"ternary\": {\"aaxis\": {\"gridcolor\": \"white\", \"linecolor\": \"white\", \"ticks\": \"\"}, \"baxis\": {\"gridcolor\": \"white\", \"linecolor\": \"white\", \"ticks\": \"\"}, \"bgcolor\": \"#E5ECF6\", \"caxis\": {\"gridcolor\": \"white\", \"linecolor\": \"white\", \"ticks\": \"\"}}, \"title\": {\"x\": 0.05}, \"xaxis\": {\"automargin\": true, \"gridcolor\": \"white\", \"linecolor\": \"white\", \"ticks\": \"\", \"title\": {\"standoff\": 15}, \"zerolinecolor\": \"white\", \"zerolinewidth\": 2}, \"yaxis\": {\"automargin\": true, \"gridcolor\": \"white\", \"linecolor\": \"white\", \"ticks\": \"\", \"title\": {\"standoff\": 15}, \"zerolinecolor\": \"white\", \"zerolinewidth\": 2}}}, \"title\": {\"text\": \"NASDAQ Market Capitalization Sectorwise in Last Three IPO Year (million USD)\"}, \"xaxis\": {\"title\": {\"text\": \"Sectors\"}}, \"yaxis\": {\"title\": {\"text\": \"Market Capital(In Millions USD)\"}}},\n",
              "                        {\"responsive\": true}\n",
              "                    ).then(function(){\n",
              "                            \n",
              "var gd = document.getElementById('4ad945b1-3e5c-43f3-949e-e72af94408c4');\n",
              "var x = new MutationObserver(function (mutations, observer) {{\n",
              "        var display = window.getComputedStyle(gd).display;\n",
              "        if (!display || display === 'none') {{\n",
              "            console.log([gd, 'removed!']);\n",
              "            Plotly.purge(gd);\n",
              "            observer.disconnect();\n",
              "        }}\n",
              "}});\n",
              "\n",
              "// Listen for the removal of the full notebook cells\n",
              "var notebookContainer = gd.closest('#notebook-container');\n",
              "if (notebookContainer) {{\n",
              "    x.observe(notebookContainer, {childList: true});\n",
              "}}\n",
              "\n",
              "// Listen for the clearing of the current output cell\n",
              "var outputEl = gd.closest('.output');\n",
              "if (outputEl) {{\n",
              "    x.observe(outputEl, {childList: true});\n",
              "}}\n",
              "\n",
              "                        })\n",
              "                };\n",
              "                \n",
              "            </script>\n",
              "        </div>\n",
              "</body>\n",
              "</html>"
            ]
          },
          "metadata": {
            "tags": []
          }
        }
      ]
    },
    {
      "cell_type": "code",
      "metadata": {
        "id": "c6DYM7QALEPz"
      },
      "source": [
        "# Active companies only\n",
        "nasdaq = nasdaq[nasdaq.market_cap_m > 0]\n",
        "\n",
        "#Outlier threshold\n",
        "outliers = nasdaq.market_cap_m.quantile(.9)\n",
        "\n",
        "# Removing Outliers\n",
        "nasdaq = nasdaq[nasdaq.market_cap_m < outliers]\n"
      ],
      "execution_count": null,
      "outputs": []
    },
    {
      "cell_type": "code",
      "metadata": {
        "colab": {
          "base_uri": "https://localhost:8080/",
          "height": 542
        },
        "id": "QMQ4OWmULEJs",
        "outputId": "06dcfed3-4865-4145-9a32-2a448bca4ee8"
      },
      "source": [
        "traces=[]\n",
        "traces.append(go.Box(\n",
        "            y=nasdaq['market_cap_m'],\n",
        "            x=nasdaq['Sector'],\n",
        "            notched=True, # used notched shape\n",
        "            boxpoints='all',\n",
        "            jitter=0.5,\n",
        "            whiskerwidth=0.2,\n",
        "            marker_color='rgb(7,40,89)',\n",
        "    line_color='rgb(7,40,89)',\n",
        "    marker=dict(\n",
        "        color='rgb(8,81,156)',\n",
        "        outliercolor='rgba(219, 64, 82, 0.6)',\n",
        "        line=dict(\n",
        "            outliercolor='rgba(219, 64, 82, 0.6)',\n",
        "            outlierwidth=2))\n",
        "    \n",
        "        ))\n",
        "layout = go.Layout(\n",
        "    title='Boxplot Showing Quartiles and Outliers in Different Sectors',\n",
        "    yaxis=dict(\n",
        "        range=[0,10.50],\n",
        "        autorange=True,\n",
        "        showgrid=True,\n",
        "        zeroline=True,\n",
        "        dtick=5,\n",
        "        gridcolor='rgb(255, 255, 255)',\n",
        "        gridwidth=1,\n",
        "        zerolinecolor='rgb(255, 255, 255)',\n",
        "        zerolinewidth=2,\n",
        "    ),\n",
        "    margin=dict(\n",
        "        l=40,\n",
        "        r=30,\n",
        "        b=80,\n",
        "        t=100,\n",
        "    ),\n",
        "    paper_bgcolor='rgb(243, 243, 243)',\n",
        "    plot_bgcolor='rgb(243, 243, 243)',\n",
        "    showlegend=False\n",
        ")\n",
        "fig = go.Figure(data=traces, layout=layout)\n",
        "fig.show(renderer=\"colab\")\n",
        "# issue with y axis here why the scale is not showing here\n",
        "#issue is reported on https://github.com/plotly/plotly.py/issues/3264"
      ],
      "execution_count": null,
      "outputs": [
        {
          "output_type": "display_data",
          "data": {
            "text/html": [
              "<html>\n",
              "<head><meta charset=\"utf-8\" /></head>\n",
              "<body>\n",
              "    <div>\n",
              "            <script src=\"https://cdnjs.cloudflare.com/ajax/libs/mathjax/2.7.5/MathJax.js?config=TeX-AMS-MML_SVG\"></script><script type=\"text/javascript\">if (window.MathJax) {MathJax.Hub.Config({SVG: {font: \"STIX-Web\"}});}</script>\n",
              "                <script type=\"text/javascript\">window.PlotlyConfig = {MathJaxConfig: 'local'};</script>\n",
              "        <script src=\"https://cdn.plot.ly/plotly-latest.min.js\"></script>    \n",
              "            <div id=\"68f88fb4-1a34-41ee-a37e-e5d5dd04ac8d\" class=\"plotly-graph-div\" style=\"height:525px; width:100%;\"></div>\n",
              "            <script type=\"text/javascript\">\n",
              "                \n",
              "                    window.PLOTLYENV=window.PLOTLYENV || {};\n",
              "                    \n",
              "                if (document.getElementById(\"68f88fb4-1a34-41ee-a37e-e5d5dd04ac8d\")) {\n",
              "                    Plotly.newPlot(\n",
              "                        '68f88fb4-1a34-41ee-a37e-e5d5dd04ac8d',\n",
              "                        [{\"boxpoints\": \"all\", \"jitter\": 0.5, \"line\": {\"color\": \"rgb(7,40,89)\"}, \"marker\": {\"color\": \"rgb(7,40,89)\", \"line\": {\"outliercolor\": \"rgba(219, 64, 82, 0.6)\", \"outlierwidth\": 2}, \"outliercolor\": \"rgba(219, 64, 82, 0.6)\"}, \"notched\": true, \"type\": \"box\", \"whiskerwidth\": 0.2, \"x\": [\"Consumer Non-Durables\", \"Technology\", \"Consumer Services\", \"Finance\", \"Technology\", \"Energy\", \"Consumer Services\", \"Health Care\", \"Technology\", null, \"Finance\", \"Health Care\", \"Consumer Services\", \"Finance\", \"Consumer Non-Durables\", \"Consumer Services\", \"Finance\", \"Finance\", \"Capital Goods\", \"Consumer Non-Durables\", null, \"Consumer Services\", \"Health Care\", \"Health Care\", \"Finance\", \"Transportation\", \"Finance\", \"Technology\", \"Technology\", \"Health Care\", \"Basic Industries\", \"Finance\", \"Consumer Durables\", \"Finance\", \"Finance\", \"Technology\", \"Health Care\", \"Capital Goods\", \"Capital Goods\", \"Technology\", \"Transportation\", \"Consumer Non-Durables\", null, \"Finance\", \"Technology\", \"Finance\", \"Consumer Durables\", \"Consumer Services\", \"Technology\", \"Technology\", \"Technology\", \"Finance\", \"Technology\", \"Finance\", \"Consumer Services\", \"Consumer Services\", null, \"Finance\", \"Health Care\", \"Technology\", \"Technology\", \"Consumer Non-Durables\", \"Consumer Durables\", \"Consumer Services\", \"Finance\", \"Consumer Services\", \"Health Care\", \"Consumer Services\", \"Technology\", \"Consumer Services\", \"Capital Goods\", \"Finance\", \"Health Care\", \"Technology\", \"Energy\", \"Finance\", \"Finance\", \"Technology\", null, \"Finance\", \"Health Care\", \"Consumer Services\", \"Technology\", \"Finance\", \"Consumer Services\", \"Technology\", \"Health Care\", \"Consumer Services\", \"Basic Industries\", \"Health Care\", \"Technology\", \"Technology\", \"Technology\", \"Miscellaneous\", \"Finance\", \"Health Care\", \"Energy\", \"Consumer Services\", \"Health Care\", \"Consumer Durables\", \"Technology\", \"Miscellaneous\", \"Capital Goods\", \"Health Care\", \"Finance\", \"Finance\", \"Finance\", \"Consumer Services\", \"Technology\", \"Health Care\", \"Consumer Services\", \"Consumer Services\", \"Consumer Services\", \"Technology\", \"Transportation\", \"Consumer Services\", \"Health Care\", \"Miscellaneous\", \"Capital Goods\", \"Health Care\", \"Consumer Services\", \"Health Care\", \"Transportation\", \"Health Care\", \"Consumer Services\", \"Finance\", \"Health Care\", \"Health Care\", \"Consumer Non-Durables\", \"Technology\", \"Consumer Services\", \"Technology\", \"Technology\", \"Finance\", \"Consumer Services\", \"Finance\", null, \"Consumer Non-Durables\", \"Consumer Durables\", \"Finance\", \"Health Care\", \"Finance\", \"Technology\", \"Technology\", \"Technology\", \"Basic Industries\", \"Finance\", \"Health Care\", \"Health Care\", \"Consumer Services\", \"Consumer Services\", \"Consumer Services\", \"Technology\", \"Capital Goods\", \"Health Care\", \"Consumer Services\", \"Consumer Services\", \"Health Care\", \"Consumer Services\", \"Consumer Services\", \"Health Care\", \"Technology\", \"Finance\", \"Capital Goods\", \"Public Utilities\", \"Finance\", \"Health Care\", \"Health Care\", \"Energy\", \"Technology\", \"Finance\", \"Energy\", \"Technology\", \"Technology\", \"Miscellaneous\", \"Finance\", \"Health Care\", \"Finance\", \"Capital Goods\", null, \"Consumer Non-Durables\", \"Technology\", \"Finance\", \"Finance\", \"Finance\", \"Finance\", \"Health Care\", \"Technology\", \"Consumer Services\", \"Technology\", \"Consumer Non-Durables\", \"Capital Goods\", \"Technology\", \"Technology\", \"Finance\", \"Technology\", \"Technology\", null, \"Finance\", \"Public Utilities\", null, \"Miscellaneous\", \"Technology\", \"Consumer Non-Durables\", \"Consumer Services\", \"Technology\", \"Consumer Services\", \"Health Care\", \"Health Care\", \"Consumer Services\", \"Technology\", \"Finance\", \"Technology\", \"Capital Goods\", \"Miscellaneous\", \"Health Care\", \"Consumer Services\", \"Consumer Durables\", \"Technology\", \"Finance\", \"Basic Industries\", \"Consumer Services\", \"Miscellaneous\", null, \"Technology\", \"Consumer Services\", \"Consumer Services\", \"Consumer Non-Durables\", \"Consumer Services\", \"Technology\", \"Finance\", \"Consumer Non-Durables\", null, \"Consumer Services\", \"Consumer Durables\", null, \"Technology\", \"Public Utilities\", \"Consumer Durables\", \"Technology\", \"Health Care\", \"Capital Goods\", \"Energy\", \"Finance\", \"Consumer Services\", \"Technology\", \"Finance\", \"Technology\", \"Capital Goods\", \"Miscellaneous\", \"Finance\", \"Consumer Durables\", \"Technology\", \"Technology\", \"Finance\", \"Technology\", \"Public Utilities\", \"Finance\", \"Transportation\", \"Consumer Durables\", \"Finance\", \"Energy\", \"Health Care\", \"Finance\", null, null, \"Transportation\", \"Consumer Services\", \"Capital Goods\", \"Technology\", \"Technology\", \"Health Care\", \"Technology\", \"Energy\", \"Consumer Services\", \"Finance\", \"Consumer Services\", \"Health Care\", \"Consumer Services\", \"Finance\", \"Consumer Services\", \"Finance\", \"Health Care\", \"Finance\", \"Miscellaneous\", \"Capital Goods\", \"Miscellaneous\", \"Health Care\", \"Technology\", \"Public Utilities\", \"Energy\", \"Health Care\", \"Finance\", \"Finance\", \"Finance\", \"Consumer Services\", \"Finance\", \"Health Care\", \"Finance\", null, \"Transportation\", \"Technology\", \"Finance\", null, \"Health Care\", \"Health Care\", \"Transportation\", \"Finance\", \"Technology\", null, \"Health Care\", \"Technology\", \"Consumer Services\", \"Consumer Services\", \"Health Care\", \"Health Care\", \"Miscellaneous\", \"Finance\", \"Technology\", null, \"Finance\", \"Consumer Services\", \"Health Care\", \"Health Care\", \"Finance\", \"Finance\", \"Public Utilities\", \"Consumer Services\", \"Basic Industries\", \"Technology\", \"Public Utilities\", \"Finance\", \"Finance\", \"Technology\", \"Capital Goods\", \"Technology\", \"Consumer Services\", \"Capital Goods\", \"Technology\", \"Consumer Services\", null, \"Health Care\", \"Basic Industries\", \"Technology\", \"Technology\", \"Health Care\", null, \"Technology\", \"Consumer Non-Durables\", \"Health Care\", \"Finance\", \"Transportation\", \"Technology\", \"Technology\", \"Consumer Services\", \"Consumer Services\", \"Basic Industries\", \"Finance\", \"Consumer Services\", \"Public Utilities\", \"Capital Goods\", \"Finance\", \"Technology\", \"Technology\", \"Finance\", null, \"Miscellaneous\", \"Transportation\", \"Capital Goods\", \"Public Utilities\", null, \"Technology\", \"Consumer Services\", \"Transportation\", \"Health Care\", \"Technology\", \"Technology\", \"Basic Industries\", \"Health Care\", \"Consumer Durables\", \"Finance\", \"Consumer Non-Durables\", \"Consumer Services\", \"Technology\", null, \"Finance\", \"Public Utilities\", \"Health Care\", \"Capital Goods\", null, \"Technology\", \"Capital Goods\", \"Health Care\", \"Technology\", \"Health Care\", \"Health Care\", \"Capital Goods\", \"Consumer Services\", \"Technology\", \"Capital Goods\", \"Health Care\", \"Health Care\", \"Finance\", \"Miscellaneous\", \"Finance\", null, \"Technology\", \"Technology\", \"Consumer Durables\", \"Finance\", \"Capital Goods\", \"Finance\", \"Public Utilities\", \"Miscellaneous\", \"Health Care\", \"Capital Goods\", \"Consumer Durables\", \"Health Care\", \"Miscellaneous\", \"Health Care\", null, \"Finance\", \"Consumer Non-Durables\", \"Consumer Services\", \"Technology\", \"Basic Industries\", \"Finance\", \"Capital Goods\", \"Health Care\", \"Consumer Services\", \"Technology\", \"Health Care\", \"Capital Goods\", \"Finance\", \"Health Care\", \"Technology\", \"Capital Goods\", \"Public Utilities\", \"Finance\", \"Finance\", \"Consumer Non-Durables\", \"Technology\", \"Technology\", \"Technology\", \"Health Care\", \"Consumer Durables\", \"Health Care\", \"Consumer Services\", \"Finance\", \"Technology\", \"Health Care\", null, \"Technology\", \"Consumer Non-Durables\", \"Technology\", \"Finance\", \"Consumer Services\", \"Capital Goods\", \"Public Utilities\", \"Finance\", \"Health Care\", null, null, \"Transportation\", \"Health Care\", \"Consumer Services\", \"Finance\", \"Finance\", \"Capital Goods\", \"Health Care\", \"Health Care\", \"Finance\", null, \"Consumer Services\", \"Basic Industries\", \"Finance\", \"Public Utilities\", \"Consumer Durables\", \"Finance\", \"Capital Goods\", \"Capital Goods\", \"Health Care\", \"Basic Industries\", \"Health Care\", null, \"Technology\", \"Technology\", \"Consumer Non-Durables\", \"Health Care\", \"Consumer Services\", \"Technology\", \"Health Care\", \"Capital Goods\", \"Health Care\", \"Public Utilities\", \"Consumer Services\", null, \"Consumer Services\", \"Consumer Durables\", null, \"Health Care\", \"Health Care\", \"Transportation\", \"Finance\", \"Technology\", \"Public Utilities\", \"Consumer Non-Durables\", \"Finance\", \"Finance\", null, \"Finance\", null, \"Health Care\", \"Health Care\", \"Health Care\", \"Energy\", \"Energy\", \"Finance\", \"Consumer Services\", \"Health Care\", \"Technology\", \"Finance\", \"Health Care\", \"Finance\", null, \"Capital Goods\", \"Basic Industries\", \"Consumer Services\", \"Public Utilities\", \"Health Care\", \"Finance\", \"Finance\", \"Miscellaneous\", \"Capital Goods\", null, \"Technology\", \"Finance\", \"Technology\", \"Consumer Services\", \"Technology\", \"Miscellaneous\", null, \"Capital Goods\", \"Health Care\", \"Capital Goods\", \"Technology\", null, \"Health Care\", \"Capital Goods\", \"Consumer Services\", \"Technology\", \"Consumer Durables\", \"Health Care\", \"Health Care\", \"Health Care\", \"Basic Industries\", null, \"Health Care\", \"Basic Industries\", \"Finance\", \"Finance\", \"Finance\", \"Consumer Services\", \"Consumer Non-Durables\", \"Technology\", \"Technology\", \"Consumer Services\", \"Health Care\", \"Health Care\", \"Finance\", \"Technology\", null, \"Consumer Services\", \"Technology\", \"Finance\", \"Finance\", \"Health Care\", \"Finance\", \"Technology\", \"Technology\", \"Technology\", \"Finance\", \"Technology\", null, \"Public Utilities\", \"Consumer Services\", \"Finance\", \"Health Care\", \"Finance\", \"Health Care\", \"Technology\", null, \"Consumer Non-Durables\", \"Consumer Non-Durables\", \"Health Care\", \"Technology\", \"Technology\", null, \"Health Care\", \"Health Care\", \"Finance\", \"Health Care\", \"Health Care\", \"Consumer Services\", \"Finance\", \"Consumer Durables\", \"Health Care\", \"Capital Goods\", \"Consumer Services\", \"Miscellaneous\", null, \"Technology\", \"Finance\", \"Technology\", \"Technology\", \"Health Care\", \"Finance\", \"Health Care\", \"Consumer Services\", \"Capital Goods\", \"Technology\", \"Health Care\", \"Health Care\", null, null, \"Finance\", \"Technology\", null, \"Finance\", \"Technology\", \"Consumer Services\", \"Finance\", \"Technology\", \"Consumer Services\", \"Transportation\", \"Finance\", null, \"Consumer Services\", \"Health Care\", null, \"Health Care\", \"Finance\", \"Consumer Services\", \"Miscellaneous\", \"Consumer Services\", \"Basic Industries\", \"Basic Industries\", \"Health Care\", \"Finance\", \"Energy\", \"Energy\", \"Finance\", \"Technology\", \"Transportation\", \"Technology\", \"Finance\", \"Consumer Services\", \"Consumer Services\", \"Health Care\", \"Consumer Services\", null, \"Finance\", \"Health Care\", \"Technology\", \"Health Care\", \"Finance\", \"Finance\", \"Finance\", \"Technology\", \"Finance\", \"Finance\", \"Finance\", \"Capital Goods\", \"Technology\", \"Finance\", \"Energy\", \"Health Care\", \"Consumer Non-Durables\", \"Technology\", \"Consumer Services\", \"Health Care\", \"Health Care\", \"Public Utilities\", \"Finance\", \"Health Care\", \"Miscellaneous\", null, null, \"Capital Goods\", \"Technology\", null, \"Health Care\", \"Finance\", \"Consumer Services\", \"Health Care\", null, \"Miscellaneous\", \"Finance\", \"Finance\", \"Consumer Services\", null, \"Health Care\", \"Finance\", \"Health Care\", \"Consumer Services\", \"Health Care\", \"Technology\", \"Finance\", null, \"Health Care\", \"Basic Industries\", \"Technology\", \"Energy\", \"Finance\", \"Capital Goods\", \"Capital Goods\", \"Finance\", null, \"Health Care\", \"Capital Goods\", \"Consumer Services\", \"Finance\", \"Finance\", \"Technology\", \"Technology\", \"Capital Goods\", \"Basic Industries\", \"Health Care\", \"Finance\", \"Health Care\", \"Capital Goods\", \"Technology\", \"Finance\", \"Finance\", \"Consumer Services\", \"Consumer Services\", \"Health Care\", \"Health Care\", \"Health Care\", \"Health Care\", \"Consumer Durables\", \"Transportation\", \"Finance\", \"Capital Goods\", \"Health Care\", \"Consumer Services\", \"Finance\", \"Health Care\", \"Finance\", \"Capital Goods\", null, null, \"Public Utilities\", \"Health Care\", \"Capital Goods\", null, \"Consumer Non-Durables\", \"Technology\", \"Finance\", \"Finance\", \"Public Utilities\", \"Finance\", \"Consumer Services\", \"Technology\", null, \"Health Care\", \"Miscellaneous\", \"Consumer Services\", \"Health Care\", \"Consumer Services\", \"Health Care\", \"Public Utilities\", \"Consumer Services\", \"Consumer Services\", \"Health Care\", \"Health Care\", \"Finance\", \"Finance\", null, \"Finance\", \"Consumer Services\", \"Public Utilities\", \"Consumer Services\", \"Finance\", null, \"Health Care\", \"Consumer Services\", \"Health Care\", \"Technology\", \"Consumer Services\", \"Technology\", \"Health Care\", \"Finance\", \"Health Care\", \"Consumer Services\", \"Health Care\", null, \"Technology\", \"Finance\", \"Health Care\", \"Consumer Services\", \"Finance\", \"Technology\", \"Capital Goods\", \"Health Care\", null, \"Basic Industries\", \"Finance\", \"Transportation\", \"Finance\", \"Finance\", \"Basic Industries\", \"Technology\", \"Capital Goods\", \"Consumer Durables\", \"Transportation\", \"Consumer Services\", \"Technology\", \"Health Care\", \"Finance\", null, \"Finance\", \"Health Care\", \"Consumer Services\", \"Capital Goods\", \"Capital Goods\", \"Health Care\", \"Consumer Services\", \"Technology\", \"Finance\", \"Capital Goods\", null, \"Finance\", \"Health Care\", \"Health Care\", \"Finance\", \"Consumer Services\", \"Health Care\", \"Finance\", \"Finance\", \"Technology\", \"Energy\", \"Consumer Services\", \"Health Care\", \"Consumer Services\", \"Technology\", \"Consumer Services\", \"Finance\", \"Capital Goods\", \"Health Care\", \"Consumer Services\", \"Technology\", \"Finance\", \"Energy\", null, \"Finance\", \"Health Care\", \"Health Care\", \"Health Care\", \"Health Care\", \"Capital Goods\", \"Health Care\", \"Health Care\", \"Consumer Services\", \"Consumer Services\", \"Finance\", \"Health Care\", \"Health Care\", null, \"Capital Goods\", \"Consumer Durables\", \"Consumer Services\", \"Technology\", \"Capital Goods\", \"Capital Goods\", null, null, \"Health Care\", \"Finance\", \"Finance\", \"Consumer Services\", \"Consumer Durables\", \"Technology\", \"Technology\", \"Capital Goods\", \"Technology\", null, \"Health Care\", null, null, \"Technology\", \"Consumer Services\", \"Health Care\", \"Public Utilities\", \"Finance\", \"Finance\", null, \"Finance\", \"Health Care\", \"Finance\", \"Finance\", \"Capital Goods\", null, \"Finance\", \"Finance\", \"Consumer Durables\", \"Consumer Services\", \"Health Care\", \"Consumer Services\", \"Finance\", \"Finance\", \"Consumer Services\", \"Consumer Services\", \"Capital Goods\", \"Health Care\", \"Health Care\", \"Consumer Services\", \"Capital Goods\", \"Energy\", \"Finance\", \"Consumer Non-Durables\", \"Finance\", \"Finance\", \"Technology\", \"Health Care\", \"Health Care\", \"Health Care\", \"Public Utilities\", \"Health Care\", \"Finance\", \"Health Care\", \"Technology\", \"Technology\", \"Basic Industries\", null, \"Health Care\", \"Technology\", \"Basic Industries\", \"Finance\", \"Finance\", \"Technology\", \"Consumer Services\", \"Finance\", \"Finance\", \"Technology\", \"Finance\", \"Health Care\", \"Consumer Services\", null, \"Health Care\", \"Public Utilities\", \"Finance\", \"Health Care\", \"Consumer Services\", \"Technology\", \"Consumer Services\", \"Health Care\", \"Public Utilities\", \"Health Care\", \"Consumer Services\", \"Consumer Services\", \"Technology\", \"Consumer Non-Durables\", \"Health Care\", \"Finance\", null, \"Transportation\", \"Health Care\", \"Finance\", \"Consumer Services\", \"Health Care\", \"Capital Goods\", \"Health Care\", \"Consumer Services\", \"Health Care\", \"Finance\", \"Finance\", \"Consumer Services\", \"Health Care\", \"Technology\", \"Finance\", \"Finance\", \"Finance\", \"Miscellaneous\", \"Consumer Durables\", null, \"Technology\", \"Finance\", null, \"Health Care\", \"Consumer Durables\", \"Consumer Services\", \"Finance\", \"Finance\", \"Technology\", \"Capital Goods\", \"Capital Goods\", \"Public Utilities\", \"Health Care\", \"Consumer Services\", \"Health Care\", \"Transportation\", \"Health Care\", \"Health Care\", \"Technology\", \"Consumer Services\", null, \"Finance\", null, \"Finance\", \"Finance\", \"Consumer Services\", \"Basic Industries\", \"Health Care\", null, \"Technology\", \"Health Care\", \"Health Care\", \"Finance\", null, \"Health Care\", null, \"Consumer Services\", \"Consumer Services\", \"Basic Industries\", \"Finance\", \"Consumer Non-Durables\", \"Health Care\", \"Health Care\", \"Finance\", \"Consumer Services\", \"Health Care\", \"Public Utilities\", \"Consumer Services\", \"Consumer Durables\", \"Capital Goods\", null, \"Finance\", \"Capital Goods\", \"Capital Goods\", \"Finance\", null, \"Health Care\", \"Health Care\", null, \"Technology\", \"Finance\", \"Capital Goods\", \"Consumer Non-Durables\", \"Finance\", \"Finance\", \"Technology\", \"Health Care\", \"Health Care\", \"Consumer Non-Durables\", \"Health Care\", \"Finance\", \"Finance\", \"Technology\", \"Health Care\", \"Finance\", \"Finance\", \"Health Care\", \"Health Care\", \"Finance\", \"Consumer Services\", \"Technology\", \"Finance\", \"Consumer Durables\", \"Finance\", \"Health Care\", \"Health Care\", \"Finance\", \"Finance\", \"Consumer Services\", \"Finance\", \"Health Care\", \"Consumer Services\", \"Consumer Services\", \"Health Care\", \"Consumer Non-Durables\", null, \"Health Care\", \"Health Care\", \"Health Care\", \"Transportation\", \"Basic Industries\", \"Transportation\", \"Health Care\", \"Consumer Services\", \"Technology\", \"Technology\", null, \"Health Care\", \"Health Care\", \"Consumer Non-Durables\", \"Health Care\", \"Consumer Non-Durables\", \"Public Utilities\", \"Basic Industries\", \"Capital Goods\", \"Finance\", \"Consumer Non-Durables\", \"Health Care\", \"Technology\", \"Consumer Services\", null, \"Public Utilities\", \"Finance\", \"Energy\", \"Consumer Services\", \"Finance\", \"Finance\", \"Consumer Services\", \"Energy\", \"Energy\", \"Transportation\", \"Technology\", \"Health Care\", \"Consumer Durables\", \"Consumer Services\", \"Health Care\", \"Health Care\", \"Technology\", \"Miscellaneous\", \"Consumer Non-Durables\", null, null, \"Consumer Services\", \"Public Utilities\", null, \"Consumer Non-Durables\", \"Health Care\", \"Technology\", \"Technology\", \"Finance\", null, \"Energy\", \"Energy\", \"Miscellaneous\", \"Health Care\", \"Finance\", \"Finance\", \"Technology\", \"Finance\", \"Technology\", \"Health Care\", \"Finance\", \"Consumer Non-Durables\", \"Basic Industries\", \"Consumer Services\", \"Health Care\", \"Health Care\", \"Finance\", \"Health Care\", \"Finance\", \"Finance\", \"Consumer Durables\", \"Health Care\", \"Technology\", \"Consumer Services\", \"Finance\", \"Health Care\", \"Finance\", \"Finance\", \"Capital Goods\", \"Health Care\", \"Capital Goods\", \"Health Care\", \"Finance\", null, \"Consumer Non-Durables\", \"Technology\", null, null, \"Miscellaneous\", \"Finance\", \"Finance\", \"Health Care\", \"Consumer Services\", \"Consumer Durables\", null, null, \"Technology\", \"Finance\", \"Health Care\", \"Health Care\", \"Technology\", \"Technology\", \"Consumer Non-Durables\", \"Energy\", \"Technology\", \"Finance\", \"Health Care\", \"Health Care\", \"Technology\", \"Health Care\", null, \"Finance\", \"Consumer Services\", \"Finance\", null, \"Finance\", \"Finance\", \"Basic Industries\", \"Consumer Durables\", \"Finance\", \"Technology\", \"Technology\", null, \"Consumer Durables\", null, \"Finance\", \"Capital Goods\", \"Finance\", \"Finance\", \"Health Care\", \"Technology\", \"Consumer Services\", \"Transportation\", \"Miscellaneous\", \"Capital Goods\", \"Consumer Services\", \"Technology\", \"Health Care\", \"Basic Industries\", \"Finance\", \"Finance\", null, \"Consumer Services\", \"Consumer Services\", \"Health Care\", \"Energy\", \"Miscellaneous\", \"Finance\", null, null, \"Finance\", \"Health Care\", \"Consumer Services\", \"Health Care\", \"Energy\", \"Finance\", \"Health Care\", \"Finance\", \"Health Care\", \"Consumer Non-Durables\", \"Finance\", \"Health Care\", \"Finance\", \"Finance\", \"Consumer Durables\", \"Capital Goods\", \"Health Care\", null, \"Miscellaneous\", \"Finance\", \"Technology\", null, \"Health Care\", \"Technology\", \"Health Care\", \"Capital Goods\", \"Consumer Non-Durables\", null, \"Basic Industries\", \"Miscellaneous\", \"Finance\", \"Technology\", null, \"Energy\", null, \"Technology\", \"Miscellaneous\", \"Consumer Durables\", \"Energy\", \"Finance\", \"Technology\", null, \"Miscellaneous\", \"Finance\", null, \"Capital Goods\", \"Consumer Non-Durables\", \"Finance\", \"Health Care\", \"Consumer Durables\", \"Miscellaneous\", \"Miscellaneous\", \"Finance\", \"Health Care\", \"Consumer Non-Durables\", null, \"Technology\", \"Health Care\", \"Technology\", \"Public Utilities\", \"Miscellaneous\", \"Health Care\", null, \"Capital Goods\", \"Finance\", \"Finance\", \"Finance\", \"Finance\", \"Consumer Services\", \"Public Utilities\", \"Health Care\", \"Health Care\", \"Consumer Services\", \"Consumer Services\", \"Technology\", \"Health Care\", \"Finance\", \"Health Care\", \"Public Utilities\", \"Finance\", \"Public Utilities\", \"Consumer Durables\", \"Capital Goods\", null, \"Finance\", \"Health Care\", \"Technology\", \"Finance\", \"Finance\", \"Consumer Services\", \"Technology\", \"Health Care\", \"Finance\", \"Finance\", \"Consumer Services\", \"Consumer Services\", \"Capital Goods\", null, \"Health Care\", \"Health Care\", \"Finance\", \"Technology\", \"Consumer Services\", \"Finance\", \"Finance\", \"Miscellaneous\", \"Health Care\", \"Miscellaneous\", \"Energy\", \"Capital Goods\", \"Health Care\", \"Consumer Durables\", null, \"Basic Industries\", \"Capital Goods\", \"Miscellaneous\", \"Technology\", \"Finance\", \"Health Care\", \"Capital Goods\", null, \"Consumer Services\", \"Health Care\", \"Finance\", \"Health Care\", \"Public Utilities\", \"Consumer Services\", \"Finance\", \"Health Care\", \"Finance\", \"Technology\", \"Health Care\", \"Technology\", \"Technology\", \"Health Care\", null, \"Health Care\", \"Consumer Durables\", \"Health Care\", null, \"Finance\", \"Health Care\", \"Technology\", \"Miscellaneous\", \"Consumer Services\", null, \"Health Care\", \"Finance\", \"Health Care\", \"Finance\", null, \"Technology\", \"Capital Goods\", \"Finance\", \"Health Care\", \"Health Care\", \"Finance\", \"Transportation\", \"Transportation\", \"Finance\", \"Finance\", \"Health Care\", \"Capital Goods\", \"Consumer Non-Durables\", null, null, \"Health Care\", \"Finance\", \"Health Care\", \"Health Care\", \"Miscellaneous\", \"Miscellaneous\", \"Finance\", \"Basic Industries\", \"Capital Goods\", \"Capital Goods\", \"Finance\", \"Health Care\", \"Miscellaneous\", \"Finance\", \"Consumer Durables\", \"Technology\", \"Basic Industries\", \"Health Care\", \"Finance\", \"Consumer Durables\", \"Consumer Services\", \"Basic Industries\", \"Finance\", \"Finance\", \"Miscellaneous\", \"Health Care\", \"Consumer Durables\", \"Finance\", \"Consumer Services\", \"Health Care\", \"Finance\", \"Health Care\", \"Health Care\", \"Finance\", \"Finance\", \"Public Utilities\", null, \"Finance\", \"Technology\", null, \"Health Care\", \"Consumer Services\", \"Health Care\", \"Technology\", null, \"Consumer Durables\", null, \"Finance\", \"Finance\", \"Finance\", \"Public Utilities\", \"Finance\", \"Finance\", \"Health Care\", \"Finance\", \"Consumer Services\", \"Health Care\", \"Finance\", \"Capital Goods\", \"Consumer Services\", \"Finance\", \"Finance\", \"Public Utilities\", \"Technology\", \"Consumer Services\", \"Energy\", \"Finance\", \"Consumer Non-Durables\", \"Finance\", \"Health Care\", \"Finance\", \"Basic Industries\", \"Capital Goods\", \"Health Care\", \"Finance\", null, null, null, \"Technology\", \"Finance\", \"Health Care\", \"Health Care\", \"Finance\", null, \"Technology\", \"Consumer Services\", \"Consumer Durables\", \"Finance\", \"Health Care\", \"Capital Goods\", \"Consumer Non-Durables\", \"Consumer Services\", \"Finance\", \"Finance\", \"Capital Goods\", \"Finance\", \"Technology\", null, \"Finance\", null, \"Capital Goods\", \"Consumer Non-Durables\", \"Finance\", \"Health Care\", \"Finance\", \"Consumer Services\", \"Miscellaneous\", null, \"Capital Goods\", null, \"Health Care\", null, \"Finance\", null, \"Finance\", \"Consumer Durables\", null, \"Finance\", \"Consumer Services\", \"Finance\", \"Consumer Durables\", \"Transportation\", \"Health Care\", \"Health Care\", \"Finance\", \"Health Care\", \"Finance\", \"Technology\", \"Health Care\", \"Technology\", \"Health Care\", null, \"Finance\", null, \"Finance\", null, null, \"Finance\", null, \"Consumer Durables\", null, \"Consumer Services\", \"Technology\", null, \"Health Care\", \"Technology\", \"Health Care\", \"Basic Industries\", null, \"Health Care\", \"Capital Goods\", \"Health Care\", \"Health Care\", \"Technology\", null, \"Finance\", null, \"Finance\", \"Technology\", \"Public Utilities\", \"Finance\", \"Finance\", \"Finance\", \"Capital Goods\", \"Health Care\", \"Technology\", \"Public Utilities\", \"Capital Goods\", \"Finance\", null, null, null, \"Consumer Services\", \"Capital Goods\", \"Finance\", \"Basic Industries\", \"Health Care\", \"Health Care\", \"Health Care\", \"Consumer Services\", \"Health Care\", \"Health Care\", \"Health Care\", \"Finance\", \"Technology\", null, \"Consumer Services\", null, null, \"Consumer Services\", \"Technology\", \"Finance\", \"Basic Industries\", \"Technology\", \"Health Care\", \"Finance\", \"Health Care\", \"Capital Goods\", \"Health Care\", \"Finance\", \"Finance\", \"Technology\", \"Transportation\", \"Basic Industries\", \"Health Care\", \"Consumer Durables\", \"Health Care\", \"Consumer Services\", \"Finance\", \"Basic Industries\", \"Health Care\", \"Miscellaneous\", null, null, \"Technology\", null, null, \"Consumer Services\", \"Consumer Services\", \"Miscellaneous\", null, \"Finance\", \"Capital Goods\", \"Health Care\", \"Public Utilities\", \"Consumer Non-Durables\", \"Technology\", null, \"Technology\", \"Finance\", \"Finance\", null, \"Consumer Non-Durables\", \"Finance\", \"Finance\", null, \"Finance\", null, \"Health Care\", \"Health Care\", \"Finance\", \"Finance\", \"Energy\", \"Finance\", \"Miscellaneous\", \"Health Care\", \"Finance\", \"Finance\", \"Technology\", \"Consumer Non-Durables\", null, \"Finance\", \"Energy\", \"Health Care\", \"Health Care\", null, \"Consumer Services\", \"Finance\", \"Energy\", \"Technology\", \"Health Care\", \"Health Care\", \"Miscellaneous\", \"Public Utilities\", \"Health Care\", \"Technology\", \"Health Care\", \"Technology\", \"Technology\", null, \"Energy\", \"Consumer Non-Durables\", \"Health Care\", \"Finance\", \"Finance\", \"Energy\", \"Health Care\", \"Health Care\", \"Finance\", \"Finance\", \"Health Care\", \"Consumer Non-Durables\", \"Consumer Non-Durables\", \"Finance\", \"Finance\", \"Health Care\", \"Finance\", \"Finance\", \"Health Care\", \"Technology\", \"Capital Goods\", \"Health Care\", \"Energy\", \"Technology\", \"Basic Industries\", \"Health Care\", \"Technology\", \"Health Care\", \"Consumer Non-Durables\", \"Technology\", \"Capital Goods\", \"Health Care\", \"Health Care\", \"Health Care\", \"Finance\", null, null, null, \"Basic Industries\", \"Health Care\", \"Health Care\", \"Health Care\", null, \"Health Care\", null, \"Technology\", \"Energy\", null, \"Finance\", \"Health Care\", null, \"Finance\", \"Health Care\", \"Consumer Non-Durables\", \"Technology\", \"Health Care\", \"Consumer Durables\", \"Finance\", null, \"Technology\", \"Finance\", \"Health Care\", \"Consumer Services\", \"Finance\", \"Consumer Non-Durables\", \"Health Care\", \"Health Care\", \"Transportation\", null, \"Health Care\", \"Health Care\", null, \"Capital Goods\", null, \"Health Care\", \"Finance\", \"Health Care\", null, \"Finance\", \"Health Care\", \"Health Care\", \"Health Care\", null, \"Health Care\", \"Energy\", \"Finance\", \"Consumer Durables\", \"Technology\", \"Basic Industries\", \"Miscellaneous\", \"Technology\", \"Health Care\", null, \"Finance\", \"Consumer Durables\", \"Capital Goods\", null, \"Consumer Services\", \"Finance\", \"Technology\", \"Consumer Services\", \"Finance\", \"Technology\", \"Miscellaneous\", \"Finance\", \"Finance\", null, \"Consumer Services\", \"Technology\", \"Health Care\", \"Finance\", \"Technology\", \"Technology\", \"Consumer Durables\", \"Public Utilities\", \"Health Care\", \"Capital Goods\", \"Capital Goods\", \"Consumer Services\", \"Health Care\", \"Technology\", \"Finance\", \"Basic Industries\", \"Health Care\", \"Capital Goods\", \"Finance\", \"Finance\", \"Consumer Non-Durables\", null, \"Transportation\", \"Miscellaneous\", \"Miscellaneous\", \"Finance\", \"Finance\", \"Basic Industries\", \"Capital Goods\", \"Finance\", \"Basic Industries\", \"Consumer Services\", \"Capital Goods\", \"Capital Goods\", \"Basic Industries\", \"Consumer Non-Durables\", \"Consumer Services\", \"Finance\", \"Consumer Services\", \"Technology\", null, \"Energy\", \"Finance\", \"Health Care\", null, \"Consumer Services\", \"Technology\", \"Technology\", \"Basic Industries\", \"Finance\", \"Finance\", \"Finance\", \"Health Care\", \"Health Care\", \"Finance\", \"Health Care\", \"Health Care\", \"Technology\", null, \"Technology\", \"Consumer Non-Durables\", \"Health Care\", \"Technology\", \"Energy\", \"Consumer Non-Durables\", \"Consumer Non-Durables\", \"Capital Goods\", \"Technology\", \"Technology\", \"Health Care\", \"Energy\", \"Capital Goods\", \"Finance\", \"Finance\", \"Finance\", \"Health Care\", \"Consumer Services\", \"Finance\", \"Technology\", \"Finance\", \"Health Care\", \"Health Care\", \"Capital Goods\", \"Health Care\", \"Consumer Non-Durables\", \"Finance\", \"Health Care\", \"Miscellaneous\", \"Health Care\", null, \"Finance\", \"Health Care\", \"Consumer Durables\", \"Basic Industries\", \"Health Care\", \"Transportation\", \"Consumer Services\", \"Finance\", \"Technology\", \"Consumer Services\", \"Finance\", \"Capital Goods\", \"Health Care\", \"Health Care\", \"Health Care\", null, \"Consumer Non-Durables\", \"Health Care\", \"Energy\", \"Finance\", \"Health Care\", \"Finance\", \"Health Care\", \"Miscellaneous\", \"Technology\", \"Health Care\", \"Technology\", \"Health Care\", \"Capital Goods\", \"Technology\", \"Finance\", \"Health Care\", \"Finance\", \"Finance\", \"Health Care\", \"Finance\", \"Consumer Services\", \"Health Care\", \"Health Care\", \"Health Care\", \"Health Care\", null, \"Finance\", \"Health Care\", \"Energy\", \"Technology\", \"Consumer Non-Durables\", \"Finance\", \"Consumer Services\", \"Technology\", \"Health Care\", \"Consumer Services\", \"Health Care\", \"Health Care\", \"Consumer Non-Durables\", \"Health Care\", \"Health Care\", \"Capital Goods\", \"Health Care\", \"Finance\", \"Health Care\", \"Technology\", null, \"Health Care\", \"Consumer Services\", \"Finance\", \"Health Care\", \"Finance\", \"Energy\", \"Health Care\", \"Miscellaneous\", \"Consumer Durables\", \"Health Care\", \"Health Care\", \"Consumer Services\", null, \"Capital Goods\", \"Finance\", \"Technology\", \"Finance\", null, \"Finance\", \"Miscellaneous\", \"Capital Goods\", \"Finance\", \"Consumer Services\", \"Technology\", null, \"Consumer Durables\", \"Finance\", \"Health Care\", \"Finance\", \"Technology\", \"Technology\", \"Capital Goods\", \"Health Care\", \"Health Care\", \"Basic Industries\", \"Health Care\", null, \"Capital Goods\", \"Health Care\", \"Health Care\", null, \"Health Care\", \"Technology\", \"Technology\", \"Finance\", null, \"Health Care\", null, \"Capital Goods\", \"Consumer Durables\", \"Technology\", \"Basic Industries\", \"Health Care\", \"Finance\", \"Capital Goods\", \"Consumer Durables\", \"Technology\", \"Consumer Non-Durables\", \"Technology\", null, \"Finance\", \"Finance\", null, null, \"Transportation\", \"Technology\", \"Health Care\", null, \"Basic Industries\", \"Finance\", \"Consumer Services\", \"Finance\", \"Consumer Services\", \"Technology\", null, null, \"Health Care\", \"Energy\", \"Consumer Services\", \"Health Care\", \"Finance\", \"Miscellaneous\", \"Finance\", \"Energy\", \"Health Care\", \"Finance\", \"Transportation\", null, \"Technology\", \"Finance\", \"Consumer Services\", \"Consumer Durables\", null, null, \"Finance\", \"Consumer Services\", \"Finance\", \"Finance\", \"Health Care\", \"Health Care\", null, \"Technology\", \"Miscellaneous\", null, \"Finance\", \"Health Care\", \"Health Care\", \"Finance\", \"Consumer Non-Durables\", \"Health Care\", \"Finance\", \"Finance\", null, \"Finance\", \"Technology\", \"Consumer Services\", \"Capital Goods\", \"Basic Industries\", null, \"Finance\", null, \"Health Care\", \"Health Care\", \"Health Care\", \"Capital Goods\", \"Consumer Services\", \"Consumer Non-Durables\", \"Finance\", \"Finance\", \"Technology\", null, null, \"Consumer Non-Durables\", \"Technology\", \"Miscellaneous\", \"Consumer Durables\", \"Consumer Services\", \"Basic Industries\", \"Health Care\", \"Capital Goods\", \"Technology\", \"Finance\", \"Consumer Services\", \"Finance\", \"Consumer Durables\", \"Consumer Services\", \"Finance\", \"Technology\", \"Consumer Durables\", \"Finance\", \"Consumer Services\", \"Health Care\", \"Health Care\", \"Health Care\", \"Health Care\", \"Consumer Durables\", \"Consumer Durables\", \"Public Utilities\", \"Finance\", null, null, \"Finance\", \"Basic Industries\", null, \"Capital Goods\", \"Health Care\", \"Health Care\", \"Technology\", \"Miscellaneous\", \"Technology\", \"Technology\", \"Finance\", \"Consumer Services\", \"Health Care\", \"Consumer Services\", null, \"Finance\", \"Health Care\", \"Transportation\", null, \"Health Care\", \"Consumer Non-Durables\", \"Health Care\", null, null, \"Technology\", \"Health Care\", \"Consumer Non-Durables\", \"Health Care\", \"Energy\", \"Health Care\", \"Health Care\", \"Health Care\", \"Miscellaneous\", \"Capital Goods\", \"Consumer Services\", null, \"Energy\", \"Technology\", \"Public Utilities\", \"Health Care\", \"Health Care\", null, \"Health Care\", \"Consumer Services\", \"Technology\", \"Finance\", \"Consumer Services\", \"Health Care\", \"Technology\", null, \"Consumer Services\", \"Technology\", \"Technology\", \"Consumer Services\", \"Consumer Durables\", \"Finance\", null, \"Technology\", \"Basic Industries\", \"Health Care\", null, \"Miscellaneous\", \"Finance\", \"Health Care\", \"Finance\", \"Basic Industries\", \"Finance\", \"Health Care\", \"Energy\", \"Health Care\", \"Transportation\", \"Health Care\", \"Health Care\", \"Capital Goods\", \"Health Care\", \"Consumer Durables\", \"Health Care\", \"Miscellaneous\", \"Technology\", null, \"Finance\", \"Public Utilities\", \"Consumer Durables\", \"Basic Industries\", \"Technology\", \"Consumer Durables\", \"Health Care\", \"Finance\", \"Health Care\", \"Health Care\", \"Finance\", \"Finance\", \"Transportation\", \"Consumer Services\", null, \"Technology\", \"Health Care\", \"Consumer Non-Durables\", null, \"Capital Goods\", \"Health Care\", \"Consumer Services\", \"Miscellaneous\", null, \"Public Utilities\", \"Finance\", \"Health Care\", \"Consumer Non-Durables\", \"Health Care\", \"Miscellaneous\", \"Finance\", \"Capital Goods\", \"Consumer Non-Durables\", \"Technology\", \"Health Care\", \"Health Care\", \"Health Care\", \"Health Care\", \"Health Care\", \"Consumer Services\", null, \"Health Care\", \"Finance\", \"Basic Industries\", \"Health Care\", \"Finance\", \"Technology\", null, \"Health Care\", \"Consumer Services\", \"Health Care\", \"Consumer Services\", \"Transportation\", \"Consumer Services\", \"Public Utilities\", \"Finance\", \"Technology\", \"Energy\", \"Health Care\", null, null, \"Health Care\", null, \"Health Care\", \"Health Care\", \"Health Care\", \"Capital Goods\", \"Consumer Non-Durables\", \"Consumer Services\", \"Technology\", \"Consumer Services\", \"Consumer Non-Durables\", \"Health Care\", \"Technology\", \"Miscellaneous\", null, null, \"Consumer Services\", \"Consumer Services\", \"Consumer Services\", \"Health Care\", \"Health Care\", \"Technology\", \"Health Care\", null, \"Health Care\", \"Health Care\", \"Health Care\", \"Technology\", \"Consumer Services\", \"Technology\", \"Technology\", \"Basic Industries\", \"Finance\", \"Consumer Durables\", \"Basic Industries\", null, null, \"Finance\", \"Consumer Non-Durables\", \"Health Care\", \"Technology\", \"Health Care\", \"Technology\", null, null, \"Public Utilities\", null, \"Health Care\", \"Basic Industries\", \"Capital Goods\", \"Capital Goods\", \"Miscellaneous\", \"Health Care\", \"Health Care\", \"Miscellaneous\", \"Technology\", \"Capital Goods\", null, \"Health Care\", \"Technology\", null, \"Health Care\", \"Technology\", \"Consumer Durables\", \"Capital Goods\", \"Health Care\", \"Technology\", \"Technology\", \"Health Care\", null, \"Technology\", null, \"Technology\", \"Finance\", \"Consumer Non-Durables\", \"Consumer Non-Durables\", \"Technology\", \"Basic Industries\", null, \"Technology\", null, null, \"Technology\", \"Health Care\", \"Technology\", \"Miscellaneous\", \"Technology\", null, \"Consumer Services\", \"Consumer Services\", \"Finance\", \"Basic Industries\", \"Energy\", \"Public Utilities\", \"Miscellaneous\", \"Health Care\", \"Finance\", \"Consumer Durables\", \"Consumer Non-Durables\", \"Finance\", \"Consumer Services\", \"Health Care\", null, \"Energy\", \"Health Care\", \"Transportation\", \"Health Care\", null, \"Capital Goods\", \"Health Care\", null, \"Capital Goods\", \"Consumer Services\", null, \"Health Care\", null, null, \"Health Care\", \"Technology\", \"Health Care\", null, \"Miscellaneous\", \"Health Care\", null, \"Energy\", \"Consumer Services\", null, null, \"Technology\", \"Health Care\", \"Consumer Services\", \"Health Care\", null, \"Health Care\", \"Technology\", \"Miscellaneous\", \"Basic Industries\", \"Health Care\", \"Consumer Durables\", \"Finance\", null, \"Health Care\", \"Technology\", \"Consumer Services\", \"Consumer Services\", null, \"Finance\", \"Technology\", \"Transportation\", \"Basic Industries\", \"Consumer Non-Durables\", null, \"Health Care\", \"Health Care\", \"Health Care\", \"Consumer Services\", \"Technology\", \"Health Care\", \"Health Care\", \"Health Care\", \"Health Care\", \"Health Care\", \"Consumer Services\", \"Capital Goods\", \"Health Care\", \"Health Care\", \"Technology\", \"Consumer Services\", \"Health Care\", \"Technology\", \"Health Care\", \"Capital Goods\", null, \"Energy\", \"Health Care\", \"Consumer Services\", \"Finance\", \"Health Care\", \"Technology\", \"Health Care\", \"Finance\", \"Capital Goods\", \"Health Care\", \"Health Care\", \"Capital Goods\", null, \"Health Care\", \"Health Care\", \"Finance\", \"Health Care\", \"Finance\", \"Capital Goods\", null, \"Health Care\", \"Health Care\", \"Consumer Services\", \"Transportation\", \"Miscellaneous\", \"Consumer Durables\", \"Basic Industries\", \"Health Care\", \"Health Care\", \"Health Care\", \"Health Care\", \"Capital Goods\", \"Finance\", \"Consumer Services\", \"Consumer Services\", \"Consumer Non-Durables\", \"Technology\", \"Consumer Durables\", \"Health Care\", \"Public Utilities\", \"Public Utilities\", \"Technology\", null, \"Health Care\", \"Consumer Durables\", \"Consumer Services\", \"Technology\", null, \"Energy\", \"Health Care\", \"Technology\", null, \"Health Care\", \"Miscellaneous\", \"Health Care\", null, \"Public Utilities\", null, \"Health Care\", \"Consumer Non-Durables\", \"Capital Goods\", \"Technology\", null, \"Consumer Non-Durables\", null, \"Consumer Non-Durables\", \"Technology\", null, null, null, \"Health Care\", \"Basic Industries\", null, \"Consumer Non-Durables\", \"Capital Goods\", \"Health Care\", \"Technology\", \"Health Care\", \"Technology\", \"Health Care\", \"Basic Industries\", null, \"Energy\", \"Technology\", null, null, \"Capital Goods\", null, null, \"Technology\", \"Energy\", null, \"Technology\", \"Health Care\", \"Health Care\", \"Finance\", \"Consumer Services\", \"Capital Goods\", \"Capital Goods\", \"Finance\", null, \"Consumer Durables\", \"Basic Industries\", \"Consumer Non-Durables\", \"Health Care\", null, null, \"Consumer Services\", null, null, \"Capital Goods\", \"Health Care\", null, null, \"Technology\", \"Technology\", \"Health Care\", \"Health Care\", null, null, \"Consumer Services\", null, \"Consumer Services\", \"Consumer Non-Durables\", null, \"Technology\", null, \"Technology\", \"Transportation\", \"Health Care\", \"Technology\", \"Health Care\", \"Energy\", \"Capital Goods\", \"Miscellaneous\", \"Health Care\", \"Finance\", null, \"Finance\", null, \"Technology\", null, null, \"Health Care\", null, \"Health Care\", \"Health Care\", null, \"Capital Goods\", \"Health Care\", \"Consumer Non-Durables\", \"Public Utilities\", \"Capital Goods\", \"Technology\", null, \"Technology\", \"Finance\", null, null, \"Health Care\", null, null, \"Basic Industries\", \"Consumer Services\", \"Technology\", \"Technology\", null, \"Health Care\", \"Finance\", \"Health Care\", \"Finance\", null, \"Finance\", \"Health Care\", \"Health Care\", \"Finance\", null, null, \"Public Utilities\", null, null, \"Technology\", null, \"Health Care\", null, null, \"Finance\", \"Health Care\", null, \"Energy\", null, null, null, \"Finance\", \"Health Care\", null, \"Health Care\", null, \"Finance\", \"Health Care\", null], \"y\": [3986.26788, 3984.123927, 3981.62045505, 3968.7057305999997, 3959.25752128, 3958.6483832, 3934.96629406, 3930.51523875, 3929.8653051, 3885.51766104, 3879.00050285, 3859.5370925300003, 3858.94799802, 3858.0569802, 3852.21049928, 3832.05465094, 3827.6799513600004, 3807.4646771999996, 3805.459218, 3786.203571, 3759.3183081999996, 3747.75627924, 3730.63435264, 3725.58412865, 3716.270528, 3711.63831652, 3684.1436376799998, 3663.0701709, 3659.965078, 3632.3415024, 3614.2308129000003, 3593.97667778, 3587.04753504, 3585.7316871999997, 3574.57025408, 3565.3368473, 3520.8180534000003, 3501.4691265, 3492.91769135, 3479.6178315, 3474.7968849, 3465.10135216, 3446.7938255999998, 3420.08860782, 3417.99917678, 3404.6533332, 3392.3344420900003, 3373.9440628, 3362.95065, 3357.29773824, 3341.6389856, 3323.16053496, 3318.09748335, 3311.77091031, 3311.28802593, 3310.00645209, 3283.9671217600003, 3279.8996736, 3269.2588, 3223.85016738, 3215.2931672399995, 3184.52184655, 3170.9467008, 3136.93306808, 3134.1595746, 3127.46898856, 3113.3251435, 3109.070514, 3100.6712251199997, 3098.04424761, 3077.93752178, 3051.9192141, 3047.6228669499997, 3040.3406591999997, 3034.5991243000003, 3030.4677984, 3028.2996608000003, 3006.65919348, 2976.246, 2962.483036, 2945.1990652, 2943.23510019, 2922.1034949, 2920.3432491, 2919.7314108, 2910.51340205, 2910.187959, 2895.772292, 2891.43504441, 2881.25551031, 2859.19735752, 2856.5981558400003, 2852.869632, 2849.1706875500004, 2842.4631669, 2838.50357805, 2812.2625835999997, 2693.67, 2689.91680465, 2688.1629957, 2684.4441002, 2671.3571127, 2665.59337352, 2665.1617824299997, 2660.2564312, 2650.2187374, 2644.4130281999996, 2639.08212265, 2637.39077737, 2623.4479702, 2621.4867225, 2609.6765416, 2607.22982636, 2605.2605134, 2593.18983015, 2589.2213058, 2573.75061216, 2569.38521369, 2562.3855696, 2554.4159861999997, 2546.78702, 2545.55062034, 2529.31723465, 2515.28764608, 2514.9905713000003, 2507.9969772, 2506.67011181, 2489.02117212, 2482.15818755, 2481.4739421, 2478.45906144, 2467.3255664499998, 2464.7203403000003, 2464.0194744, 2458.7053934, 2456.43566112, 2452.225047, 2444.37365775, 2443.7014638, 2443.3417329, 2443.1142400500003, 2433.0172344099997, 2421.8543288, 2410.6336557, 2404.92176154, 2401.55658616, 2400.06218076, 2398.3616575, 2394.46171797, 2393.9161899, 2372.1257284000003, 2360.21047596, 2347.4590058000003, 2337.68883768, 2336.8247042800003, 2335.470905, 2330.4902661399997, 2319.34299295, 2309.8772359, 2303.418213, 2299.1284871, 2295.5910100799997, 2291.30633193, 2286.0290225500003, 2285.27734134, 2284.4732625, 2279.81996534, 2274.20853476, 2250.68841193, 2242.713483, 2236.30073067, 2236.109865, 2222.68244873, 2220.22868556, 2210.98828475, 2206.5449854000003, 2203.70163396, 2200.75419385, 2199.5347608, 2188.686, 2184.0331885, 2178.79293595, 2174.0035356, 2164.5125546, 2163.6044, 2159.45245398, 2149.74662196, 2130.0897, 2117.3730435, 2107.49241038, 2106.17106201, 2088.32094975, 2085.5541381099997, 2084.7704052, 2079.29003415, 2076.76374334, 2074.71733212, 2072.48699448, 2063.07612909, 2060.4668656, 2058.224, 2057.60444672, 2057.19089124, 2037.7085904, 2027.3710995, 2024.35225182, 2014.14412625, 2000.05162808, 1993.4164622, 1981.345569, 1978.28209632, 1973.0500932999998, 1971.37506598, 1970.6863365, 1964.79582792, 1962.585473, 1960.9890521500001, 1940.107081, 1934.0802208, 1933.2260472, 1933.22403631, 1928.3569755, 1926.9977536, 1924.7587744, 1916.69663475, 1905.7509067, 1904.5366333, 1887.18228842, 1885.048167, 1882.0799485, 1877.77911645, 1873.840454825, 1873.09861762, 1872.1675115, 1871.9803004, 1857.46258668, 1853.1974406, 1851.0639471, 1848.1526684, 1846.3433605999999, 1832.5624572000002, 1832.40091398, 1823.947188, 1823.4774824, 1822.12148674, 1819.680019, 1818.87108744, 1788.28633095, 1786.7838149000002, 1779.9717604, 1779.1085575, 1774.54572243, 1768.749375, 1768.25493027, 1765.57518126, 1763.05184676, 1760.81555496, 1760.25013255, 1758.5513508, 1756.4893304000002, 1756.44051096, 1754.40490088, 1751.2826562, 1742.8036443800002, 1737.67446216, 1716.65054, 1712.59914455, 1708.098239, 1706.35285929, 1700.0251130499998, 1699.5929216, 1695.626634, 1686.18966396, 1681.55167, 1680.6910617, 1669.3380585, 1665.01332824, 1662.7547811, 1656.02056254, 1655.82041625, 1648.09801, 1647.2736860999998, 1640.5608717999999, 1639.5352318, 1635.5455510499999, 1634.91197055, 1632.3887626199999, 1626.65451525, 1626.3047006400002, 1625.1796911, 1622.485533, 1617.10107703, 1615.26602475, 1615.12553525, 1611.940174, 1608.9966537999999, 1604.0718144, 1603.5789582, 1603.33176, 1587.115, 1583.400644, 1583.0209669600001, 1580.86129226, 1575.022, 1574.1473418, 1573.14149824, 1568.2999625999998, 1565.67771339, 1565.1450246, 1559.0142655999998, 1557.5455008, 1557.4408089600001, 1555.6757215999999, 1551.73138875, 1549.5645739200002, 1546.21809717, 1544.4833695, 1543.08964432, 1538.9468692, 1537.42210148, 1530.305994, 1517.92253872, 1516.82901758, 1513.76589218, 1504.85729, 1495.6795611, 1491.70116455, 1484.628204, 1483.0004752, 1480.1043893199999, 1475.3877180499999, 1466.3498328, 1464.2143615, 1463.35202622, 1463.28812854, 1461.51539415, 1458.86905721, 1452.94074176, 1452.73916835, 1451.4470767999999, 1449.9847164, 1445.927718, 1445.6973712000001, 1441.9941536, 1437.3790576, 1429.8012927, 1427.71924924, 1427.67966801, 1427.51576716, 1415.5017834300002, 1414.3919173499999, 1405.5819701500002, 1403.4181208, 1398.66247225, 1398.2569015, 1397.2495355199999, 1396.81738125, 1391.9868246600001, 1388.138105796, 1383.62506695, 1383.22386098, 1382.8811647999999, 1378.4964530999998, 1373.70113232, 1372.118706, 1369.926, 1358.86170585, 1354.3241712000001, 1346.53010826, 1345.8060024000001, 1344.288, 1340.68509572, 1334.0289897100001, 1329.8736671, 1329.0269612, 1328.60237895, 1327.70455098, 1325.6235162, 1317.3380157000001, 1315.94955968, 1308.28377775, 1306.42216528, 1305.540997, 1298.028438, 1297.142, 1292.72251925, 1275.68796, 1273.58474125, 1267.59786615, 1267.0575, 1266.13024286, 1265.1669432, 1259.9663555999998, 1258.68102875, 1258.48961172, 1258.1375997, 1257.6354162, 1253.63123814, 1246.9808668, 1239.0087853, 1235.8612876500001, 1234.6925844, 1233.2707332, 1226.4264995899998, 1224.9595995, 1222.7040970399999, 1220.84231544, 1219.92009192, 1215.15004576, 1212.28065478, 1210.352, 1207.7158088499998, 1207.4554378399998, 1202.3486409000002, 1199.4481924200002, 1198.3543792, 1197.1333674, 1196.4375059000001, 1194.97480851, 1194.9067492000001, 1188.03659758, 1185.0003779400001, 1183.4219781900001, 1183.32576924, 1180.8346572, 1179.7993750399999, 1178.16988796, 1177.9598862, 1168.9506108599999, 1166.20337365, 1158.74522445, 1158.49802484, 1153.45564192, 1144.44889394, 1144.0174854000002, 1139.8718743499999, 1137.80915109, 1129.27706695, 1123.0374432, 1118.9316703499999, 1114.75, 1113.4763875899998, 1111.6098622, 1106.609091, 1103.3949078, 1102.2513388, 1101.54417252, 1094.90008752, 1094.1587110599999, 1093.9265673, 1093.880074, 1093.6933325999998, 1089.01128895, 1087.0386062, 1085.66739292, 1085.6222156099998, 1077.82645914, 1077.122214, 1074.525704, 1072.3978947, 1072.15056, 1069.44218871, 1061.14131252, 1058.575024, 1056.07865853, 1052.0121632999999, 1051.5646273500001, 1050.79307307, 1048.3354, 1045.579565, 1044.4847154, 1038.57493245, 1034.2035, 1033.2110184, 1032.4271664, 1029.36073325, 1028.0446152, 1027.1400539400001, 1026.65552235, 1026.1990288, 1019.15431675, 1017.7435866799999, 1015.67028108, 1015.1757161, 1008.984, 1008.8108499, 1005.0358583999999, 993.5315106, 992.42332245, 988.3165821499999, 986.2851893999999, 985.3292438999999, 984.39225255, 983.3802883200001, 983.1311567, 981.49753855, 979.49809698, 974.2830254500001, 973.80783, 973.29375, 971.9134704400001, 970.3209911, 969.4894222300001, 969.1563566, 966.552544, 965.52903447, 964.134757, 963.1836081, 959.9367429, 959.1860817, 955.9845134, 953.126724, 952.0522765, 950.3349921, 949.31661, 947.85889276, 946.6783002899999, 945.9182264, 945.89281124, 944.16507885, 940.6609145, 940.0653426, 938.9635776, 937.59668112, 930.33154942, 929.98257348, 927.6450372, 926.6219718, 922.6316884, 920.5516606, 920.5187546000001, 909.8451329, 909.7278167999999, 909.6685214, 909.138166, 906.8793636, 906.16878792, 904.3234718799999, 901.6691475, 896.1089335199999, 893.39339609, 891.936, 889.2302568, 887.53911728, 887.4804295, 887.00374225, 885.68553906, 884.9780212000001, 884.79689715, 882.3132448, 881.75650798, 880.97341724, 880.36216314, 879.5557626, 877.625429, 877.24000525, 876.8925, 876.47586624, 875.90514885, 875.566964, 875.1150779, 873.8232174, 871.72, 867.85205948, 860.38410614, 858.2266554, 857.77697819, 855.2439126, 851.4923606799999, 850.37193339, 849.25667155, 849.1875, 847.81638748, 846.1078734, 843.82944425, 841.68, 841.3659285, 838.00726982, 834.1291944, 825.7374362999999, 825.45454524, 824.3118065, 822.63355412, 822.48944536, 819.4778718, 818.311977, 818.1562277, 817.5830832, 817.150708, 816.78297913, 815.822241, 815.31600364, 810.9382512000001, 804.46678424, 803.2345957599999, 803.122992, 802.42585, 799.5015, 795.5818299, 795.25009599, 794.03444875, 793.08207325, 792.96991986, 791.125088, 789.9856566, 789.29651424, 788.04337833, 786.63745116, 785.17314909, 784.8004416, 784.08057594, 784.0489093799999, 783.3046752, 783.2361369600001, 782.83924667, 782.4902024500001, 781.7729913, 779.65188, 776.27079465, 774.24123375, 773.991182, 773.79161041, 772.71308991, 772.14, 771.37230674, 769.1308014, 766.8920264, 766.038, 764.13132304, 762.6049437, 760.04991582, 759.0502922999999, 757.2492700299999, 757.0748834, 756.825348, 755.8916397, 755.601, 754.6079650199999, 752.01937408, 749.570487, 749.26595016, 745.7416648, 745.3752033, 745.1423508500001, 744.6640195, 743.9483268500001, 742.2024038, 738.75285556, 738.16222305, 736.875, 736.1367623, 734.9759116, 731.95930245, 731.679536, 730.60797648, 729.1913282, 728.0617284, 727.5979091, 727.21124375, 724.364215, 722.86294276, 722.5978456, 721.3146804500001, 719.9663935499999, 719.2107384, 718.9720725, 717.7202416, 715.9566216000001, 715.456645, 713.8581884, 711.3400099500001, 711.2901092999999, 707.1116887999999, 706.4238539600001, 705.48517512, 704.02516528, 700.9233959, 698.39407225, 695.0429862000001, 694.5464955599999, 692.92227477, 692.50101757, 692.142352, 690.89053525, 688.7423087000001, 688.1815099600001, 688.01872438, 687.6431136599999, 686.06892405, 684.8122665, 681.6836, 679.4697167999999, 679.17641973, 678.503319, 675.73729086, 671.65153185, 670.955971, 670.4381433, 669.3595125, 668.9462250199999, 666.6900034500001, 665.54942496, 665.3146875, 663.43342875, 663.0077312999999, 662.94515066, 662.26758606, 660.6287664, 660.04575, 658.2816502200001, 658.20650545, 657.3883551, 656.85672261, 656.49502392, 656.31960852, 655.79533566, 655.0208086, 653.04222354, 650.9860231, 649.27110923, 649.1336742000001, 647.2374676000001, 647.1823833, 645.24932463, 644.819445, 642.91106127, 640.776045, 640.10304, 639.6476432999999, 639.1822434, 638.76087238, 638.61563567, 637.2566375900001, 637.1086963500001, 636.03196, 633.1415616, 631.1730488, 631.04812755, 630.05662048, 629.9225955, 628.9113107999999, 628.7260155499999, 628.125, 624.64375995, 623.3965330499999, 622.2703256, 621.35515346, 618.6327124500001, 617.85168115, 615.18358998, 614.58843836, 613.13, 610.2649187999999, 610.08946272, 609.640122, 609.23410326, 608.1596198999999, 605.6551371, 604.33273875, 603.711936, 603.65925184, 603.5513352, 601.8310614, 600.7209952000001, 599.52412, 598.19361706, 595.9014904, 595.826156457, 594.180171, 593.62832672, 593.1063365499999, 587.37107368, 587.3104072799999, 586.05392676, 584.3764842300001, 584.37592884, 583.625, 583.0366247999999, 582.76795668, 582.0251426, 580.43760975, 580.42250045, 579.375, 576.3998727999999, 575.56110938, 574.9146442, 574.609761, 573.39136736, 572.3971722, 569.78450442, 568.90978, 568.33699213, 568.0790999, 567.93132, 566.230807, 565.5121197999999, 564.8701808999999, 560.649936, 559.77810498, 558.82030743, 557.9136947999999, 556.7918125, 556.68264504, 555.1358958999999, 554.64825336, 554.2745208, 553.8916891499999, 553.47309708, 552.445919, 549.24, 548.9000319500001, 547.379503025, 547.2685727999999, 547.26342917, 546.7405817599999, 545.65413152, 545.47594627, 543.2709909, 541.479087, 539.4825513, 538.0470375599999, 537.4372242999999, 536.45917405, 535.8634853, 534.13808, 532.763, 531.8680428, 531.12382752, 529.740225, 529.24832135, 528.51128586, 527.85471575, 523.72977268, 523.63836625, 523.2585168, 517.679924, 517.18, 514.5034853, 513.60188885, 513.0, 510.72316072, 510.2689196, 510.1477128, 509.86267144, 509.75426025, 509.5867316, 509.08695871, 508.07443141000005, 507.9769347, 507.1963372, 506.821429, 506.38124812, 506.21934933, 506.1446115, 505.44, 503.92828212, 503.8102036, 503.25546030000004, 501.5988596, 501.43322784, 499.93935239999996, 499.63014, 499.0983276, 497.782725, 497.46849069999996, 497.11465768, 494.93338298000003, 494.455632, 491.33810454, 491.25771893, 488.10497735, 487.24106231999997, 486.5220635, 484.792224, 484.36052035, 484.05, 482.799865, 482.5510102, 478.7944425, 478.02305839999997, 477.54965475, 476.8701366, 475.4772, 475.0414704, 474.61838866000005, 473.30734035, 473.30687172, 470.41460325, 470.14360506, 469.71510156, 469.47855248, 468.384, 467.69933160000005, 467.28984015, 467.22555, 467.04777966, 466.74530672000003, 466.026379, 464.5826766, 463.882875, 463.25222660000003, 462.881359, 462.47206872000004, 462.23366112, 462.1369284, 461.356119, 459.76157539999997, 459.2372068, 458.7681267, 457.6891725, 457.375128, 456.30981045, 455.5216334, 453.67109035000004, 452.8973675, 452.63356803, 451.87040114999996, 450.21129075, 449.69959776, 448.90919867, 448.77758709, 448.65820035, 447.66753702999995, 445.64189715, 445.0124625, 444.17767975, 443.99318106, 443.5733655, 440.63383519999996, 440.47796439999996, 440.2850166, 438.7515165, 438.64776795, 438.59479235000003, 437.304, 436.01364005, 435.10567683, 434.80848285, 434.4, 433.999056, 433.73650355, 433.0656204, 430.8409116, 430.625, 429.914904, 429.05017265, 428.70951936, 427.57626075, 427.162, 426.71230086, 426.5989753, 425.4121788147, 425.28091425, 424.686375, 424.3163831, 424.27061027999997, 423.94313395999995, 422.80962619999997, 421.55294544, 421.5424629, 419.89615598, 419.454798, 418.59150375, 417.42923632, 416.7173625, 414.355, 413.90080587, 413.733798, 412.96916880000003, 412.89573171, 412.4828288, 406.47999419999996, 406.07320071, 404.68689, 404.14007663999996, 403.996, 402.482037, 402.45114, 402.26704839999996, 402.26694330000004, 401.17509414, 400.56303482, 399.92638224, 398.84174045, 397.603854, 397.07209568, 396.48599232, 396.35079384, 396.1732414, 395.79738, 395.28604011, 392.4646158, 392.194712, 390.9385152, 388.13524455000004, 387.830253, 387.53608115, 387.00548575, 386.95358519999996, 386.91544910000005, 386.91180792, 386.82265032, 386.42661348, 386.31141195, 385.70317739999996, 384.71367194, 383.697, 383.2375, 383.1398626, 382.7261927, 382.68248439999996, 382.21507560000003, 381.796074, 381.3276122, 380.68808651999996, 380.5249318, 378.9521313, 378.2109875, 378.17277, 377.104, 376.98089660000005, 376.82927388, 376.08180863, 374.5194828, 374.08095230000004, 373.875, 373.832327, 373.622748, 372.43120824, 372.1889496, 371.902614, 371.67463049, 370.98608672, 370.8521005, 370.19353672000005, 368.084918, 367.60599644999996, 367.031817, 366.92004160000005, 366.31906052999994, 366.0802803, 365.66741232, 365.14878, 364.333306, 363.9111325, 363.36596355, 363.25615689999995, 361.14280812, 360.20380494, 360.07281782999996, 359.8773777, 359.6888209, 359.07154784, 358.6958472, 357.35272960000003, 356.80478535000003, 352.84430784, 352.4486397, 352.32202605000003, 352.18413641, 351.85414575, 351.55002225, 351.02087306, 350.2986803, 350.19433430000004, 350.183161, 350.1135616, 349.67641280000004, 349.30267632, 349.15904969999997, 348.63397385, 348.55540901999996, 346.2910935, 346.1792568, 345.82034044, 344.10914307, 342.78480936, 342.12271275, 341.4294423, 341.20008932, 341.07708494999997, 340.9425, 340.83481525999997, 338.1431508, 337.73923188, 335.94200292, 335.69316704000005, 335.6261492, 335.46086325, 334.7941816, 334.791311, 334.23943664, 333.9147072, 333.7798875, 333.6061381, 333.23778066, 332.88144175, 331.63884, 331.51512875, 331.3708128, 330.499845, 328.934196, 328.8783337, 328.80847719999997, 328.7532416, 328.1491502, 327.93664536, 326.67750171, 326.5961868, 326.1725096, 325.99224, 325.49162947, 323.3499516, 321.82275356, 321.13473980000003, 320.3247835, 319.91112972, 319.38420766, 318.6767416, 318.5936901, 317.9022082764, 316.9204788, 316.72152174, 316.51294445999997, 316.00103114999996, 315.85647213, 315.6795, 314.7375, 314.38215022, 314.1088968, 313.292, 312.90072, 312.77320577, 312.07935675, 311.8840772, 311.5624545, 311.124, 310.698108, 310.08854310000004, 310.0316393, 309.77338210000005, 309.5712, 308.835098, 304.91197344, 304.709031, 303.11271, 302.75641713, 302.19774336, 301.473244875, 301.2924246, 301.2364208, 301.2187755, 300.70816160000004, 300.57191295, 298.58975304, 298.04695960000004, 296.51431212, 296.41209219999996, 296.00530806, 295.77882422000005, 295.68883788, 295.65109064, 295.48201215, 295.38463284, 294.80956705, 294.23190719999997, 294.19160391, 293.37013166, 293.3223271, 293.28, 293.1635837312, 291.21934269999997, 290.268252, 289.014, 288.498366, 287.6744192, 287.62055197, 286.50409655, 285.6484168, 284.65459536000003, 284.31883575, 284.24429562, 283.47554377999995, 283.09097306, 283.0517552, 283.02886836, 282.27741003, 281.88084714999997, 280.765991, 280.45597680000003, 279.9253036, 279.38109696, 279.18541024, 278.4717164, 277.810819, 277.27415310000004, 276.20199744, 276.1605, 276.04360488, 275.74303205, 273.62514, 273.09946356, 273.08, 272.6674188, 272.3652315, 271.7302593, 271.6839784, 271.6572672, 271.12613946, 271.00304076, 270.28751819999997, 268.7372512, 268.57779639999995, 268.1923772, 268.07029193, 267.58, 266.110322, 265.4428185, 265.2075595, 264.94165841, 263.39312496, 263.0527929, 262.82798582, 262.602179, 262.10765079, 259.10823966, 259.02859, 258.75, 258.649605, 258.48852432, 257.8928393, 257.7979251, 257.41114938, 257.3797161, 257.25673857, 257.0189695, 256.0714211, 255.98340876, 255.86704458000003, 255.60766268999998, 255.57564069999998, 253.73363609999998, 253.70318730000002, 253.63525393, 253.3002124, 251.49245580000002, 251.48732884, 251.08075665, 249.93314080000002, 249.7525, 249.0, 248.9793768, 248.875, 248.44706159999998, 247.61329297889998, 247.07686015000002, 246.92646869, 246.544214, 246.50258556, 245.296226472, 245.18846205, 245.0085324, 244.1392492, 242.691687, 242.305, 241.58993390999998, 240.484352, 240.3806966, 240.28496193, 239.0022, 238.83192788, 238.68082080000002, 238.4374803, 238.0984116, 238.01521296, 237.95150390999999, 237.92139840000002, 237.91122355000002, 234.8832, 234.77291838, 234.58271895, 231.0300453, 230.22866565, 229.93065959999998, 229.8744929, 229.7684205, 228.76277732, 228.09617512, 227.58148025, 227.3233744, 226.9883252, 226.91805906, 226.182, 225.9684285, 225.66620025, 225.31164345, 225.13845459, 225.07677954, 223.76311265, 222.93475776, 222.1236612, 221.8854728, 221.27314428, 220.8502283, 220.1959096, 219.9389654, 219.42447392, 219.27133880000002, 218.67518148, 218.12490128, 217.839966, 217.59642237, 217.3090195, 216.6523092, 215.98665169999998, 215.6790725, 215.67152847999998, 215.56499328, 215.2843125, 214.42297765, 214.37772859999998, 213.89918256, 213.86186668000002, 213.6573936, 213.34673675, 213.23234508000002, 213.127757, 213.00681219999998, 211.22924626, 210.3651538, 210.1129515, 209.64683262, 208.98614625, 208.52570563999998, 208.50229191, 207.9469135, 207.73746824, 206.95045675, 206.004799, 205.53458421000002, 205.47663324, 205.32550375, 204.1901375, 203.89848927, 203.81787175, 201.44940624, 200.8467617, 200.04107608, 199.6203864, 199.04404656, 198.4459203, 198.25437269999998, 197.980762315, 197.50673634999998, 197.1543948, 196.88776, 196.86135, 195.42393343999998, 195.28712280000002, 195.23714769999998, 195.22207096, 194.95518336, 194.33624232, 194.02290297, 193.89244992, 193.8537485, 193.80278262000002, 192.90946780000002, 192.898125, 192.2329799, 192.01793268, 192.00218044, 191.8595, 191.78737759999999, 191.77919640000002, 191.63662875, 190.476, 190.15322559999998, 190.055831, 189.93100425, 189.73681947, 189.6853616, 189.6835, 189.67021888, 189.6082922, 189.47004704, 189.2185, 188.694, 188.38725815, 188.38212261, 188.296875, 187.88699753999998, 186.21645328, 185.10459758000002, 185.08932394029998, 185.0877554, 184.84949925, 184.732389, 184.078125, 184.0698875, 183.6227584, 183.3657, 183.212, 181.5765831, 181.4792769, 181.25169384, 181.00833828, 180.76941498, 180.7263375, 180.621383, 180.36577377, 180.2581599, 180.17370545, 179.5978806, 179.2042095, 179.1122856, 179.0424, 178.929003, 178.90922133, 178.85093372, 178.63463325, 178.3725674, 178.18771577, 178.1823233, 177.9455713, 177.67924340000002, 177.62002198, 177.44177, 177.2811744, 177.0, 176.3641992, 176.31156634, 175.22977013, 175.12155955, 173.8233252, 172.63839, 172.59272705, 172.3818238, 172.31514080000002, 172.28127, 172.26684009000002, 172.00749190000002, 171.7335825, 171.4146877, 171.22360030000002, 170.58538563, 170.41147759999998, 170.02647661, 169.2057615, 168.84004019999998, 168.4267112, 168.10137404, 167.63618925, 167.30622, 166.49656, 166.3554771, 165.80392071, 165.44782759999998, 165.41246122, 165.04933431999999, 165.033, 164.83670940000002, 164.73894163999998, 164.67933825, 164.476912, 164.41944637999998, 164.37931965, 164.3091446, 163.4061465, 163.1892742, 162.08606519999998, 161.44477840000002, 161.379255, 160.49692445, 160.4166606, 160.38646469999998, 160.167699164, 160.10530943999998, 159.95152831000001, 159.54407252000001, 159.29652633, 158.80689396, 158.4179935, 158.27766, 157.80205869999998, 157.793116, 157.3425, 157.293305, 157.06021175, 156.93749137999998, 156.8168332, 156.40843086, 156.40245, 156.37505625, 156.31603461, 156.26671875, 155.933025, 155.62674743, 155.5541013, 155.52782938, 154.73258969999998, 154.42861965, 154.23427272, 154.10629948, 153.94852534999998, 153.7782, 153.412318, 153.39146325, 153.211327, 152.52311036, 152.2418947, 152.21232698, 151.8, 151.6575056, 150.696, 150.25759340000002, 150.2005, 149.83409462, 149.67966744, 149.27005192, 149.2072212, 149.0239, 148.7119812, 148.03053075, 147.93067758, 147.84637405, 147.78464832, 147.24727959999998, 146.6403579, 146.57132038, 146.56963041, 146.27917775, 146.23078415999998, 146.03127616, 145.383, 144.89352309999998, 144.59252966, 144.556576, 144.44807808000002, 143.75, 143.66754780000002, 143.446, 142.84279944, 142.54481744, 142.4188415, 142.3949882, 142.32545964, 141.74241904, 140.77092463999998, 140.4109302, 140.353768, 140.30652025, 139.891882, 139.6501, 138.9817983, 138.9465874, 138.6282046, 137.64721443000002, 137.06847, 137.00137, 136.63594619999998, 136.0650767, 135.62830515000002, 135.609367, 135.1178955, 135.04347455, 134.94318222, 134.62511052000002, 134.40878130000002, 134.2106537, 133.53297628, 133.50037712, 132.98110979999998, 132.97534, 131.952, 131.91394125, 131.84869648, 131.82327, 131.62721253, 131.51195875, 131.511564, 131.23637397, 131.22319928, 131.01284808, 131.00996317, 130.6409127, 130.38487528, 130.2740118, 130.1326, 129.970503, 129.32176005, 129.15, 128.93220165, 128.8323057, 128.1225549, 128.08910724, 127.50214428, 127.38240718, 127.21682961, 127.02246499680001, 126.75557565000001, 126.37647295000001, 126.3366237, 126.17158341, 125.7872991, 125.74042145, 125.34278355, 124.86692120000001, 124.77979941, 124.675485, 124.08408302, 123.56857225, 123.472262, 123.45316270000001, 123.26711046, 123.11, 123.082, 122.80309053, 122.40798026, 122.34110412000001, 122.25319440000001, 122.24924920000001, 121.965501, 121.9289412, 121.60303359999999, 121.50200061, 121.33534322, 120.9344928, 120.80162, 120.408005674, 120.34152383, 120.28825787999999, 119.5805898, 119.1438561, 118.8528, 118.3635285, 118.2673118, 118.20818840000001, 117.9255, 117.89732145, 117.85202806000001, 117.82013548, 117.76962834, 117.19148983, 116.32759920000001, 115.94841906, 115.89550875, 115.82504734999999, 115.5669372, 115.56052820000001, 115.52733248, 115.2289246, 114.9496668, 114.77961198, 114.7739088, 114.60059212, 114.03219968, 113.9934323, 113.87260121999999, 113.71801104000001, 113.535582958, 113.36242933, 113.15584, 112.5679328, 112.2230928, 112.0610374, 111.69681935, 111.46757805, 111.3623, 111.21391245000001, 110.59855, 110.40212592, 110.329, 110.09400268, 110.085914, 109.69168882, 109.6512658976, 109.04926374, 108.89185484999999, 108.7510359, 108.658378, 108.61900365999999, 108.039204, 107.64472692, 107.4794726, 107.2924125, 107.1105667252, 106.9075804, 106.63599465, 106.36, 106.1274123, 105.99413725, 105.75150588, 105.4650694, 105.4521048, 105.385995, 105.1063811, 104.79696423659999, 104.56065064, 104.4402228, 104.0871455, 103.4758848, 103.46510109, 103.3174033, 103.2042108, 102.98794415, 102.8866176, 102.46920284999999, 102.14976, 102.08791206000001, 100.92356365, 100.56108359000001, 100.48558275, 100.32706691, 100.0848144, 100.008, 99.91761152, 99.541, 99.3945, 99.38484822, 99.27008823999999, 99.12984956, 98.918776, 98.2905, 98.031557, 97.91111357999999, 97.8084348, 97.61014308, 97.49206740000001, 96.98029770000001, 96.64629413099999, 96.52010159999999, 96.46332124, 96.2502576, 96.05289051000001, 96.03493498, 95.7168953754, 95.31849145, 95.13475776, 94.85878842, 94.66787637, 93.6975, 93.6116247906, 93.1542574, 92.91105930700002, 92.88381648000001, 92.82957006000001, 92.7842172, 92.7021231, 92.62986894, 92.53956493999999, 91.90380540000001, 91.6544031, 91.5967836, 91.45669464, 90.984, 90.66535408, 90.2348341, 90.08494409999999, 89.71486979000001, 89.3941209, 89.069216, 88.8848656, 88.72178364, 88.597245, 88.50096366, 88.4255, 87.94594751999999, 87.86744865, 87.0730882, 86.74164525, 86.69349975, 86.5199632, 86.44888947, 86.22005, 86.17783254999999, 85.9504483152, 85.9117211, 85.91114014, 85.869, 85.80947640000001, 85.7557415, 85.75366604000001, 85.73437659999999, 85.60982815999999, 85.28592006999999, 85.26, 85.2268365, 85.0814796, 84.9455211, 84.7530624, 84.64031646, 84.0188232, 83.93972475, 83.4078225, 83.29294798000001, 83.22351992, 83.0853528, 82.97983304, 82.7132863999, 82.16191035, 82.1595798, 82.05419178, 81.8707892, 81.86339508, 81.80736390000001, 81.5621607, 81.54374011, 81.44946, 81.3641698, 81.288336, 80.7707565, 80.50152057, 80.20312818000001, 80.09904008, 80.07879940000001, 80.026466, 79.89553125, 79.69968, 79.68849915000001, 79.524, 79.27094548000001, 78.88726219499999, 78.72500348, 78.38446685, 78.3706554, 78.333104, 78.26854122, 78.2570958, 78.17895, 78.0200784, 77.9365, 77.87228826, 77.80023924, 77.6071112, 77.53893978, 77.42073140000001, 77.1469056, 77.08455168, 76.98612732, 76.92970453, 76.75198725, 76.5373323, 76.52174695000001, 76.38909856000001, 76.32284022, 76.31517059999999, 75.8800614, 75.75782684, 74.8067544, 74.70031623, 74.69874575, 74.5423563, 74.42122635, 74.420496, 74.20007059999999, 74.197466, 74.121442, 73.87620659999999, 73.85926296, 73.84299176, 73.794732, 73.75843136, 73.62820062, 73.545296, 73.469838, 73.43982028, 73.416778, 73.165666176, 73.1375, 73.0503623, 72.9802257, 72.920402, 72.90006792, 72.8980105, 72.69470129999999, 72.59194151999999, 72.4281272, 71.8137648, 71.47284671999999, 71.43447916, 71.31297438, 71.09946744, 71.070166, 71.02069254000001, 70.89192, 70.748725375, 70.51699354, 70.5143076, 70.36250466, 70.22723955, 70.19282515, 70.10320351, 70.08798225, 70.01500505, 69.95032979999999, 69.76552464, 69.73083375, 69.39642520999999, 69.3243541, 69.2922230847, 69.19010073, 69.17589926000001, 68.9865029, 68.84081540000001, 68.64375, 68.61706331, 68.46031190000001, 68.4359733, 68.21115255, 68.10341054999999, 68.01906636, 67.791246, 67.43686847660001, 67.35799497, 67.33941390000001, 67.30677335, 67.12946981, 66.8134678, 66.7551081, 66.3711516, 66.2894699292, 66.274579, 66.195422475, 66.09585988, 65.91759181, 65.7165249, 65.706636, 65.68442211, 65.625, 65.3209739, 65.31620784, 65.16525, 65.00610872, 64.80651321, 64.606152, 64.52278903999999, 64.40679356, 64.1949, 64.1098696, 63.9588195, 63.911683200000006, 63.6158886, 62.917915514600004, 62.800486665, 62.532, 62.440807799999995, 62.3031966, 62.2877346945, 61.9758069, 61.92106518, 61.7794121, 61.716416357199996, 61.69693075, 61.44620545, 61.289057719999995, 61.0588012062, 61.02, 60.988984, 60.918512299999996, 60.8590560312, 60.8043287358, 60.74057472, 60.60828675, 60.551568, 60.450424700000006, 60.3481875, 60.284416719999996, 60.1958976, 60.1886457, 60.18, 59.652699659999996, 59.279008600000004, 59.07608752, 59.00465535, 58.973160799999995, 58.7204658964, 58.41198, 58.292, 58.0205837, 57.9432, 57.75912831, 57.682723200000005, 57.6507855, 57.4231668, 57.36498768, 57.346, 57.325784774999995, 57.2226346, 57.18455534, 57.11903425, 56.82257616, 56.7375, 56.55669105, 56.30315625, 56.15559342, 56.078, 56.07457196, 56.064575399999995, 55.60074779999999, 55.52, 55.4907097698, 55.370647174999995, 55.333210460000004, 55.22022, 54.943869799999995, 54.74666018, 54.559472572800004, 54.51609912, 54.32786061, 54.104845829999995, 53.858850200000006, 53.73141012, 53.6841, 53.563911729999994, 53.55, 53.43720059, 53.018304, 52.93568, 52.88371543, 52.69, 52.5288556, 52.49772, 52.26384242, 51.79836411, 51.697, 51.6188201799, 51.5153016, 51.508, 51.309107149999996, 51.21383345, 51.098073, 51.0706561935, 50.564101128, 50.450085773999994, 50.259944350000005, 50.183, 50.04528361, 49.45830108, 48.98480945, 48.979403549999994, 48.84515, 48.8362704, 48.809766259999996, 48.498888560000005, 48.447, 48.4452162236, 48.293218259999996, 48.09976991, 48.038368, 48.00701304, 47.832, 47.7425, 47.67, 47.64640921, 47.42543232, 47.3490800391, 46.784740310000004, 46.77298294, 46.746151409999996, 46.664296115999996, 46.454747255, 46.2994032, 46.017, 45.91912512, 45.88361118, 45.81254025, 45.8027059, 45.52020513, 45.359458246399996, 45.32306649, 45.1803393, 45.13657122, 45.087633546, 44.973583299999994, 44.742698, 44.50206096, 44.159028299999996, 43.9886815, 43.665013, 43.62353688, 43.6213964, 43.58482325, 43.479946950000006, 43.38192144, 43.369937575, 43.21125276, 43.08731, 43.08207327, 42.8388120528, 42.77815287, 42.761070604800004, 42.628930049999994, 42.375, 42.36681537, 42.052856399999996, 41.979, 41.77078066, 41.748445200000006, 41.55085239899999, 41.526842, 41.41919664, 41.3849198, 41.2209564, 41.2057583283, 41.1967925, 41.066209799999996, 40.51322218, 40.436050545, 40.2719758212, 40.085295020000004, 40.0386644, 40.014, 39.953933899999996, 39.940657200000004, 39.88164213, 39.787861211999996, 39.614513184, 39.5664061509, 39.459200200000005, 39.4492894, 39.382656881399996, 39.009224148, 38.9753344, 38.92664594, 38.906149479999996, 38.818373235100005, 38.6328768, 38.4794643668, 38.26225, 38.21121486, 38.1814375, 38.11036515, 38.071180399999996, 38.034797020499994, 37.6577135, 37.565259, 37.54215174, 37.49941467, 37.4378678996, 37.41159279, 37.28561011, 36.91523275, 36.836947347199995, 36.835457670000004, 36.834806799999996, 36.59238585, 36.560472, 36.41980739, 36.19842645, 36.12002408, 36.10371396, 36.06933609, 36.0238653229, 35.923958240000005, 34.941186280000004, 34.859700963, 34.85443068, 34.7546955, 34.716793020000004, 34.2806256, 34.26301396, 34.25576781, 34.21335775, 34.17965991, 33.990744240000005, 33.7373, 33.55, 33.51956845, 33.49639757, 33.247278, 33.18050748, 33.0507744, 32.7084, 32.677257600000004, 32.5389628, 32.35775375, 32.27839647, 32.2725262, 32.2500357, 32.23147232, 32.21420244, 32.2036, 32.16855075, 32.0321848, 31.9574172, 31.95437755, 31.921514345600002, 31.82258486, 31.61937288, 31.5015633756, 31.30613618, 31.267207600000003, 31.199590399999998, 31.152319440000003, 31.151255068, 31.0152464, 30.969553859999998, 30.94335968, 30.907370399999998, 30.739385600000002, 30.667416489999997, 30.6517912202, 30.643928640000002, 30.44064375, 30.30108696, 30.15371709, 30.0976906, 29.765793600000002, 29.728252559999998, 29.67893763, 29.60482653, 29.43752498, 29.398715, 29.358, 29.35381653, 29.3189024, 29.11625, 29.08105176, 29.0001, 28.82118456, 28.783104, 28.7655206604, 28.6929897, 28.55229906, 28.511421, 28.28538545, 28.24921956, 28.19522419, 28.154476, 28.073800184099998, 28.044133635, 27.82976353, 27.599, 27.5275, 27.47306748, 27.423, 27.402893149999997, 27.39587235, 27.24454052, 27.1600521844, 27.14708826, 27.134749199999998, 26.9580403, 26.7137112, 26.595376, 26.520787440000003, 26.515140600000002, 26.46063315, 26.43239925, 26.42257046, 26.1999, 26.0122342417, 25.943097690000002, 25.9388865, 25.809078441599997, 25.7549171856, 25.5331728, 25.5200464, 25.4516067, 25.32949903, 25.07676327, 25.00071873, 24.97600684, 24.85224973, 24.8502089609, 24.8475257371, 24.846957399999997, 24.7338162, 24.699678719999998, 24.68125, 24.4886138101, 24.393972050000002, 24.3896491983, 24.34816384, 24.2496438, 24.20710504, 24.165457800000002, 24.13408776, 24.015, 23.728025010000003, 23.662598312399997, 23.522413359999998, 23.43877193, 23.23565073, 23.177729421, 23.10660255, 23.06710125, 23.02848675, 22.9555513, 22.75729002, 22.68871608, 22.581, 22.57614439, 22.56792153, 22.4198344, 22.41655746, 22.301438565, 22.229949953400002, 22.18016112, 21.86856777, 21.86696435, 21.8131056, 21.72396342, 21.659, 21.550338, 21.50809056, 21.39461443, 21.283827600000002, 21.206536489999998, 20.96162937, 20.85913585, 20.7547739625, 20.751992100000002, 20.74422784, 20.548, 20.499881999200003, 20.4909010746, 20.478746812399997, 20.4225813818, 20.349030239999998, 20.2952104, 20.2286, 20.209969920000002, 20.188418239999997, 20.0552581152, 19.8823977, 19.82084424, 19.8169928, 19.813910399999997, 19.71045559, 19.69921813, 19.67524512, 19.6510827, 19.60071152, 19.558759014, 19.55439948, 19.21884352, 19.2, 19.1541603, 19.101982739999997, 19.03117179, 18.63604659, 18.616844760000003, 18.593753145, 18.48, 18.47856798, 18.241623, 18.176, 18.056016, 17.98695, 17.929863, 17.763644969999998, 17.67126198, 17.654007649999997, 17.51, 17.506318311700003, 17.49977474, 17.49415867, 17.4576404, 17.424, 17.418, 17.3000692, 17.2621019811, 17.13997896, 17.0431393, 16.8950934632, 16.616, 16.3467241615, 16.24522176, 16.1831925248, 16.164480786, 16.128639539999998, 16.1215698, 16.05744, 15.972, 15.9436733593, 15.9376825476, 15.8252157, 15.792001410000001, 15.7347872172, 15.70860405, 15.69989376, 15.612308140000001, 15.506747359999999, 15.5036826, 15.44, 15.40262932, 15.379, 15.3155000229, 15.275670269999999, 15.2351633, 15.1857553257, 15.0452221848, 15.02515845, 15.01905708, 15.0, 14.899544800000001, 14.8273086, 14.79550215, 14.79526496, 14.791757165, 14.74553736, 14.6804110901, 14.5892465792, 14.523211439999999, 14.519248050000002, 14.3590078632, 14.1711456, 14.14330359, 14.13509784, 13.893257, 13.8917416, 13.8906138, 13.7342742, 13.728, 13.68394963, 13.661866802999999, 13.62660468, 13.509444, 13.473857789999999, 13.45990144, 13.4020020086, 13.401136, 13.379860560000001, 13.361688375, 13.2532245, 13.14625, 13.12071735, 13.034080150000001, 13.0209213056, 13.0069864232, 12.79770492, 12.750855210000001, 12.7441887377, 12.606078414, 12.54873276, 12.5292589, 12.40475008, 12.3706344, 12.27100884, 12.214986779999998, 12.06283806, 11.9396046, 11.7661776235, 11.70808445, 11.587272, 11.55461268, 11.480517449999999, 11.389795, 11.3835660678, 11.378370720000001, 11.37218146, 11.260491199999999, 11.227731349999999, 11.1936, 11.146044784, 10.997639691, 10.9508829514, 10.92816, 10.6281216, 10.47678302, 10.36927128, 10.35, 10.3424766482, 10.31005155, 10.29674979, 10.185762800000001, 10.11201808, 10.072275, 10.0091471948, 9.917727131000001, 9.896098960000002, 9.77649806, 9.5160007, 9.4875895002, 9.47646, 9.460097259, 9.390036303999999, 9.33840089, 9.330074640000001, 9.264189949999999, 9.20966034, 9.1063866, 8.977666, 8.853194977, 8.8055121, 8.6544297, 8.603041900000001, 8.5875, 8.47387712, 8.468252793, 8.4536475716, 8.419508111199999, 8.414489031199999, 8.384, 8.31305542, 8.29765, 8.26, 8.24508245, 7.9744443, 7.946803259999999, 7.93964109, 7.8795, 7.854108232000001, 7.85135079, 7.735259429999999, 7.59335948, 7.50998, 7.4228724, 7.4017398, 7.3368124072, 7.2901389000000005, 7.1576515758, 7.1309821096, 7.09888075, 7.0911283644, 7.05807058, 6.974199, 6.8960159800000005, 6.85502742, 6.85201713, 6.7956505400000005, 6.794767360000001, 6.71725076, 6.7053660861, 6.6741, 6.6500265999999995, 6.5998521, 6.59752639, 6.588811349999999, 6.47109099, 6.34326, 6.2183295, 6.2115, 6.160389400000001, 6.0380217300000005, 6.01277724, 5.63783922, 5.615806559999999, 5.61307299, 5.398732799999999, 5.3888826100000005, 5.363961066000001, 5.270231730000001, 5.210616684600001, 5.20612552, 5.15694, 5.13917812, 5.13, 5.125041, 5.12317158, 5.102051019999999, 5.0626052, 5.055500699, 5.04182, 5.027136980000001, 5.0169459561, 4.9986622844, 4.90232792, 4.85791958, 4.828359679999999, 4.81404814, 4.6916863499999995, 4.59745, 4.556045559999999, 4.47, 4.41270536, 4.3397678628000005, 4.1183235, 4.0919967999999995, 4.08963398, 4.06516929, 4.0592111200000005, 3.961376409, 3.8365395, 3.76866672, 3.6203330835000003, 3.5433467999999997, 3.41806836, 3.3680993736000002, 3.17020035, 3.1489331986, 3.1148101916, 3.036, 2.925, 2.919961902, 2.67702677, 2.5530255299999998, 2.543175, 2.5324853246, 2.46425655, 2.4400488, 2.400024, 2.3562, 2.29980933, 2.250045, 2.105422965, 2.08604172, 1.9930298598, 1.96903938, 1.84365152, 1.64012641, 1.4480579199999999, 1.2829572, 1.2145, 1.07755, 1.0042437343, 0.8110916]}],\n",
              "                        {\"margin\": {\"b\": 80, \"l\": 40, \"r\": 30, \"t\": 100}, \"paper_bgcolor\": \"rgb(243, 243, 243)\", \"plot_bgcolor\": \"rgb(243, 243, 243)\", \"showlegend\": false, \"template\": {\"data\": {\"bar\": [{\"error_x\": {\"color\": \"#2a3f5f\"}, \"error_y\": {\"color\": \"#2a3f5f\"}, \"marker\": {\"line\": {\"color\": \"#E5ECF6\", \"width\": 0.5}}, \"type\": \"bar\"}], \"barpolar\": [{\"marker\": {\"line\": {\"color\": \"#E5ECF6\", \"width\": 0.5}}, \"type\": \"barpolar\"}], \"carpet\": [{\"aaxis\": {\"endlinecolor\": \"#2a3f5f\", \"gridcolor\": \"white\", \"linecolor\": \"white\", \"minorgridcolor\": \"white\", \"startlinecolor\": \"#2a3f5f\"}, \"baxis\": {\"endlinecolor\": \"#2a3f5f\", \"gridcolor\": \"white\", \"linecolor\": \"white\", \"minorgridcolor\": \"white\", \"startlinecolor\": \"#2a3f5f\"}, \"type\": \"carpet\"}], \"choropleth\": [{\"colorbar\": {\"outlinewidth\": 0, \"ticks\": \"\"}, \"type\": \"choropleth\"}], \"contour\": [{\"colorbar\": {\"outlinewidth\": 0, \"ticks\": \"\"}, \"colorscale\": [[0.0, \"#0d0887\"], [0.1111111111111111, \"#46039f\"], [0.2222222222222222, \"#7201a8\"], [0.3333333333333333, \"#9c179e\"], [0.4444444444444444, \"#bd3786\"], [0.5555555555555556, \"#d8576b\"], [0.6666666666666666, \"#ed7953\"], [0.7777777777777778, \"#fb9f3a\"], [0.8888888888888888, \"#fdca26\"], [1.0, \"#f0f921\"]], \"type\": \"contour\"}], \"contourcarpet\": [{\"colorbar\": {\"outlinewidth\": 0, \"ticks\": \"\"}, \"type\": \"contourcarpet\"}], \"heatmap\": [{\"colorbar\": {\"outlinewidth\": 0, \"ticks\": \"\"}, \"colorscale\": [[0.0, \"#0d0887\"], [0.1111111111111111, \"#46039f\"], [0.2222222222222222, \"#7201a8\"], [0.3333333333333333, \"#9c179e\"], [0.4444444444444444, \"#bd3786\"], [0.5555555555555556, \"#d8576b\"], [0.6666666666666666, \"#ed7953\"], [0.7777777777777778, \"#fb9f3a\"], [0.8888888888888888, \"#fdca26\"], [1.0, \"#f0f921\"]], \"type\": \"heatmap\"}], \"heatmapgl\": [{\"colorbar\": {\"outlinewidth\": 0, \"ticks\": \"\"}, \"colorscale\": [[0.0, \"#0d0887\"], [0.1111111111111111, \"#46039f\"], [0.2222222222222222, \"#7201a8\"], [0.3333333333333333, \"#9c179e\"], [0.4444444444444444, \"#bd3786\"], [0.5555555555555556, \"#d8576b\"], [0.6666666666666666, \"#ed7953\"], [0.7777777777777778, \"#fb9f3a\"], [0.8888888888888888, \"#fdca26\"], [1.0, \"#f0f921\"]], \"type\": \"heatmapgl\"}], \"histogram\": [{\"marker\": {\"colorbar\": {\"outlinewidth\": 0, \"ticks\": \"\"}}, \"type\": \"histogram\"}], \"histogram2d\": [{\"colorbar\": {\"outlinewidth\": 0, \"ticks\": \"\"}, \"colorscale\": [[0.0, \"#0d0887\"], [0.1111111111111111, \"#46039f\"], [0.2222222222222222, \"#7201a8\"], [0.3333333333333333, \"#9c179e\"], [0.4444444444444444, \"#bd3786\"], [0.5555555555555556, \"#d8576b\"], [0.6666666666666666, \"#ed7953\"], [0.7777777777777778, \"#fb9f3a\"], [0.8888888888888888, \"#fdca26\"], [1.0, \"#f0f921\"]], \"type\": \"histogram2d\"}], \"histogram2dcontour\": [{\"colorbar\": {\"outlinewidth\": 0, \"ticks\": \"\"}, \"colorscale\": [[0.0, \"#0d0887\"], [0.1111111111111111, \"#46039f\"], [0.2222222222222222, \"#7201a8\"], [0.3333333333333333, \"#9c179e\"], [0.4444444444444444, \"#bd3786\"], [0.5555555555555556, \"#d8576b\"], [0.6666666666666666, \"#ed7953\"], [0.7777777777777778, \"#fb9f3a\"], [0.8888888888888888, \"#fdca26\"], [1.0, \"#f0f921\"]], \"type\": \"histogram2dcontour\"}], \"mesh3d\": [{\"colorbar\": {\"outlinewidth\": 0, \"ticks\": \"\"}, \"type\": \"mesh3d\"}], \"parcoords\": [{\"line\": {\"colorbar\": {\"outlinewidth\": 0, \"ticks\": \"\"}}, \"type\": \"parcoords\"}], \"pie\": [{\"automargin\": true, \"type\": \"pie\"}], \"scatter\": [{\"marker\": {\"colorbar\": {\"outlinewidth\": 0, \"ticks\": \"\"}}, \"type\": \"scatter\"}], \"scatter3d\": [{\"line\": {\"colorbar\": {\"outlinewidth\": 0, \"ticks\": \"\"}}, \"marker\": {\"colorbar\": {\"outlinewidth\": 0, \"ticks\": \"\"}}, \"type\": \"scatter3d\"}], \"scattercarpet\": [{\"marker\": {\"colorbar\": {\"outlinewidth\": 0, \"ticks\": \"\"}}, \"type\": \"scattercarpet\"}], \"scattergeo\": [{\"marker\": {\"colorbar\": {\"outlinewidth\": 0, \"ticks\": \"\"}}, \"type\": \"scattergeo\"}], \"scattergl\": [{\"marker\": {\"colorbar\": {\"outlinewidth\": 0, \"ticks\": \"\"}}, \"type\": \"scattergl\"}], \"scattermapbox\": [{\"marker\": {\"colorbar\": {\"outlinewidth\": 0, \"ticks\": \"\"}}, \"type\": \"scattermapbox\"}], \"scatterpolar\": [{\"marker\": {\"colorbar\": {\"outlinewidth\": 0, \"ticks\": \"\"}}, \"type\": \"scatterpolar\"}], \"scatterpolargl\": [{\"marker\": {\"colorbar\": {\"outlinewidth\": 0, \"ticks\": \"\"}}, \"type\": \"scatterpolargl\"}], \"scatterternary\": [{\"marker\": {\"colorbar\": {\"outlinewidth\": 0, \"ticks\": \"\"}}, \"type\": \"scatterternary\"}], \"surface\": [{\"colorbar\": {\"outlinewidth\": 0, \"ticks\": \"\"}, \"colorscale\": [[0.0, \"#0d0887\"], [0.1111111111111111, \"#46039f\"], [0.2222222222222222, \"#7201a8\"], [0.3333333333333333, \"#9c179e\"], [0.4444444444444444, \"#bd3786\"], [0.5555555555555556, \"#d8576b\"], [0.6666666666666666, \"#ed7953\"], [0.7777777777777778, \"#fb9f3a\"], [0.8888888888888888, \"#fdca26\"], [1.0, \"#f0f921\"]], \"type\": \"surface\"}], \"table\": [{\"cells\": {\"fill\": {\"color\": \"#EBF0F8\"}, \"line\": {\"color\": \"white\"}}, \"header\": {\"fill\": {\"color\": \"#C8D4E3\"}, \"line\": {\"color\": \"white\"}}, \"type\": \"table\"}]}, \"layout\": {\"annotationdefaults\": {\"arrowcolor\": \"#2a3f5f\", \"arrowhead\": 0, \"arrowwidth\": 1}, \"coloraxis\": {\"colorbar\": {\"outlinewidth\": 0, \"ticks\": \"\"}}, \"colorscale\": {\"diverging\": [[0, \"#8e0152\"], [0.1, \"#c51b7d\"], [0.2, \"#de77ae\"], [0.3, \"#f1b6da\"], [0.4, \"#fde0ef\"], [0.5, \"#f7f7f7\"], [0.6, \"#e6f5d0\"], [0.7, \"#b8e186\"], [0.8, \"#7fbc41\"], [0.9, \"#4d9221\"], [1, \"#276419\"]], \"sequential\": [[0.0, \"#0d0887\"], [0.1111111111111111, \"#46039f\"], [0.2222222222222222, \"#7201a8\"], [0.3333333333333333, \"#9c179e\"], [0.4444444444444444, \"#bd3786\"], [0.5555555555555556, \"#d8576b\"], [0.6666666666666666, \"#ed7953\"], [0.7777777777777778, \"#fb9f3a\"], [0.8888888888888888, \"#fdca26\"], [1.0, \"#f0f921\"]], \"sequentialminus\": [[0.0, \"#0d0887\"], [0.1111111111111111, \"#46039f\"], [0.2222222222222222, \"#7201a8\"], [0.3333333333333333, \"#9c179e\"], [0.4444444444444444, \"#bd3786\"], [0.5555555555555556, \"#d8576b\"], [0.6666666666666666, \"#ed7953\"], [0.7777777777777778, \"#fb9f3a\"], [0.8888888888888888, \"#fdca26\"], [1.0, \"#f0f921\"]]}, \"colorway\": [\"#636efa\", \"#EF553B\", \"#00cc96\", \"#ab63fa\", \"#FFA15A\", \"#19d3f3\", \"#FF6692\", \"#B6E880\", \"#FF97FF\", \"#FECB52\"], \"font\": {\"color\": \"#2a3f5f\"}, \"geo\": {\"bgcolor\": \"white\", \"lakecolor\": \"white\", \"landcolor\": \"#E5ECF6\", \"showlakes\": true, \"showland\": true, \"subunitcolor\": \"white\"}, \"hoverlabel\": {\"align\": \"left\"}, \"hovermode\": \"closest\", \"mapbox\": {\"style\": \"light\"}, \"paper_bgcolor\": \"white\", \"plot_bgcolor\": \"#E5ECF6\", \"polar\": {\"angularaxis\": {\"gridcolor\": \"white\", \"linecolor\": \"white\", \"ticks\": \"\"}, \"bgcolor\": \"#E5ECF6\", \"radialaxis\": {\"gridcolor\": \"white\", \"linecolor\": \"white\", \"ticks\": \"\"}}, \"scene\": {\"xaxis\": {\"backgroundcolor\": \"#E5ECF6\", \"gridcolor\": \"white\", \"gridwidth\": 2, \"linecolor\": \"white\", \"showbackground\": true, \"ticks\": \"\", \"zerolinecolor\": \"white\"}, \"yaxis\": {\"backgroundcolor\": \"#E5ECF6\", \"gridcolor\": \"white\", \"gridwidth\": 2, \"linecolor\": \"white\", \"showbackground\": true, \"ticks\": \"\", \"zerolinecolor\": \"white\"}, \"zaxis\": {\"backgroundcolor\": \"#E5ECF6\", \"gridcolor\": \"white\", \"gridwidth\": 2, \"linecolor\": \"white\", \"showbackground\": true, \"ticks\": \"\", \"zerolinecolor\": \"white\"}}, \"shapedefaults\": {\"line\": {\"color\": \"#2a3f5f\"}}, \"ternary\": {\"aaxis\": {\"gridcolor\": \"white\", \"linecolor\": \"white\", \"ticks\": \"\"}, \"baxis\": {\"gridcolor\": \"white\", \"linecolor\": \"white\", \"ticks\": \"\"}, \"bgcolor\": \"#E5ECF6\", \"caxis\": {\"gridcolor\": \"white\", \"linecolor\": \"white\", \"ticks\": \"\"}}, \"title\": {\"x\": 0.05}, \"xaxis\": {\"automargin\": true, \"gridcolor\": \"white\", \"linecolor\": \"white\", \"ticks\": \"\", \"title\": {\"standoff\": 15}, \"zerolinecolor\": \"white\", \"zerolinewidth\": 2}, \"yaxis\": {\"automargin\": true, \"gridcolor\": \"white\", \"linecolor\": \"white\", \"ticks\": \"\", \"title\": {\"standoff\": 15}, \"zerolinecolor\": \"white\", \"zerolinewidth\": 2}}}, \"title\": {\"text\": \"Boxplot Showing Quartiles and Outliers in Different Sectors\"}, \"yaxis\": {\"autorange\": true, \"dtick\": 5, \"gridcolor\": \"rgb(255, 255, 255)\", \"gridwidth\": 1, \"range\": [0, 10.5], \"showgrid\": true, \"zeroline\": true, \"zerolinecolor\": \"rgb(255, 255, 255)\", \"zerolinewidth\": 2}},\n",
              "                        {\"responsive\": true}\n",
              "                    ).then(function(){\n",
              "                            \n",
              "var gd = document.getElementById('68f88fb4-1a34-41ee-a37e-e5d5dd04ac8d');\n",
              "var x = new MutationObserver(function (mutations, observer) {{\n",
              "        var display = window.getComputedStyle(gd).display;\n",
              "        if (!display || display === 'none') {{\n",
              "            console.log([gd, 'removed!']);\n",
              "            Plotly.purge(gd);\n",
              "            observer.disconnect();\n",
              "        }}\n",
              "}});\n",
              "\n",
              "// Listen for the removal of the full notebook cells\n",
              "var notebookContainer = gd.closest('#notebook-container');\n",
              "if (notebookContainer) {{\n",
              "    x.observe(notebookContainer, {childList: true});\n",
              "}}\n",
              "\n",
              "// Listen for the clearing of the current output cell\n",
              "var outputEl = gd.closest('.output');\n",
              "if (outputEl) {{\n",
              "    x.observe(outputEl, {childList: true});\n",
              "}}\n",
              "\n",
              "                        })\n",
              "                };\n",
              "                \n",
              "            </script>\n",
              "        </div>\n",
              "</body>\n",
              "</html>"
            ]
          },
          "metadata": {
            "tags": []
          }
        }
      ]
    }
  ]
}